{
 "metadata": {
  "name": "",
  "signature": "sha256:c91e05c3323a1bdbfc91e867b0ed8bb9b9cde4cdb0af75c2b97a9ab63e068058"
 },
 "nbformat": 3,
 "nbformat_minor": 0,
 "worksheets": [
  {
   "cells": [
    {
     "cell_type": "code",
     "collapsed": false,
     "input": [
      "import pandas\n",
      "import mysql.connector\n",
      "# set up connections to the DB\n",
      "conn = mysql.connector.Connect(host='localhost',user='root',\\\n",
      "                        password='',database='social')\n",
      "#LOAD the SQL tables into DF\n",
      "qryFr = \"\"\"\n",
      "        SELECT * From Friend\n",
      "      \"\"\"\n",
      "qryHs = \"\"\"\n",
      "        SELECT * From Highschooler\n",
      "      \"\"\"\n",
      "qryLi = \"\"\"\n",
      "        SELECT * From Likes\n",
      "      \"\"\"\n",
      "frndDF = pandas.read_sql( qryFr, conn )\n",
      "hsDF = pandas.read_sql( qryHs, conn )\n",
      "likesDF = pandas.read_sql( qryLi, conn )"
     ],
     "language": "python",
     "metadata": {},
     "outputs": [],
     "prompt_number": 1
    },
    {
     "cell_type": "code",
     "collapsed": false,
     "input": [],
     "language": "python",
     "metadata": {},
     "outputs": []
    }
   ],
   "metadata": {}
  }
 ]
}