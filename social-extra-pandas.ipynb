{
 "metadata": {
  "name": "",
  "signature": "sha256:c9f50c50fc0dbc6ad36b9ef6f5e9b0fbec854c7974da233894945bf252fed9f3"
 },
 "nbformat": 3,
 "nbformat_minor": 0,
 "worksheets": [
  {
   "cells": [
    {
     "cell_type": "code",
     "collapsed": false,
     "input": [
      "import pandas\n",
      "import mysql.connector\n",
      "# set up connections to the DB\n",
      "conn = mysql.connector.Connect(host='localhost',user='root',\\\n",
      "                        password='',database='social')\n",
      "#LOAD the SQL tables into DF\n",
      "qryFr = \"\"\"\n",
      "        SELECT * From Friend\n",
      "      \"\"\"\n",
      "qryHs = \"\"\"\n",
      "        SELECT * From Highschooler\n",
      "      \"\"\"\n",
      "qryLi = \"\"\"\n",
      "        SELECT * From Likes\n",
      "      \"\"\"\n",
      "frndDF = pandas.read_sql( qryFr, conn )\n",
      "hsDF = pandas.read_sql( qryHs, conn )\n",
      "likesDF = pandas.read_sql( qryLi, conn )"
     ],
     "language": "python",
     "metadata": {},
     "outputs": [],
     "prompt_number": 1
    },
    {
     "cell_type": "code",
     "collapsed": false,
     "input": [
      "# Methods used : merge(inner, using left_on, right_on), drop()\n",
      "# Merge likesDF on itself\n",
      "resDF = pandas.merge( likesDF, likesDF, \\\n",
      "                     left_on = 'ID2',\\\n",
      "                     right_on = 'ID1', how='inner')\n",
      "# Now take out the ID's who mutually like each other\n",
      "resDF = resDF[ resDF['ID1_x'] != resDF['ID2_y'] ]\n",
      "# drop unnecessary columns and merge resDF with hsDF\n",
      "# to get the name and grade details from all the IDs\n",
      "resDF.drop( 'ID1_y', 1, inplace=True )\n",
      "resDF = pandas.merge( resDF, hsDF, \\\n",
      "                     left_on = 'ID1_x',\\\n",
      "                     right_on = 'ID', how='inner')\n",
      "resDF.drop( ['ID1_x', 'ID'], 1, inplace=True )\n",
      "resDF = pandas.merge( resDF, hsDF, \\\n",
      "                     left_on = 'ID2_x',\\\n",
      "                     right_on = 'ID', how='inner')\n",
      "resDF.drop( ['ID2_x', 'ID'], 1, inplace=True )\n",
      "resDF = pandas.merge( resDF, hsDF, \\\n",
      "                     left_on = 'ID2_y',\\\n",
      "                     right_on = 'ID', how='inner')\n",
      "resDF.drop( ['ID2_y', 'ID'], 1, inplace=True )\n",
      "print resDF"
     ],
     "language": "python",
     "metadata": {},
     "outputs": [
      {
       "output_type": "stream",
       "stream": "stdout",
       "text": [
        "    name_x  grade_x     name_y  grade_y     name  grade\n",
        "0   Andrew       10  Cassandra        9  Gabriel      9\n",
        "1  Gabriel       11     Alexis       11     Kris     10\n",
        "\n",
        "[2 rows x 6 columns]\n"
       ]
      }
     ],
     "prompt_number": 12
    },
    {
     "cell_type": "code",
     "collapsed": false,
     "input": [
      "# Methods used : merge, drop(), tolist(), isin()\n",
      "# Merge hsDF with frndDF\n",
      "resDF = pandas.merge( hsDF, frndDF, \\\n",
      "                     left_on = 'ID',\\\n",
      "                     right_on = 'ID1', how='inner')\n",
      "resDF = pandas.merge( resDF, hsDF, \\\n",
      "                     left_on = 'ID2',\\\n",
      "                     right_on = 'ID', how='inner')\n",
      "resDF.drop( ['ID1', 'ID2'], 1, inplace=True )\n",
      "# select all students who have frnds in same grade\n",
      "resDF = resDF[ resDF['grade_x'] - resDF['grade_y'] == 0 ]\n",
      "# get a list of their IDs\n",
      "idList = resDF['ID_x'].tolist()\n",
      "# get the name and grades of students \n",
      "# not in the list from hsDF\n",
      "resDF = hsDF[ ~hsDF['ID'].isin(idList) ]\n",
      "print resDF[ ['name', 'grade'] ].reset_index(drop=True)"
     ],
     "language": "python",
     "metadata": {},
     "outputs": [
      {
       "output_type": "stream",
       "stream": "stdout",
       "text": [
        "     name  grade\n",
        "0  Austin     11\n",
        "\n",
        "[1 rows x 2 columns]\n"
       ]
      }
     ],
     "prompt_number": 19
    },
    {
     "cell_type": "code",
     "collapsed": false,
     "input": [],
     "language": "python",
     "metadata": {},
     "outputs": []
    }
   ],
   "metadata": {}
  }
 ]
}