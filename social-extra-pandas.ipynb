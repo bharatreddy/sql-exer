{
 "metadata": {
  "name": "",
  "signature": "sha256:9cb50d967659672e9a3fc1fd2582f93e8cd7d79544af350dc7aed917baf5e654"
 },
 "nbformat": 3,
 "nbformat_minor": 0,
 "worksheets": [
  {
   "cells": [
    {
     "cell_type": "code",
     "collapsed": false,
     "input": [
      "import pandas\n",
      "import mysql.connector\n",
      "# set up connections to the DB\n",
      "conn = mysql.connector.Connect(host='localhost',user='root',\\\n",
      "                        password='',database='social')\n",
      "#LOAD the SQL tables into DF\n",
      "qryFr = \"\"\"\n",
      "        SELECT * From Friend\n",
      "      \"\"\"\n",
      "qryHs = \"\"\"\n",
      "        SELECT * From Highschooler\n",
      "      \"\"\"\n",
      "qryLi = \"\"\"\n",
      "        SELECT * From Likes\n",
      "      \"\"\"\n",
      "frndDF = pandas.read_sql( qryFr, conn )\n",
      "hsDF = pandas.read_sql( qryHs, conn )\n",
      "likesDF = pandas.read_sql( qryLi, conn )"
     ],
     "language": "python",
     "metadata": {},
     "outputs": [],
     "prompt_number": 1
    },
    {
     "cell_type": "code",
     "collapsed": false,
     "input": [
      "# Methods used : merge(inner, using left_on, right_on), drop()\n",
      "# Merge likesDF on itself\n",
      "resDF = pandas.merge( likesDF, likesDF, \\\n",
      "                     left_on = 'ID2',\\\n",
      "                     right_on = 'ID1', how='inner')\n",
      "# Now take out the ID's who mutually like each other\n",
      "resDF = resDF[ resDF['ID1_x'] != resDF['ID2_y'] ]\n",
      "# drop unnecessary columns and merge resDF with hsDF\n",
      "# to get the name and grade details from all the IDs\n",
      "resDF.drop( 'ID1_y', 1, inplace=True )\n",
      "resDF = pandas.merge( resDF, hsDF, \\\n",
      "                     left_on = 'ID1_x',\\\n",
      "                     right_on = 'ID', how='inner')\n",
      "resDF.drop( ['ID1_x', 'ID'], 1, inplace=True )\n",
      "print resDF\n",
      "\n",
      "qry = \"\"\"\n",
      "        SELECT hs1.name, hs1.grade, hs2.name, hs2.grade, hs3.name, hs3.grade\n",
      "        FROM Highschooler hs1\n",
      "        INNER JOIN Likes l1 ON l1. ID1 = hs1.ID\n",
      "        INNER JOIN Likes l2 ON l1.ID2=l2.ID1 AND l1.ID1 != l2.ID2\n",
      "        INNER JOIN Highschooler hs2 ON hs2.ID=l2.ID1\n",
      "        INNER JOIN Highschooler hs3 ON hs3.ID=l2.ID2\n",
      "      \"\"\""
     ],
     "language": "python",
     "metadata": {},
     "outputs": [
      {
       "output_type": "stream",
       "stream": "stdout",
       "text": [
        "   ID2_x  ID2_y     name  grade\n",
        "0   1709   1689   Andrew     10\n",
        "1   1247   1468  Gabriel     11\n",
        "\n",
        "[2 rows x 4 columns]\n"
       ]
      }
     ],
     "prompt_number": 9
    },
    {
     "cell_type": "code",
     "collapsed": false,
     "input": [],
     "language": "python",
     "metadata": {},
     "outputs": []
    }
   ],
   "metadata": {}
  }
 ]
}