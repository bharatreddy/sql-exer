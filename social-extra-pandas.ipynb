{
 "metadata": {
  "name": "",
  "signature": "sha256:24aeb2ad6c7bde28c81b63e487259f2ad8d613c0472c00ba267454ed50b92f5d"
 },
 "nbformat": 3,
 "nbformat_minor": 0,
 "worksheets": [
  {
   "cells": [
    {
     "cell_type": "code",
     "collapsed": false,
     "input": [
      "import pandas\n",
      "import mysql.connector\n",
      "# set up connections to the DB\n",
      "conn = mysql.connector.Connect(host='localhost',user='root',\\\n",
      "                        password='',database='social')\n",
      "#LOAD the SQL tables into DF\n",
      "qryFr = \"\"\"\n",
      "        SELECT * From Friend\n",
      "      \"\"\"\n",
      "qryHs = \"\"\"\n",
      "        SELECT * From Highschooler\n",
      "      \"\"\"\n",
      "qryLi = \"\"\"\n",
      "        SELECT * From Likes\n",
      "      \"\"\"\n",
      "frndDF = pandas.read_sql( qryFr, conn )\n",
      "hsDF = pandas.read_sql( qryHs, conn )\n",
      "likesDF = pandas.read_sql( qryLi, conn )"
     ],
     "language": "python",
     "metadata": {},
     "outputs": [],
     "prompt_number": 1
    },
    {
     "cell_type": "code",
     "collapsed": false,
     "input": [
      "# Methods used : merge(inner, using left_on, right_on), drop()\n",
      "# Merge likesDF on itself\n",
      "resDF = pandas.merge( likesDF, likesDF, \\\n",
      "                     left_on = 'ID2',\\\n",
      "                     right_on = 'ID1', how='inner')\n",
      "# Now take out the ID's who mutually like each other\n",
      "resDF = resDF[ resDF['ID1_x'] != resDF['ID2_y'] ]\n",
      "# drop unnecessary columns and merge resDF with hsDF\n",
      "# to get the name and grade details from all the IDs\n",
      "resDF.drop( 'ID1_y', 1, inplace=True )\n",
      "resDF = pandas.merge( resDF, hsDF, \\\n",
      "                     left_on = 'ID1_x',\\\n",
      "                     right_on = 'ID', how='inner')\n",
      "resDF.drop( ['ID1_x', 'ID'], 1, inplace=True )\n",
      "resDF = pandas.merge( resDF, hsDF, \\\n",
      "                     left_on = 'ID2_x',\\\n",
      "                     right_on = 'ID', how='inner')\n",
      "resDF.drop( ['ID2_x', 'ID'], 1, inplace=True )\n",
      "resDF = pandas.merge( resDF, hsDF, \\\n",
      "                     left_on = 'ID2_y',\\\n",
      "                     right_on = 'ID', how='inner')\n",
      "resDF.drop( ['ID2_y', 'ID'], 1, inplace=True )\n",
      "print resDF"
     ],
     "language": "python",
     "metadata": {},
     "outputs": [
      {
       "output_type": "stream",
       "stream": "stdout",
       "text": [
        "    name_x  grade_x     name_y  grade_y     name  grade\n",
        "0   Andrew       10  Cassandra        9  Gabriel      9\n",
        "1  Gabriel       11     Alexis       11     Kris     10\n",
        "\n",
        "[2 rows x 6 columns]\n"
       ]
      }
     ],
     "prompt_number": 2
    },
    {
     "cell_type": "code",
     "collapsed": false,
     "input": [
      "# Methods used : merge, drop(), tolist(), isin()\n",
      "# Merge hsDF with frndDF\n",
      "resDF = pandas.merge( hsDF, frndDF, \\\n",
      "                     left_on = 'ID',\\\n",
      "                     right_on = 'ID1', how='inner')\n",
      "resDF = pandas.merge( resDF, hsDF, \\\n",
      "                     left_on = 'ID2',\\\n",
      "                     right_on = 'ID', how='inner')\n",
      "resDF.drop( ['ID1', 'ID2'], 1, inplace=True )\n",
      "# select all students who have frnds in same grade\n",
      "resDF = resDF[ resDF['grade_x'] - resDF['grade_y'] == 0 ]\n",
      "# get a list of their IDs\n",
      "idList = resDF['ID_x'].tolist()\n",
      "# get the name and grades of students \n",
      "# not in the list from hsDF\n",
      "resDF = hsDF[ ~hsDF['ID'].isin(idList) ]\n",
      "print resDF[ ['name', 'grade'] ].reset_index(drop=True)"
     ],
     "language": "python",
     "metadata": {},
     "outputs": [
      {
       "output_type": "stream",
       "stream": "stdout",
       "text": [
        "     name  grade\n",
        "0  Austin     11\n",
        "\n",
        "[1 rows x 2 columns]\n"
       ]
      }
     ],
     "prompt_number": 3
    },
    {
     "cell_type": "code",
     "collapsed": false,
     "input": [
      "# Methods used : groupby(), count(), mean()\n",
      "# groupby frndDF on ID1 and get counts of ID2\n",
      "frndGrps = frndDF.groupby( ['ID1'] )\n",
      "# get number of frnds for each student\n",
      "nFrnds = frndGrps['ID2'].count()\n",
      "print nFrnds.mean()"
     ],
     "language": "python",
     "metadata": {},
     "outputs": [
      {
       "output_type": "stream",
       "stream": "stdout",
       "text": [
        "2.5\n"
       ]
      }
     ],
     "prompt_number": 12
    },
    {
     "cell_type": "code",
     "collapsed": false,
     "input": [
      "# Methods used : groupby(), count(), mean()\n",
      "# Get the ID of 'Cassandra'\n",
      "idCsn = hsDF[ hsDF['name'] == 'Cassandra' ]\\\n",
      "        ['ID'].values[0]\n",
      "# get all friends of this particular ID\n",
      "frndList = frndDF[ frndDF['ID1'] == idCsn ]\\\n",
      "            ['ID2'].tolist()\n",
      "# get friends of friends as well and make \n",
      "# it a set to get unique values\n",
      "frndList = set( frndList + frndDF\\\n",
      "        [ ( frndDF['ID1'].isin(frndList) )\\\n",
      "         & (frndDF['ID2'] != idCsn) ]['ID2'].\\\n",
      "        tolist() )\n",
      "print len(frndList)"
     ],
     "language": "python",
     "metadata": {},
     "outputs": [
      {
       "output_type": "stream",
       "stream": "stdout",
       "text": [
        "7\n"
       ]
      }
     ],
     "prompt_number": 24
    },
    {
     "cell_type": "code",
     "collapsed": false,
     "input": [
      "# Methods used : groupby(), count(), mean()\n",
      "# Groupby ID1 and get max frnd number\n",
      "frndGrps = frndDF.groupby( 'ID1' )\n",
      "maxFrnds = frndGrps['ID2'].count().max()\n",
      "# get ID with max frnds\n",
      "countIdSer = frndGrps['ID2'].count()\n",
      "idMaxFrnd = countIdSer[ countIdSer == maxFrnds ]\n",
      "# get name, grade for the IDs\n",
      "resDF = hsDF[ hsDF['ID'].isin(idMaxFrnd.index.values) ]\\\n",
      "        [ ['name','grade'] ]\n",
      "print resDF.reset_index(drop=True)\n",
      "qry = \"\"\"\n",
      "        SELECT name, grade FROM Highschooler\n",
      "        INNER JOIN ( \n",
      "        SELECT ID1 FROM Friend\n",
      "        GROUP BY ID1\n",
      "        HAVING COUNT(ID1) =\n",
      "        ( SELECT COUNT(ID2) FROM Friend\n",
      "        GROUP BY ID1\n",
      "        ORDER BY COUNT(ID2) DESC \n",
      "        LIMIT 1 )\n",
      "        ) T\n",
      "        ON ID = T.ID1\n",
      "      \"\"\""
     ],
     "language": "python",
     "metadata": {},
     "outputs": [
      {
       "output_type": "stream",
       "stream": "stdout",
       "text": [
        "     name  grade\n",
        "0  Andrew     10\n",
        "1  Alexis     11\n",
        "\n",
        "[2 rows x 2 columns]\n"
       ]
      }
     ],
     "prompt_number": 43
    }
   ],
   "metadata": {}
  }
 ]
}