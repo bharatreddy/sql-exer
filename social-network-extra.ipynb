{
 "metadata": {
  "name": "",
  "signature": "sha256:c3e4d13ae1ed72b62cf92f98c631f58e14216875305421653f23fdb01266e3bd"
 },
 "nbformat": 3,
 "nbformat_minor": 0,
 "worksheets": [
  {
   "cells": [
    {
     "cell_type": "markdown",
     "metadata": {},
     "source": [
      "> SQL exercise questions from Courseera - Introduction to Databases course\n",
      ">> SQL Social-Network Query Exercises (extra set)"
     ]
    },
    {
     "cell_type": "code",
     "collapsed": false,
     "input": [
      "import pandas\n",
      "import mysql.connector\n",
      "# set up connections to the DB\n",
      "conn = mysql.connector.Connect(host='localhost',user='root',\\\n",
      "                        password='',database='social')"
     ],
     "language": "python",
     "metadata": {},
     "outputs": [],
     "prompt_number": 1
    },
    {
     "cell_type": "markdown",
     "metadata": {},
     "source": [
      "> Question-1 : For every situation where student A likes student B, but student B likes a different student C, return the names and grades of A, B, and C."
     ]
    },
    {
     "cell_type": "code",
     "collapsed": false,
     "input": [
      "#SQL query\n",
      "qry = \"\"\"\n",
      "        SELECT hs1.name, hs1.grade, hs2.name, hs2.grade, hs3.name, hs3.grade\n",
      "        FROM Highschooler hs1\n",
      "        INNER JOIN Likes l1 ON l1. ID1 = hs1.ID\n",
      "        INNER JOIN Likes l2 ON l1.ID2=l2.ID1 AND l1.ID1 != l2.ID2\n",
      "        INNER JOIN Highschooler hs2 ON hs2.ID=l2.ID1\n",
      "        INNER JOIN Highschooler hs3 ON hs3.ID=l2.ID2\n",
      "      \"\"\"\n",
      "# get the data\n",
      "qDF = pandas.read_sql( qry, conn )\n",
      "# print the data\n",
      "print qDF"
     ],
     "language": "python",
     "metadata": {},
     "outputs": [
      {
       "output_type": "stream",
       "stream": "stdout",
       "text": [
        "      name  grade       name  grade     name  grade\n",
        "0   Andrew     10  Cassandra      9  Gabriel      9\n",
        "1  Gabriel     11     Alexis     11     Kris     10\n",
        "\n",
        "[2 rows x 6 columns]\n"
       ]
      }
     ],
     "prompt_number": 2
    },
    {
     "cell_type": "markdown",
     "metadata": {},
     "source": [
      "> Question-2 : Find those students for whom all of their friends are in different grades from themselves. Return the students' names and grades."
     ]
    },
    {
     "cell_type": "code",
     "collapsed": false,
     "input": [
      "#SQL query\n",
      "qry = \"\"\"\n",
      "        SELECT name, grade FROM Highschooler WHERE ID NOT IN\n",
      "        (SELECT hs1.ID FROM Highschooler hs1\n",
      "        INNER JOIN Friend f1 ON f1.ID1=hs1.ID\n",
      "        INNER JOIN Highschooler hs2 ON f1.ID2=hs2.ID\n",
      "        WHERE hs1.grade-hs2.grade = 0 )\n",
      "      \"\"\"\n",
      "# get the data\n",
      "qDF = pandas.read_sql( qry, conn )\n",
      "# print the data\n",
      "print qDF"
     ],
     "language": "python",
     "metadata": {},
     "outputs": [
      {
       "output_type": "stream",
       "stream": "stdout",
       "text": [
        "     name  grade\n",
        "0  Austin     11\n",
        "\n",
        "[1 rows x 2 columns]\n"
       ]
      }
     ],
     "prompt_number": 3
    },
    {
     "cell_type": "markdown",
     "metadata": {},
     "source": [
      "> Question-3 : What is the average number of friends per student? (Your result should be just one number.) "
     ]
    },
    {
     "cell_type": "code",
     "collapsed": false,
     "input": [
      "#SQL query\n",
      "qry = \"\"\"\n",
      "        SELECT AVG(T.cnt_by_frnd) FROM ( SELECT ID1, COUNT(ID2) cnt_by_frnd FROM Friend\n",
      "        GROUP BY ID1 ) T\n",
      "      \"\"\"\n",
      "# get the data\n",
      "qDF = pandas.read_sql( qry, conn )\n",
      "# print the data\n",
      "print qDF"
     ],
     "language": "python",
     "metadata": {},
     "outputs": [
      {
       "output_type": "stream",
       "stream": "stdout",
       "text": [
        "   AVG(T.cnt_by_frnd)\n",
        "0                 2.5\n",
        "\n",
        "[1 rows x 1 columns]\n"
       ]
      }
     ],
     "prompt_number": 4
    },
    {
     "cell_type": "markdown",
     "metadata": {},
     "source": [
      "> Question-4 : Find the number of students who are either friends with Cassandra or are friends of friends of Cassandra. Do not count Cassandra, even though technically she is a friend of a friend. "
     ]
    },
    {
     "cell_type": "code",
     "collapsed": false,
     "input": [
      "#SQL query\n",
      "qry = \"\"\"\n",
      "        SELECT COUNT(ID2) FROM Friend WHERE ID1 IN ( SELECT ID2 FROM Friend \n",
      "        WHERE ID2 != ( SELECT ID FROM Highschooler \n",
      "        WHERE name = 'Cassandra' ) \n",
      "        AND (ID1 = ( SELECT ID FROM Highschooler \n",
      "        WHERE name = 'Cassandra' ) ) \n",
      "        OR ID1 =  ( SELECT ID FROM Highschooler \n",
      "        WHERE name = 'Cassandra' ) )\n",
      "      \"\"\"\n",
      "# get the data\n",
      "qDF = pandas.read_sql( qry, conn )\n",
      "# print the data\n",
      "print qDF"
     ],
     "language": "python",
     "metadata": {},
     "outputs": [
      {
       "output_type": "stream",
       "stream": "stdout",
       "text": [
        "   COUNT(ID2)\n",
        "0           7\n",
        "\n",
        "[1 rows x 1 columns]\n"
       ]
      }
     ],
     "prompt_number": 5
    },
    {
     "cell_type": "markdown",
     "metadata": {},
     "source": [
      "> Question-5 : Find the name and grade of the student(s) with the greatest number of friends. "
     ]
    },
    {
     "cell_type": "code",
     "collapsed": false,
     "input": [
      "#SQL query\n",
      "qry = \"\"\"\n",
      "        SELECT name, grade FROM Highschooler\n",
      "        INNER JOIN ( \n",
      "        SELECT ID1 FROM Friend\n",
      "        GROUP BY ID1\n",
      "        HAVING COUNT(ID1) =\n",
      "        ( SELECT COUNT(ID2) FROM Friend\n",
      "        GROUP BY ID1\n",
      "        ORDER BY COUNT(ID2) DESC \n",
      "        LIMIT 1 )\n",
      "        ) T\n",
      "        ON ID = T.ID1\n",
      "      \"\"\"\n",
      "# get the data\n",
      "qDF = pandas.read_sql( qry, conn )\n",
      "# print the data\n",
      "print qDF"
     ],
     "language": "python",
     "metadata": {},
     "outputs": [
      {
       "output_type": "stream",
       "stream": "stdout",
       "text": [
        "     name  grade\n",
        "0  Andrew     10\n",
        "1  Alexis     11\n",
        "\n",
        "[2 rows x 2 columns]\n"
       ]
      }
     ],
     "prompt_number": 6
    }
   ],
   "metadata": {}
  }
 ]
}