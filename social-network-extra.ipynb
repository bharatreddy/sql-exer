{
 "metadata": {
  "name": "",
  "signature": "sha256:0b19492b6f2b5350f9416a45ae1bae3246c46c49b5378c508e11045143519828"
 },
 "nbformat": 3,
 "nbformat_minor": 0,
 "worksheets": [
  {
   "cells": [
    {
     "cell_type": "markdown",
     "metadata": {},
     "source": [
      "> SQL exercise questions from Courseera - Introduction to Databases course\n",
      ">> SQL Social-Network Query Exercises (core set)"
     ]
    },
    {
     "cell_type": "code",
     "collapsed": false,
     "input": [
      "import pandas\n",
      "import mysql.connector\n",
      "# set up connections to the DB\n",
      "conn = mysql.connector.Connect(host='localhost',user='root',\\\n",
      "                        password='',database='social')"
     ],
     "language": "python",
     "metadata": {},
     "outputs": [],
     "prompt_number": 1
    },
    {
     "cell_type": "code",
     "collapsed": false,
     "input": [
      "qry = \"\"\"\n",
      "        SELECT hs1.name, hs1.grade, hs2.name, hs2.grade, hs3.name, hs3.grade\n",
      "        FROM Highschooler hs1\n",
      "        INNER JOIN Likes l1 ON l1. ID1 = hs1.ID\n",
      "        INNER JOIN Likes l2 ON l1.ID2=l2.ID1 AND l1.ID1 != l2.ID2\n",
      "        INNER JOIN Highschooler hs2 ON hs2.ID=l2.ID1\n",
      "        INNER JOIN Highschooler hs3 ON hs3.ID=l2.ID2\n",
      "      \"\"\"\n",
      "\n",
      "qry = \"\"\"\n",
      "        SELECT name, grade FROM Highschooler WHERE ID NOT IN\n",
      "        (SELECT hs1.ID FROM Highschooler hs1\n",
      "        INNER JOIN Friend f1 ON f1.ID1=hs1.ID\n",
      "        INNER JOIN Highschooler hs2 ON f1.ID2=hs2.ID\n",
      "        WHERE hs1.grade-hs2.grade = 0 )\n",
      "      \"\"\"\n",
      "\n",
      "qry = \"\"\"\n",
      "        SELECT AVG(T.cnt_by_frnd) FROM ( SELECT ID1, COUNT(ID2) cnt_by_frnd FROM Friend\n",
      "        GROUP BY ID1 ) T\n",
      "      \"\"\"\n",
      "\n",
      "qry = \"\"\"\n",
      "        SELECT COUNT(ID2) FROM Friend WHERE ID1 IN ( SELECT ID2 FROM Friend \n",
      "        WHERE ID2 != ( SELECT ID FROM Highschooler \n",
      "        WHERE name = 'Cassandra' ) \n",
      "        AND (ID1 = ( SELECT ID FROM Highschooler \n",
      "        WHERE name = 'Cassandra' ) ) \n",
      "        OR ID1 =  ( SELECT ID FROM Highschooler \n",
      "        WHERE name = 'Cassandra' ) )\n",
      "      \"\"\"\n",
      "\n",
      "qry = \"\"\"\n",
      "        SELECT name, grade FROM Highschooler\n",
      "        INNER JOIN ( \n",
      "        SELECT ID1 FROM Friend\n",
      "        GROUP BY ID1\n",
      "        HAVING COUNT(ID1) =\n",
      "        ( SELECT COUNT(ID2) FROM Friend\n",
      "        GROUP BY ID1\n",
      "        ORDER BY COUNT(ID2) DESC \n",
      "        LIMIT 1 )\n",
      "        ) T\n",
      "        ON ID = T.ID1\n",
      "      \"\"\""
     ],
     "language": "python",
     "metadata": {},
     "outputs": []
    }
   ],
   "metadata": {}
  }
 ]
}