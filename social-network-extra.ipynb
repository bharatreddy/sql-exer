{
 "metadata": {
  "name": "",
  "signature": "sha256:e7856abb0c9b9dc1324e7422e9297af05ae533c033f8c03afd81ca64a4d22b3b"
 },
 "nbformat": 3,
 "nbformat_minor": 0,
 "worksheets": [
  {
   "cells": [
    {
     "cell_type": "markdown",
     "metadata": {},
     "source": [
      "> SQL exercise questions from Courseera - Introduction to Databases course\n",
      ">> SQL Social-Network Query Exercises (extra set)"
     ]
    },
    {
     "cell_type": "code",
     "collapsed": false,
     "input": [
      "import pandas\n",
      "import mysql.connector\n",
      "# set up connections to the DB\n",
      "conn = mysql.connector.Connect(host='localhost',user='root',\\\n",
      "                        password='',database='social')"
     ],
     "language": "python",
     "metadata": {},
     "outputs": [],
     "prompt_number": 8
    },
    {
     "cell_type": "code",
     "collapsed": false,
     "input": [
      "import pandas\n",
      "import mysql.connector\n",
      "# set up connections to the DB\n",
      "conn = mysql.connector.Connect(host='localhost',user='root',\\\n",
      "                        password='',database='social')\n",
      "#LOAD the SQL tables into DF\n",
      "qryFr = \"\"\"\n",
      "        SELECT * From Friend\n",
      "      \"\"\"\n",
      "qryHs = \"\"\"\n",
      "        SELECT * From Highschooler\n",
      "      \"\"\"\n",
      "qryLi = \"\"\"\n",
      "        SELECT * From Likes\n",
      "      \"\"\"\n",
      "frndDF = pandas.read_sql( qryFr, conn )\n",
      "hsDF = pandas.read_sql( qryHs, conn )\n",
      "likesDF = pandas.read_sql( qryLi, conn )"
     ],
     "language": "python",
     "metadata": {},
     "outputs": [],
     "prompt_number": 9
    },
    {
     "cell_type": "markdown",
     "metadata": {},
     "source": [
      "## Question-1 : For every situation where student A likes student B, but student B likes a different student C, return the names and grades of A, B, and C."
     ]
    },
    {
     "cell_type": "markdown",
     "metadata": {},
     "source": [
      "### Solution using SQL."
     ]
    },
    {
     "cell_type": "code",
     "collapsed": false,
     "input": [
      "#SQL query\n",
      "qry = \"\"\"\n",
      "        SELECT hs1.name, hs1.grade, hs2.name, hs2.grade, hs3.name, hs3.grade\n",
      "        FROM Highschooler hs1\n",
      "        INNER JOIN Likes l1 ON l1. ID1 = hs1.ID\n",
      "        INNER JOIN Likes l2 ON l1.ID2=l2.ID1 AND l1.ID1 != l2.ID2\n",
      "        INNER JOIN Highschooler hs2 ON hs2.ID=l2.ID1\n",
      "        INNER JOIN Highschooler hs3 ON hs3.ID=l2.ID2\n",
      "      \"\"\"\n",
      "# get the data\n",
      "qDF = pandas.read_sql( qry, conn )\n",
      "# print the data\n",
      "print qDF"
     ],
     "language": "python",
     "metadata": {},
     "outputs": [
      {
       "output_type": "stream",
       "stream": "stdout",
       "text": [
        "      name  grade       name  grade     name  grade\n",
        "0   Andrew     10  Cassandra      9  Gabriel      9\n",
        "1  Gabriel     11     Alexis     11     Kris     10\n",
        "\n",
        "[2 rows x 6 columns]\n"
       ]
      }
     ],
     "prompt_number": 10
    },
    {
     "cell_type": "markdown",
     "metadata": {},
     "source": [
      "### Solution using Pandas.\n",
      "> Methods used : merge(inner, using left_on, right_on), drop()"
     ]
    },
    {
     "cell_type": "code",
     "collapsed": false,
     "input": [
      "# Merge likesDF on itself\n",
      "resDF = pandas.merge( likesDF, likesDF, \\\n",
      "                     left_on = 'ID2',\\\n",
      "                     right_on = 'ID1', how='inner')\n",
      "# Now take out the ID's who mutually like each other\n",
      "resDF = resDF[ resDF['ID1_x'] != resDF['ID2_y'] ]\n",
      "# drop unnecessary columns and merge resDF with hsDF\n",
      "# to get the name and grade details from all the IDs\n",
      "resDF.drop( 'ID1_y', 1, inplace=True )\n",
      "resDF = pandas.merge( resDF, hsDF, \\\n",
      "                     left_on = 'ID1_x',\\\n",
      "                     right_on = 'ID', how='inner')\n",
      "resDF.drop( ['ID1_x', 'ID'], 1, inplace=True )\n",
      "resDF = pandas.merge( resDF, hsDF, \\\n",
      "                     left_on = 'ID2_x',\\\n",
      "                     right_on = 'ID', how='inner')\n",
      "resDF.drop( ['ID2_x', 'ID'], 1, inplace=True )\n",
      "resDF = pandas.merge( resDF, hsDF, \\\n",
      "                     left_on = 'ID2_y',\\\n",
      "                     right_on = 'ID', how='inner')\n",
      "resDF.drop( ['ID2_y', 'ID'], 1, inplace=True )\n",
      "print resDF"
     ],
     "language": "python",
     "metadata": {},
     "outputs": [
      {
       "output_type": "stream",
       "stream": "stdout",
       "text": [
        "    name_x  grade_x     name_y  grade_y     name  grade\n",
        "0   Andrew       10  Cassandra        9  Gabriel      9\n",
        "1  Gabriel       11     Alexis       11     Kris     10\n",
        "\n",
        "[2 rows x 6 columns]\n"
       ]
      }
     ],
     "prompt_number": 11
    },
    {
     "cell_type": "markdown",
     "metadata": {},
     "source": [
      "## Question-2 : Find those students for whom all of their friends are in different grades from themselves. Return the students' names and grades."
     ]
    },
    {
     "cell_type": "markdown",
     "metadata": {},
     "source": [
      "### Solution using SQL."
     ]
    },
    {
     "cell_type": "code",
     "collapsed": false,
     "input": [
      "#SQL query\n",
      "qry = \"\"\"\n",
      "        SELECT name, grade FROM Highschooler WHERE ID NOT IN\n",
      "        (SELECT hs1.ID FROM Highschooler hs1\n",
      "        INNER JOIN Friend f1 ON f1.ID1=hs1.ID\n",
      "        INNER JOIN Highschooler hs2 ON f1.ID2=hs2.ID\n",
      "        WHERE hs1.grade-hs2.grade = 0 )\n",
      "      \"\"\"\n",
      "# get the data\n",
      "qDF = pandas.read_sql( qry, conn )\n",
      "# print the data\n",
      "print qDF"
     ],
     "language": "python",
     "metadata": {},
     "outputs": [
      {
       "output_type": "stream",
       "stream": "stdout",
       "text": [
        "     name  grade\n",
        "0  Austin     11\n",
        "\n",
        "[1 rows x 2 columns]\n"
       ]
      }
     ],
     "prompt_number": 12
    },
    {
     "cell_type": "markdown",
     "metadata": {},
     "source": [
      "### Solution using Pandas.\n",
      "> Methods used : merge, drop(), tolist(), isin()"
     ]
    },
    {
     "cell_type": "code",
     "collapsed": false,
     "input": [
      "# Merge hsDF with frndDF\n",
      "resDF = pandas.merge( hsDF, frndDF, \\\n",
      "                     left_on = 'ID',\\\n",
      "                     right_on = 'ID1', how='inner')\n",
      "resDF = pandas.merge( resDF, hsDF, \\\n",
      "                     left_on = 'ID2',\\\n",
      "                     right_on = 'ID', how='inner')\n",
      "resDF.drop( ['ID1', 'ID2'], 1, inplace=True )\n",
      "# select all students who have frnds in same grade\n",
      "resDF = resDF[ resDF['grade_x'] - resDF['grade_y'] == 0 ]\n",
      "# get a list of their IDs\n",
      "idList = resDF['ID_x'].tolist()\n",
      "# get the name and grades of students \n",
      "# not in the list from hsDF\n",
      "resDF = hsDF[ ~hsDF['ID'].isin(idList) ]\n",
      "print resDF[ ['name', 'grade'] ].reset_index(drop=True)"
     ],
     "language": "python",
     "metadata": {},
     "outputs": [
      {
       "output_type": "stream",
       "stream": "stdout",
       "text": [
        "     name  grade\n",
        "0  Austin     11\n",
        "\n",
        "[1 rows x 2 columns]\n"
       ]
      }
     ],
     "prompt_number": 13
    },
    {
     "cell_type": "markdown",
     "metadata": {},
     "source": [
      "### Question-3 : What is the average number of friends per student? (Your result should be just one number.) "
     ]
    },
    {
     "cell_type": "markdown",
     "metadata": {},
     "source": [
      "### Solution using SQL."
     ]
    },
    {
     "cell_type": "code",
     "collapsed": false,
     "input": [
      "#SQL query\n",
      "qry = \"\"\"\n",
      "        SELECT AVG(T.cnt_by_frnd) FROM ( SELECT ID1, COUNT(ID2) cnt_by_frnd FROM Friend\n",
      "        GROUP BY ID1 ) T\n",
      "      \"\"\"\n",
      "# get the data\n",
      "qDF = pandas.read_sql( qry, conn )\n",
      "# print the data\n",
      "print qDF"
     ],
     "language": "python",
     "metadata": {},
     "outputs": [
      {
       "output_type": "stream",
       "stream": "stdout",
       "text": [
        "   AVG(T.cnt_by_frnd)\n",
        "0                 2.5\n",
        "\n",
        "[1 rows x 1 columns]\n"
       ]
      }
     ],
     "prompt_number": 14
    },
    {
     "cell_type": "markdown",
     "metadata": {},
     "source": [
      "### Solution using Pandas.\n",
      "> Methods used : groupby(), count(), mean()"
     ]
    },
    {
     "cell_type": "code",
     "collapsed": false,
     "input": [
      "# groupby frndDF on ID1 and get counts of ID2\n",
      "frndGrps = frndDF.groupby( ['ID1'] )\n",
      "# get number of frnds for each student\n",
      "nFrnds = frndGrps['ID2'].count()\n",
      "print nFrnds.mean()"
     ],
     "language": "python",
     "metadata": {},
     "outputs": [
      {
       "output_type": "stream",
       "stream": "stdout",
       "text": [
        "2.5\n"
       ]
      }
     ],
     "prompt_number": 15
    },
    {
     "cell_type": "markdown",
     "metadata": {},
     "source": [
      "## Question-4 : Find the number of students who are either friends with Cassandra or are friends of friends of Cassandra. Do not count Cassandra, even though technically she is a friend of a friend. "
     ]
    },
    {
     "cell_type": "markdown",
     "metadata": {},
     "source": [
      "### Solution using SQL."
     ]
    },
    {
     "cell_type": "code",
     "collapsed": false,
     "input": [
      "#SQL query\n",
      "qry = \"\"\"\n",
      "        SELECT COUNT(ID2) FROM Friend WHERE ID1 IN ( SELECT ID2 FROM Friend \n",
      "        WHERE ID2 != ( SELECT ID FROM Highschooler \n",
      "        WHERE name = 'Cassandra' ) \n",
      "        AND (ID1 = ( SELECT ID FROM Highschooler \n",
      "        WHERE name = 'Cassandra' ) ) \n",
      "        OR ID1 =  ( SELECT ID FROM Highschooler \n",
      "        WHERE name = 'Cassandra' ) )\n",
      "      \"\"\"\n",
      "# get the data\n",
      "qDF = pandas.read_sql( qry, conn )\n",
      "# print the data\n",
      "print qDF"
     ],
     "language": "python",
     "metadata": {},
     "outputs": [
      {
       "output_type": "stream",
       "stream": "stdout",
       "text": [
        "   COUNT(ID2)\n",
        "0           7\n",
        "\n",
        "[1 rows x 1 columns]\n"
       ]
      }
     ],
     "prompt_number": 16
    },
    {
     "cell_type": "markdown",
     "metadata": {},
     "source": [
      "### Solution using Pandas.\n",
      "> Methods used : tolist()"
     ]
    },
    {
     "cell_type": "code",
     "collapsed": false,
     "input": [
      "# Get the ID of 'Cassandra'\n",
      "idCsn = hsDF[ hsDF['name'] == 'Cassandra' ]\\\n",
      "        ['ID'].values[0]\n",
      "# get all friends of this particular ID\n",
      "frndList = frndDF[ frndDF['ID1'] == idCsn ]\\\n",
      "            ['ID2'].tolist()\n",
      "# get friends of friends as well and make \n",
      "# it a set to get unique values\n",
      "frndList = set( frndList + frndDF\\\n",
      "        [ ( frndDF['ID1'].isin(frndList) )\\\n",
      "         & (frndDF['ID2'] != idCsn) ]['ID2'].\\\n",
      "        tolist() )\n",
      "print len(frndList)"
     ],
     "language": "python",
     "metadata": {},
     "outputs": [
      {
       "output_type": "stream",
       "stream": "stdout",
       "text": [
        "7\n"
       ]
      }
     ],
     "prompt_number": 17
    },
    {
     "cell_type": "markdown",
     "metadata": {},
     "source": [
      "## Question-5 : Find the name and grade of the student(s) with the greatest number of friends. "
     ]
    },
    {
     "cell_type": "markdown",
     "metadata": {},
     "source": [
      "### Solution using SQL."
     ]
    },
    {
     "cell_type": "code",
     "collapsed": false,
     "input": [
      "#SQL query\n",
      "qry = \"\"\"\n",
      "        SELECT name, grade FROM Highschooler\n",
      "        INNER JOIN ( \n",
      "        SELECT ID1 FROM Friend\n",
      "        GROUP BY ID1\n",
      "        HAVING COUNT(ID1) =\n",
      "        ( SELECT COUNT(ID2) FROM Friend\n",
      "        GROUP BY ID1\n",
      "        ORDER BY COUNT(ID2) DESC \n",
      "        LIMIT 1 )\n",
      "        ) T\n",
      "        ON ID = T.ID1\n",
      "      \"\"\"\n",
      "# get the data\n",
      "qDF = pandas.read_sql( qry, conn )\n",
      "# print the data\n",
      "print qDF"
     ],
     "language": "python",
     "metadata": {},
     "outputs": [
      {
       "output_type": "stream",
       "stream": "stdout",
       "text": [
        "     name  grade\n",
        "0  Andrew     10\n",
        "1  Alexis     11\n",
        "\n",
        "[2 rows x 2 columns]\n"
       ]
      }
     ],
     "prompt_number": 18
    },
    {
     "cell_type": "markdown",
     "metadata": {},
     "source": [
      "### Solution using Pandas.\n",
      "> Methods used : groupby(), count(), isin()"
     ]
    },
    {
     "cell_type": "code",
     "collapsed": false,
     "input": [
      "# Groupby ID1 and get max frnd number\n",
      "frndGrps = frndDF.groupby( 'ID1' )\n",
      "maxFrnds = frndGrps['ID2'].count().max()\n",
      "# get ID with max frnds\n",
      "countIdSer = frndGrps['ID2'].count()\n",
      "idMaxFrnd = countIdSer[ countIdSer == maxFrnds ]\n",
      "# get name, grade for the IDs\n",
      "resDF = hsDF[ hsDF['ID'].isin(idMaxFrnd.index.values) ]\\\n",
      "        [ ['name','grade'] ]\n",
      "print resDF.reset_index(drop=True)"
     ],
     "language": "python",
     "metadata": {},
     "outputs": [
      {
       "output_type": "stream",
       "stream": "stdout",
       "text": [
        "     name  grade\n",
        "0  Andrew     10\n",
        "1  Alexis     11\n",
        "\n",
        "[2 rows x 2 columns]\n"
       ]
      }
     ],
     "prompt_number": 19
    }
   ],
   "metadata": {}
  }
 ]
}