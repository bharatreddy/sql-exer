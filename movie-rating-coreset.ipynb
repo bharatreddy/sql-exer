{
 "metadata": {
  "name": "",
  "signature": "sha256:0843161fab94b865702481c39194456e35913161bece14018d056b63d65c6ac6"
 },
 "nbformat": 3,
 "nbformat_minor": 0,
 "worksheets": [
  {
   "cells": [
    {
     "cell_type": "markdown",
     "metadata": {},
     "source": [
      "> SQL exercise questions from Courseera - Introduction to Databases course\n",
      ">> SQL Movie-Rating Query Exercises (core set)"
     ]
    },
    {
     "cell_type": "code",
     "collapsed": false,
     "input": [
      "import pandas\n",
      "import mysql.connector\n",
      "# set up connections to the DB\n",
      "conn = mysql.connector.Connect(host='localhost',user='root',\\\n",
      "                        password='',database='rating')"
     ],
     "language": "python",
     "metadata": {},
     "outputs": [],
     "prompt_number": 1
    },
    {
     "cell_type": "markdown",
     "metadata": {},
     "source": [
      "> Question-1 : Find the titles of all movies directed by Steven Spielberg. "
     ]
    },
    {
     "cell_type": "code",
     "collapsed": false,
     "input": [
      "qry = \"\"\"\n",
      "        SELECT title FROM Movie\n",
      "        WHERE director = 'Steven Spielberg'\n",
      "      \"\"\"\n",
      "qDF = pandas.read_sql( qry, conn )\n",
      "# print a sample of the data\n",
      "print qDF"
     ],
     "language": "python",
     "metadata": {},
     "outputs": [
      {
       "output_type": "stream",
       "stream": "stdout",
       "text": [
        "                     title\n",
        "0                     E.T.\n",
        "1  Raiders of the Lost Ark\n",
        "\n",
        "[2 rows x 1 columns]\n"
       ]
      }
     ],
     "prompt_number": 2
    },
    {
     "cell_type": "code",
     "collapsed": false,
     "input": [],
     "language": "python",
     "metadata": {},
     "outputs": []
    }
   ],
   "metadata": {}
  }
 ]
}