{
 "metadata": {
  "name": "",
  "signature": "sha256:db76e9ed313f0634b2dba30e6f3410e277c70f4be1a6e749ba543a0e1d230492"
 },
 "nbformat": 3,
 "nbformat_minor": 0,
 "worksheets": [
  {
   "cells": [
    {
     "cell_type": "markdown",
     "metadata": {},
     "source": [
      "> SQL exercise questions from Coursera - Introduction to Databases course\n",
      ">> SQL Movie-Rating Query Exercises (core set)"
     ]
    },
    {
     "cell_type": "markdown",
     "metadata": {},
     "source": [
      "> In this part we'll use a database called 'rating'. I downloaded it from the Introduction to databases course in coursera. The database has three tables ( 'Movie', 'Rating', 'Reviewer' ). The schema is shown below.\n",
      "\n",
      ">                                                       Movie table\n",
      "\n",
      ">| mID | title | year | director |\n",
      "  | ------ |:---:| ----:|----:|\n",
      "  |    -    |   -  |   -   |   -   |\n",
      "\n",
      ">                                                      Rating table\n",
      "\n",
      ">| rID | mID | stars | ratingDate |\n",
      "  | ------ |:---:| ----:|----:|\n",
      "  |    -    |   -  |   -   |   -   |\n",
      "  \n",
      ">                                                     Reviewer table\n",
      "\n",
      ">| rID | name |\n",
      "  | ------ |:---:|\n",
      "  |    -    |   -  |\n"
     ]
    },
    {
     "cell_type": "code",
     "collapsed": false,
     "input": [
      "import pandas\n",
      "import mysql.connector\n",
      "# set up connections to the DB\n",
      "conn = mysql.connector.Connect(host='localhost',user='root',\\\n",
      "                        password='',database='rating')"
     ],
     "language": "python",
     "metadata": {},
     "outputs": [],
     "prompt_number": 1
    },
    {
     "cell_type": "code",
     "collapsed": false,
     "input": [
      "import pandas\n",
      "import mysql.connector\n",
      "# set up connections to the DB\n",
      "conn = mysql.connector.Connect(host='localhost',user='root',\\\n",
      "                        password='',database='rating')\n",
      "#LOAD the SQL tables into DF\n",
      "qryMv = \"\"\"\n",
      "        SELECT * From Movie\n",
      "      \"\"\"\n",
      "qryRt = \"\"\"\n",
      "        SELECT * From Rating\n",
      "      \"\"\"\n",
      "qryRe = \"\"\"\n",
      "        SELECT * From Reviewer\n",
      "      \"\"\"\n",
      "movieDF = pandas.read_sql( qryMv, conn )\n",
      "ratDF = pandas.read_sql( qryRt, conn )\n",
      "rvwrDF = pandas.read_sql( qryRe, conn )"
     ],
     "language": "python",
     "metadata": {},
     "outputs": [],
     "prompt_number": 1
    },
    {
     "cell_type": "markdown",
     "metadata": {},
     "source": [
      "## Question-1 : Find the titles of all movies directed by Steven Spielberg. "
     ]
    },
    {
     "cell_type": "markdown",
     "metadata": {},
     "source": [
      "### Solution using SQL."
     ]
    },
    {
     "cell_type": "code",
     "collapsed": false,
     "input": [
      "#SQL query\n",
      "qry = \"\"\"\n",
      "        SELECT title FROM Movie\n",
      "        WHERE director = 'Steven Spielberg'\n",
      "      \"\"\"\n",
      "# get the data\n",
      "qDF = pandas.read_sql( qry, conn )\n",
      "# print the data\n",
      "print qDF"
     ],
     "language": "python",
     "metadata": {},
     "outputs": [
      {
       "output_type": "stream",
       "stream": "stdout",
       "text": [
        "                     title\n",
        "0                     E.T.\n",
        "1  Raiders of the Lost Ark\n",
        "\n",
        "[2 rows x 1 columns]\n"
       ]
      }
     ],
     "prompt_number": 2
    },
    {
     "cell_type": "markdown",
     "metadata": {},
     "source": [
      "### Solution using Pandas.\n",
      "> Methods used : selection"
     ]
    },
    {
     "cell_type": "code",
     "collapsed": false,
     "input": [
      "# simple selection\n",
      "print movieDF[ movieDF['director'] == 'Steven Spielberg' ]['title']"
     ],
     "language": "python",
     "metadata": {},
     "outputs": [
      {
       "output_type": "stream",
       "stream": "stdout",
       "text": [
        "3                       E.T.\n",
        "7    Raiders of the Lost Ark\n",
        "Name: title, dtype: object\n"
       ]
      }
     ],
     "prompt_number": 3
    },
    {
     "cell_type": "markdown",
     "metadata": {},
     "source": [
      "## Question-2 : Find all years that have a movie that received a rating of 4 or 5, and sort them in increasing order."
     ]
    },
    {
     "cell_type": "markdown",
     "metadata": {},
     "source": [
      "### Solution using SQL."
     ]
    },
    {
     "cell_type": "code",
     "collapsed": false,
     "input": [
      "#SQL query\n",
      "qry = \"\"\"\n",
      "        SELECT DISTINCT mv.year FROM Movie mv\n",
      "        INNER JOIN Rating ra\n",
      "        ON ra.mID = mv.mID\n",
      "        WHERE ra.stars >= 4\n",
      "        ORDER BY mv.year ASC\n",
      "      \"\"\"\n",
      "# get the data\n",
      "qDF = pandas.read_sql( qry, conn )\n",
      "# print the data\n",
      "print qDF"
     ],
     "language": "python",
     "metadata": {},
     "outputs": [
      {
       "output_type": "stream",
       "stream": "stdout",
       "text": [
        "   year\n",
        "0  1937\n",
        "1  1939\n",
        "2  1981\n",
        "3  2009\n",
        "\n",
        "[4 rows x 1 columns]\n"
       ]
      }
     ],
     "prompt_number": 3
    },
    {
     "cell_type": "markdown",
     "metadata": {},
     "source": [
      "### Solution using Pandas.\n",
      "> Methods used : selection, merge(inner), sort, unique"
     ]
    },
    {
     "cell_type": "code",
     "collapsed": false,
     "input": [
      "# store the ratings in new DF for ease of operation\n",
      "# we also reset the index.\n",
      "ratDFNew = ratDF[ ratDF['stars'] >= 4 ].reset_index()\n",
      "# Now merge (similar to join in SQL) the new ratingDF\n",
      "# into the movieDF.\n",
      "resDF = pandas.merge( ratDFNew, movieDF, \\\n",
      "                     on='mID', how='inner' )\n",
      "# Now sort according to the year\n",
      "# note here that we can sort \n",
      "# the DF in place (using \n",
      "# the keyword 'inplace') without\n",
      "# creating a new DF instance.\n",
      "resDF.sort( ['year'], ascending=True, inplace=True )\n",
      "# get the year column only and \n",
      "resDF = resDF['year']\n",
      "# Print the unique values using unique() statement\n",
      "print resDF.unique()"
     ],
     "language": "python",
     "metadata": {},
     "outputs": [
      {
       "output_type": "stream",
       "stream": "stdout",
       "text": [
        "[1937 1939 1981 2009]\n"
       ]
      }
     ],
     "prompt_number": 4
    },
    {
     "cell_type": "markdown",
     "metadata": {},
     "source": [
      "## Question-3 : Find the titles of all movies that have no ratings."
     ]
    },
    {
     "cell_type": "markdown",
     "metadata": {},
     "source": [
      "### Solution using SQL."
     ]
    },
    {
     "cell_type": "code",
     "collapsed": false,
     "input": [
      "#SQL query\n",
      "qry = \"\"\"\n",
      "        SELECT mv.title FROM Movie mv\n",
      "        LEFT JOIN Rating ra\n",
      "        ON ra.mID = mv.mID\n",
      "        WHERE ra.mID is NULL\n",
      "      \"\"\"\n",
      "# get the data\n",
      "qDF = pandas.read_sql( qry, conn )\n",
      "# print the data\n",
      "print qDF"
     ],
     "language": "python",
     "metadata": {},
     "outputs": [
      {
       "output_type": "stream",
       "stream": "stdout",
       "text": [
        "       title\n",
        "0  Star Wars\n",
        "1    Titanic\n",
        "\n",
        "[2 rows x 1 columns]\n"
       ]
      }
     ],
     "prompt_number": 4
    },
    {
     "cell_type": "markdown",
     "metadata": {},
     "source": [
      "### Solution using Pandas.\n",
      "> Methods used : merge(left), isnull"
     ]
    },
    {
     "cell_type": "code",
     "collapsed": false,
     "input": [
      "# We'll merge the two DFs using\n",
      "# 'left' method. This is like the \n",
      "# left outer join in SQL.\n",
      "resDF = pandas.merge( movieDF, ratDF, \\\n",
      "                     on='mID', how='left' )\n",
      "# Now retreive 'title' column from records\n",
      "#  which have a Null value in the stars column\n",
      "resDF = resDF[ resDF['stars'].isnull() ]\\\n",
      ".reset_index()['title']\n",
      "print resDF"
     ],
     "language": "python",
     "metadata": {},
     "outputs": [
      {
       "output_type": "stream",
       "stream": "stdout",
       "text": [
        "0    Star Wars\n",
        "1      Titanic\n",
        "Name: title, dtype: object\n"
       ]
      }
     ],
     "prompt_number": 6
    },
    {
     "cell_type": "markdown",
     "metadata": {},
     "source": [
      "## Question-4 : Some reviewers didn't provide a date with their rating. Find the names of all reviewers who have ratings with a NULL value for the date."
     ]
    },
    {
     "cell_type": "markdown",
     "metadata": {},
     "source": [
      "### Solution using SQL."
     ]
    },
    {
     "cell_type": "code",
     "collapsed": false,
     "input": [
      "#SQL query\n",
      "qry = \"\"\"\n",
      "        SELECT re.name FROM Reviewer re\n",
      "        INNER JOIN Rating ra\n",
      "        ON ra.rID = re.rID\n",
      "        WHERE ra.ratingDate IS NULL\n",
      "      \"\"\"\n",
      "# get the data\n",
      "qDF = pandas.read_sql( qry, conn )\n",
      "# print the data\n",
      "print qDF"
     ],
     "language": "python",
     "metadata": {},
     "outputs": [
      {
       "output_type": "stream",
       "stream": "stdout",
       "text": [
        "            name\n",
        "0   Daniel Lewis\n",
        "1  Chris Jackson\n",
        "\n",
        "[2 rows x 1 columns]\n"
       ]
      }
     ],
     "prompt_number": 7
    },
    {
     "cell_type": "markdown",
     "metadata": {},
     "source": [
      "### Solution using Pandas.\n",
      "> Methods used : Methods used : merge(inner), isnull()"
     ]
    },
    {
     "cell_type": "code",
     "collapsed": false,
     "input": [
      " # We'll merge rvwrDF and ratDF\n",
      "# and retreive rows which have Null\n",
      "# in date.\n",
      "resDF = pandas.merge( rvwrDF, ratDF, \\\n",
      "                     on='rID', how='inner' )\n",
      "# Now retreive the records which have null\n",
      "# value in the date column\n",
      "resDF = resDF[ resDF['ratingDate'].isnull() ]\\\n",
      ".reset_index()['name']\n",
      "print resDF"
     ],
     "language": "python",
     "metadata": {},
     "outputs": [
      {
       "output_type": "stream",
       "stream": "stdout",
       "text": [
        "0     Daniel Lewis\n",
        "1    Chris Jackson\n",
        "Name: name, dtype: object\n"
       ]
      }
     ],
     "prompt_number": 8
    },
    {
     "cell_type": "markdown",
     "metadata": {},
     "source": [
      "## Question-5 : Write a query to return the ratings data in a more readable format: reviewer name, movie title, stars, and ratingDate. Also, sort the data, first by reviewer name, then by movie title, and lastly by number of stars. "
     ]
    },
    {
     "cell_type": "markdown",
     "metadata": {},
     "source": [
      "### Solution using SQL"
     ]
    },
    {
     "cell_type": "code",
     "collapsed": false,
     "input": [
      "#SQL query\n",
      "qry = \"\"\"\n",
      "        SELECT re.name, mv.title, ra.stars, ra.ratingDate\n",
      "        FROM Movie mv \n",
      "        INNER JOIN Rating ra ON ra.mID = mv.mID\n",
      "        INNER JOIN Reviewer re ON ra.rID = re.rID\n",
      "        ORDER BY re.name, mv.title, ra.stars\n",
      "      \"\"\"\n",
      "# get the data\n",
      "qDF = pandas.read_sql( qry, conn )\n",
      "# print the data\n",
      "print qDF"
     ],
     "language": "python",
     "metadata": {},
     "outputs": [
      {
       "output_type": "stream",
       "stream": "stdout",
       "text": [
        "                name                    title  stars  ratingDate\n",
        "0       Ashley White                     E.T.      3  2011-01-02\n",
        "1    Brittany Harris  Raiders of the Lost Ark      2  2011-01-30\n",
        "2    Brittany Harris  Raiders of the Lost Ark      4  2011-01-12\n",
        "3    Brittany Harris       The Sound of Music      2  2011-01-20\n",
        "4      Chris Jackson                     E.T.      2  2011-01-22\n",
        "5      Chris Jackson  Raiders of the Lost Ark      4        None\n",
        "6      Chris Jackson       The Sound of Music      3  2011-01-27\n",
        "7       Daniel Lewis               Snow White      4        None\n",
        "8   Elizabeth Thomas                   Avatar      3  2011-01-15\n",
        "9   Elizabeth Thomas               Snow White      5  2011-01-19\n",
        "10     James Cameron                   Avatar      5  2011-01-20\n",
        "11     Mike Anderson       Gone with the Wind      3  2011-01-09\n",
        "12    Sarah Martinez       Gone with the Wind      2  2011-01-22\n",
        "13    Sarah Martinez       Gone with the Wind      4  2011-01-27\n",
        "\n",
        "[14 rows x 4 columns]\n"
       ]
      }
     ],
     "prompt_number": 6
    },
    {
     "cell_type": "markdown",
     "metadata": {},
     "source": [
      "### Solution using Pandas.\n",
      "> Methods used : merge(inner), sort"
     ]
    },
    {
     "cell_type": "code",
     "collapsed": false,
     "input": [
      "# first merge all the three DFs\n",
      "resDF = pandas.merge( movieDF, ratDF, \\\n",
      "                     on='mID', how='inner' )\n",
      "resDF = pandas.merge( resDF, rvwrDF,\\\n",
      "                     on='rID', how='inner')\n",
      "# sort the DF and select the required columns\n",
      "resDF.sort( ['name','title','stars'], inplace=True )\n",
      "resDF = resDF[ [ 'name', 'title', 'stars', 'ratingDate' ] ]\\\n",
      ".reset_index(drop=True)\n",
      "print resDF"
     ],
     "language": "python",
     "metadata": {},
     "outputs": [
      {
       "output_type": "stream",
       "stream": "stdout",
       "text": [
        "                name                    title  stars  ratingDate\n",
        "0       Ashley White                     E.T.      3  2011-01-02\n",
        "1    Brittany Harris  Raiders of the Lost Ark      2  2011-01-30\n",
        "2    Brittany Harris  Raiders of the Lost Ark      4  2011-01-12\n",
        "3    Brittany Harris       The Sound of Music      2  2011-01-20\n",
        "4      Chris Jackson                     E.T.      2  2011-01-22\n",
        "5      Chris Jackson  Raiders of the Lost Ark      4        None\n",
        "6      Chris Jackson       The Sound of Music      3  2011-01-27\n",
        "7       Daniel Lewis               Snow White      4        None\n",
        "8   Elizabeth Thomas                   Avatar      3  2011-01-15\n",
        "9   Elizabeth Thomas               Snow White      5  2011-01-19\n",
        "10     James Cameron                   Avatar      5  2011-01-20\n",
        "11     Mike Anderson       Gone with the Wind      3  2011-01-09\n",
        "12    Sarah Martinez       Gone with the Wind      2  2011-01-22\n",
        "13    Sarah Martinez       Gone with the Wind      4  2011-01-27\n",
        "\n",
        "[14 rows x 4 columns]\n"
       ]
      }
     ],
     "prompt_number": 9
    },
    {
     "cell_type": "markdown",
     "metadata": {},
     "source": [
      "## Question-6 : For all cases where the same reviewer rated the same movie twice and gave it a higher rating the second time, return the reviewer's name and the title of the movie. "
     ]
    },
    {
     "cell_type": "markdown",
     "metadata": {},
     "source": [
      "### Solution using SQL."
     ]
    },
    {
     "cell_type": "code",
     "collapsed": false,
     "input": [
      "#SQL query\n",
      "qry = \"\"\"\n",
      "        SELECT re1.name, mv.title FROM Reviewer re1\n",
      "        INNER JOIN Rating ra1 ON ra1.rID = re1.rID\n",
      "        INNER JOIN Movie mv ON mv.mID = ra1.mID\n",
      "        INNER JOIN Rating ra2 ON ra1.rID = ra2.rID AND ra1.mID = ra2.mID\n",
      "        WHERE ra2.stars > ra1.stars AND ra2.ratingDate > ra1.ratingDate\n",
      "      \"\"\"\n",
      "# get the data\n",
      "qDF = pandas.read_sql( qry, conn )\n",
      "# print the data\n",
      "print qDF"
     ],
     "language": "python",
     "metadata": {},
     "outputs": [
      {
       "output_type": "stream",
       "stream": "stdout",
       "text": [
        "             name               title\n",
        "0  Sarah Martinez  Gone with the Wind\n",
        "\n",
        "[1 rows x 2 columns]\n"
       ]
      }
     ],
     "prompt_number": 10
    },
    {
     "cell_type": "markdown",
     "metadata": {},
     "source": [
      "### Solution using Pandas.\n",
      "> Methods used : selection, merge(inner,self)"
     ]
    },
    {
     "cell_type": "code",
     "collapsed": false,
     "input": [
      "# merge ratingDF on itself\n",
      "resDF = pandas.merge( ratDF, ratDF,\\\n",
      "                     on=['rID','mID'], how='inner')\n",
      "# Note in joins like the self join here, Pandas \n",
      "# renames columns with same names with _x, _y suffixes.\n",
      "# Now retreive the rows which satisfy the requirement of\n",
      "# the question, i.e., stars_y > stars_x and \n",
      "# ratingDate_y > ratingDate_x.\n",
      "resDF = resDF[ (resDF['stars_y'] > resDF['stars_x']) & \\\n",
      "              (resDF['ratingDate_y'] > resDF['ratingDate_x']) ]\n",
      "# Now merge the other DFs for required info\n",
      "resDF = pandas.merge( resDF, movieDF,\\\n",
      "                     on=['mID'], how='inner')\n",
      "resDF = pandas.merge( resDF, rvwrDF,\\\n",
      "                     on=['rID'], how='inner')\n",
      "# get the required cols\n",
      "resDF = resDF[ ['name', 'title'] ]\n",
      "print resDF"
     ],
     "language": "python",
     "metadata": {},
     "outputs": [
      {
       "output_type": "stream",
       "stream": "stdout",
       "text": [
        "             name               title\n",
        "0  Sarah Martinez  Gone with the Wind\n",
        "\n",
        "[1 rows x 2 columns]\n"
       ]
      }
     ],
     "prompt_number": 11
    },
    {
     "cell_type": "markdown",
     "metadata": {},
     "source": [
      "## Question-7 : For each movie that has at least one rating, find the highest number of stars that movie received. Return the movie title and number of stars. Sort by movie title."
     ]
    },
    {
     "cell_type": "markdown",
     "metadata": {},
     "source": [
      "### Solution using SQL"
     ]
    },
    {
     "cell_type": "code",
     "collapsed": false,
     "input": [
      "#SQL query\n",
      "qry = \"\"\"\n",
      "        SELECT mv.title, tab.max_stars FROM Movie mv\n",
      "        INNER JOIN\n",
      "        (SELECT mID, MAX(stars) max_stars FROM Rating ra\n",
      "        GROUP BY mID\n",
      "        HAVING COUNT(mID) > 1) tab\n",
      "        ON tab.mID = mv.MID\n",
      "        ORDER BY mv.title\n",
      "      \"\"\"\n",
      "# get the data\n",
      "qDF = pandas.read_sql( qry, conn )\n",
      "# print the data\n",
      "print qDF"
     ],
     "language": "python",
     "metadata": {},
     "outputs": [
      {
       "output_type": "stream",
       "stream": "stdout",
       "text": [
        "                     title  max_stars\n",
        "0                   Avatar          5\n",
        "1                     E.T.          3\n",
        "2       Gone with the Wind          4\n",
        "3  Raiders of the Lost Ark          4\n",
        "4               Snow White          5\n",
        "5       The Sound of Music          3\n",
        "\n",
        "[6 rows x 2 columns]\n"
       ]
      }
     ],
     "prompt_number": 8
    },
    {
     "cell_type": "markdown",
     "metadata": {},
     "source": [
      "### Solution using Pandas.\n",
      "> Methods used : groupby, filter(), merge(inner), rename()"
     ]
    },
    {
     "cell_type": "code",
     "collapsed": false,
     "input": [
      "# Do a groupby operation on ratDF\n",
      "ratGrps = ratDF.groupby( ['mID'] )\n",
      "# we'll use filter to implement a having type\n",
      "# operation in pandas, here we're using filter to\n",
      "# get all mIDs which have more than 1 rating\n",
      "ratGrps = ratGrps.filter(lambda x: len(x) > 1)\n",
      "# Now get the rows which have max values in stars\n",
      "# for the selected mIDs\n",
      "ratGrpMax = ratGrps.groupby(['mID'], sort=False)\\\n",
      "             ['stars'].max()\n",
      "# Merge ratGrpMax with movieDF, before that convert\n",
      "# the series to dataframe\n",
      "ratGrpMax = pandas.DataFrame( ratGrpMax )\n",
      "# Make index as column with name 'mID' for merging\n",
      "ratGrpMax['mID'] = ratGrpMax.index\n",
      "ratGrpMax.reset_index(drop=True, inplace=True)\n",
      "# Also rename 'stars' column to 'max_stars'\n",
      "ratGrpMax.rename( columns={'stars':'max_stars'},\\\n",
      "                 inplace=True )\n",
      "ratGrpMax = pandas.merge( ratGrpMax, movieDF,\\\n",
      "                         on='mID', how='inner' )\n",
      "# select the required cols\n",
      "ratGrpMax = ratGrpMax[ [ 'title', 'max_stars' ] ].sort( 'title' )\n",
      "print ratGrpMax"
     ],
     "language": "python",
     "metadata": {},
     "outputs": [
      {
       "output_type": "stream",
       "stream": "stdout",
       "text": [
        "                     title  max_stars\n",
        "5                   Avatar          5\n",
        "4                     E.T.          3\n",
        "0       Gone with the Wind          4\n",
        "3  Raiders of the Lost Ark          4\n",
        "1               Snow White          5\n",
        "2       The Sound of Music          3\n",
        "\n",
        "[6 rows x 2 columns]\n"
       ]
      }
     ],
     "prompt_number": 12
    },
    {
     "cell_type": "markdown",
     "metadata": {},
     "source": [
      "## Question-8 : For each movie, return the title and the 'rating spread', that is, the difference between highest and lowest ratings given to that movie. Sort by rating spread from highest to lowest, then by movie title."
     ]
    },
    {
     "cell_type": "markdown",
     "metadata": {},
     "source": [
      "### Solution using SQL."
     ]
    },
    {
     "cell_type": "code",
     "collapsed": false,
     "input": [
      "#SQL query\n",
      "qry = \"\"\"\n",
      "        SELECT mv.title, tab.rat_spread FROM Movie mv\n",
      "        INNER JOIN\n",
      "        (SELECT mID, MAX(stars)-MIN(stars) rat_spread FROM Rating ra\n",
      "        GROUP BY mID)  tab\n",
      "        ON tab.mID = mv.MID\n",
      "        ORDER BY tab.rat_spread DESC, mv.title\n",
      "      \"\"\"\n",
      "# get the data\n",
      "qDF = pandas.read_sql( qry, conn )\n",
      "# print the data\n",
      "print qDF"
     ],
     "language": "python",
     "metadata": {},
     "outputs": [
      {
       "output_type": "stream",
       "stream": "stdout",
       "text": [
        "                     title  rat_spread\n",
        "0                   Avatar           2\n",
        "1       Gone with the Wind           2\n",
        "2  Raiders of the Lost Ark           2\n",
        "3                     E.T.           1\n",
        "4               Snow White           1\n",
        "5       The Sound of Music           1\n",
        "\n",
        "[6 rows x 2 columns]\n"
       ]
      }
     ],
     "prompt_number": 9
    },
    {
     "cell_type": "markdown",
     "metadata": {},
     "source": [
      "### Solution using Pandas.\n",
      "> Methods used : groupby, concat, rename, sort"
     ]
    },
    {
     "cell_type": "code",
     "collapsed": false,
     "input": [
      "# Group by mID\n",
      "ratGrps = ratDF.groupby( ['mID'] )\n",
      "# Get max and min star values from groupby ops\n",
      "ratMax = ratDF.groupby(['mID'], sort=False)\\\n",
      "             ['stars'].max()\n",
      "ratMin = ratDF.groupby(['mID'], sort=False)\\\n",
      "             ['stars'].min()\n",
      "# rename the names of ratMin and ratMax Series\n",
      "ratMax.name = 'max_stars'\n",
      "ratMin.name = 'min_stars'\n",
      "# merge(concat) the series\n",
      "resDF = pandas.concat( [ratMax, ratMin], axis=1 )\n",
      "# set the mID col\n",
      "resDF['mID'] = resDF.index\n",
      "# reset the index\n",
      "resDF.reset_index(drop=True, inplace=True)\n",
      "# get the rating spread col\n",
      "resDF['rat_spread'] = resDF['max_stars'] - resDF['min_stars']\n",
      "# merge with movieDF and select req cols\n",
      "resDF = pandas.merge( resDF, movieDF,\\\n",
      "                         on='mID', how='inner' )\n",
      "resDF = resDF[ [ 'title', 'rat_spread' ] ]\\\n",
      "        .sort('rat_spread', ascending=False)\\\n",
      "        .reset_index(drop=True)\n",
      "print resDF"
     ],
     "language": "python",
     "metadata": {},
     "outputs": []
    },
    {
     "cell_type": "markdown",
     "metadata": {},
     "source": [
      ">Question-9 : Find the difference between the average rating of movies released before 1980 and the average rating of movies released after 1980. (Make sure to calculate the average rating for each movie, then the average of those averages for movies before 1980 and movies after. Don't just calculate the overall average rating before and after 1980.)"
     ]
    },
    {
     "cell_type": "markdown",
     "metadata": {},
     "source": [
      "### Solution using SQL."
     ]
    },
    {
     "cell_type": "code",
     "collapsed": false,
     "input": [
      "#SQL query\n",
      "qry = \"\"\"\n",
      "        SELECT MAX(tab2.rat_rel_date) - MIN(tab2.rat_rel_date) difference FROM\n",
      "        ( SELECT AVG(avg_rat) rat_rel_date FROM\n",
      "        ( SELECT Movie.mID, AVG(Rating.stars) avg_rat, \n",
      "        CASE WHEN Movie.year < 1980 THEN 'BEFORE' ELSE 'AFTER' END rel_date\n",
      "         FROM Rating\n",
      "        INNER JOIN Movie ON Movie.mID = Rating.mID\n",
      "        GROUP BY Movie.mID ) tab\n",
      "        GROUP BY tab.rel_date) tab2\n",
      "      \"\"\"\n",
      "# get the data\n",
      "qDF = pandas.read_sql( qry, conn )\n",
      "# print the data\n",
      "print qDF"
     ],
     "language": "python",
     "metadata": {},
     "outputs": [
      {
       "output_type": "stream",
       "stream": "stdout",
       "text": [
        "   difference\n",
        "0    0.055567\n",
        "\n",
        "[1 rows x 1 columns]\n"
       ]
      }
     ],
     "prompt_number": 11
    },
    {
     "cell_type": "markdown",
     "metadata": {},
     "source": [
      "### Solution using Pandas.\n",
      "> Methods used : selection, merge(inner), sort, unique"
     ]
    },
    {
     "cell_type": "code",
     "collapsed": false,
     "input": [],
     "language": "python",
     "metadata": {},
     "outputs": []
    }
   ],
   "metadata": {}
  }
 ]
}