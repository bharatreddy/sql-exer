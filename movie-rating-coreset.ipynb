{
 "metadata": {
  "name": "",
  "signature": "sha256:e5c6e8ad5c51991bf34dcb440e5cdc96eb60c9d87ac578d4ee00ff9c7436499a"
 },
 "nbformat": 3,
 "nbformat_minor": 0,
 "worksheets": [
  {
   "cells": [
    {
     "cell_type": "markdown",
     "metadata": {},
     "source": [
      "> SQL exercise questions from Coursera - Introduction to Databases course\n",
      ">> SQL Movie-Rating Query Exercises (core set)"
     ]
    },
    {
     "cell_type": "markdown",
     "metadata": {},
     "source": [
      "> In this part we'll use a database called 'rating'. I downloaded it from the Introduction to databases course in coursera. The database has three tables ( 'Movie', 'Rating', 'Reviewer' ). The schema is shown below.\n",
      "\n",
      ">                                                       Movie table\n",
      "\n",
      ">| mID | title | year | director |\n",
      "  | ------ |:---:| ----:|----:|\n",
      "  |    -    |   -  |   -   |   -   |\n",
      "\n",
      ">                                                      Rating table\n",
      "\n",
      ">| rID | mID | stars | ratingDate |\n",
      "  | ------ |:---:| ----:|----:|\n",
      "  |    -    |   -  |   -   |   -   |\n",
      "  \n",
      ">                                                     Reviewer table\n",
      "\n",
      ">| rID | name |\n",
      "  | ------ |:---:|\n",
      "  |    -    |   -  |\n"
     ]
    },
    {
     "cell_type": "code",
     "collapsed": false,
     "input": [
      "import pandas\n",
      "import mysql.connector\n",
      "# set up connections to the DB\n",
      "conn = mysql.connector.Connect(host='localhost',user='root',\\\n",
      "                        password='',database='rating')"
     ],
     "language": "python",
     "metadata": {},
     "outputs": [],
     "prompt_number": 1
    },
    {
     "cell_type": "markdown",
     "metadata": {},
     "source": [
      "> Question-1 : Find the titles of all movies directed by Steven Spielberg. "
     ]
    },
    {
     "cell_type": "code",
     "collapsed": false,
     "input": [
      "#SQL query\n",
      "qry = \"\"\"\n",
      "        SELECT title FROM Movie\n",
      "        WHERE director = 'Steven Spielberg'\n",
      "      \"\"\"\n",
      "# get the data\n",
      "qDF = pandas.read_sql( qry, conn )\n",
      "# print the data\n",
      "print qDF"
     ],
     "language": "python",
     "metadata": {},
     "outputs": [
      {
       "output_type": "stream",
       "stream": "stdout",
       "text": [
        "                     title\n",
        "0                     E.T.\n",
        "1  Raiders of the Lost Ark\n",
        "\n",
        "[2 rows x 1 columns]\n"
       ]
      }
     ],
     "prompt_number": 2
    },
    {
     "cell_type": "markdown",
     "metadata": {},
     "source": [
      ">Question-2 : Find all years that have a movie that received a rating of 4 or 5, and sort them in increasing order."
     ]
    },
    {
     "cell_type": "code",
     "collapsed": false,
     "input": [
      "#SQL query\n",
      "qry = \"\"\"\n",
      "        SELECT DISTINCT mv.year FROM Movie mv\n",
      "        INNER JOIN Rating ra\n",
      "        ON ra.mID = mv.mID\n",
      "        WHERE ra.stars >= 4\n",
      "        ORDER BY mv.year ASC\n",
      "      \"\"\"\n",
      "# get the data\n",
      "qDF = pandas.read_sql( qry, conn )\n",
      "# print the data\n",
      "print qDF"
     ],
     "language": "python",
     "metadata": {},
     "outputs": [
      {
       "output_type": "stream",
       "stream": "stdout",
       "text": [
        "   year\n",
        "0  1937\n",
        "1  1939\n",
        "2  1981\n",
        "3  2009\n",
        "\n",
        "[4 rows x 1 columns]\n"
       ]
      }
     ],
     "prompt_number": 3
    },
    {
     "cell_type": "markdown",
     "metadata": {},
     "source": [
      ">Question-3 : Find the titles of all movies that have no ratings."
     ]
    },
    {
     "cell_type": "code",
     "collapsed": false,
     "input": [
      "#SQL query\n",
      "qry = \"\"\"\n",
      "        SELECT mv.title FROM Movie mv\n",
      "        LEFT JOIN Rating ra\n",
      "        ON ra.mID = mv.mID\n",
      "        WHERE ra.mID is NULL\n",
      "      \"\"\"\n",
      "# get the data\n",
      "qDF = pandas.read_sql( qry, conn )\n",
      "# print the data\n",
      "print qDF"
     ],
     "language": "python",
     "metadata": {},
     "outputs": [
      {
       "output_type": "stream",
       "stream": "stdout",
       "text": [
        "       title\n",
        "0  Star Wars\n",
        "1    Titanic\n",
        "\n",
        "[2 rows x 1 columns]\n"
       ]
      }
     ],
     "prompt_number": 4
    },
    {
     "cell_type": "markdown",
     "metadata": {},
     "source": [
      ">Question-4 : Some reviewers didn't provide a date with their rating. Find the names of all reviewers who have ratings with a NULL value for the date."
     ]
    },
    {
     "cell_type": "code",
     "collapsed": false,
     "input": [
      "#SQL query\n",
      "qry = \"\"\"\n",
      "        SELECT re.name FROM Reviewer re\n",
      "        INNER JOIN Rating ra\n",
      "        ON ra.rID = re.rID\n",
      "        WHERE ra.ratingDate IS NULL\n",
      "      \"\"\"\n",
      "# get the data\n",
      "qDF = pandas.read_sql( qry, conn )\n",
      "# print the data\n",
      "print qDF"
     ],
     "language": "python",
     "metadata": {},
     "outputs": [
      {
       "output_type": "stream",
       "stream": "stdout",
       "text": [
        "            name\n",
        "0   Daniel Lewis\n",
        "1  Chris Jackson\n",
        "\n",
        "[2 rows x 1 columns]\n"
       ]
      }
     ],
     "prompt_number": 5
    },
    {
     "cell_type": "markdown",
     "metadata": {},
     "source": [
      ">Question-5 : Write a query to return the ratings data in a more readable format: reviewer name, movie title, stars, and ratingDate. Also, sort the data, first by reviewer name, then by movie title, and lastly by number of stars. "
     ]
    },
    {
     "cell_type": "code",
     "collapsed": false,
     "input": [
      "#SQL query\n",
      "qry = \"\"\"\n",
      "        SELECT re.name, mv.title, ra.stars, ra.ratingDate\n",
      "        FROM Movie mv \n",
      "        INNER JOIN Rating ra ON ra.mID = mv.mID\n",
      "        INNER JOIN Reviewer re ON ra.rID = re.rID\n",
      "        ORDER BY re.name, mv.title, ra.stars\n",
      "      \"\"\"\n",
      "# get the data\n",
      "qDF = pandas.read_sql( qry, conn )\n",
      "# print the data\n",
      "print qDF"
     ],
     "language": "python",
     "metadata": {},
     "outputs": [
      {
       "output_type": "stream",
       "stream": "stdout",
       "text": [
        "                name                    title  stars  ratingDate\n",
        "0       Ashley White                     E.T.      3  2011-01-02\n",
        "1    Brittany Harris  Raiders of the Lost Ark      2  2011-01-30\n",
        "2    Brittany Harris  Raiders of the Lost Ark      4  2011-01-12\n",
        "3    Brittany Harris       The Sound of Music      2  2011-01-20\n",
        "4      Chris Jackson                     E.T.      2  2011-01-22\n",
        "5      Chris Jackson  Raiders of the Lost Ark      4        None\n",
        "6      Chris Jackson       The Sound of Music      3  2011-01-27\n",
        "7       Daniel Lewis               Snow White      4        None\n",
        "8   Elizabeth Thomas                   Avatar      3  2011-01-15\n",
        "9   Elizabeth Thomas               Snow White      5  2011-01-19\n",
        "10     James Cameron                   Avatar      5  2011-01-20\n",
        "11     Mike Anderson       Gone with the Wind      3  2011-01-09\n",
        "12    Sarah Martinez       Gone with the Wind      2  2011-01-22\n",
        "13    Sarah Martinez       Gone with the Wind      4  2011-01-27\n",
        "\n",
        "[14 rows x 4 columns]\n"
       ]
      }
     ],
     "prompt_number": 6
    },
    {
     "cell_type": "markdown",
     "metadata": {},
     "source": [
      ">Question-6 : For all cases where the same reviewer rated the same movie twice and gave it a higher rating the second time, return the reviewer's name and the title of the movie. "
     ]
    },
    {
     "cell_type": "code",
     "collapsed": false,
     "input": [
      "#SQL query\n",
      "qry = \"\"\"\n",
      "        SELECT re1.name, mv.title FROM Reviewer re1\n",
      "        INNER JOIN Rating ra1 ON ra1.rID = re1.rID\n",
      "        INNER JOIN Movie mv ON mv.mID = ra1.mID\n",
      "        INNER JOIN Rating ra2 ON ra1.rID = ra2.rID AND ra1.mID = ra2.mID\n",
      "        WHERE ra2.stars > ra1.stars AND ra2.ratingDate > ra1.ratingDate\n",
      "      \"\"\"\n",
      "# get the data\n",
      "qDF = pandas.read_sql( qry, conn )\n",
      "# print the data\n",
      "print qDF"
     ],
     "language": "python",
     "metadata": {},
     "outputs": [
      {
       "output_type": "stream",
       "stream": "stdout",
       "text": [
        "             name               title\n",
        "0  Sarah Martinez  Gone with the Wind\n",
        "\n",
        "[1 rows x 2 columns]\n"
       ]
      }
     ],
     "prompt_number": 7
    },
    {
     "cell_type": "markdown",
     "metadata": {},
     "source": [
      ">Question-7 : For each movie that has at least one rating, find the highest number of stars that movie received. Return the movie title and number of stars. Sort by movie title."
     ]
    },
    {
     "cell_type": "code",
     "collapsed": false,
     "input": [
      "#SQL query\n",
      "qry = \"\"\"\n",
      "        SELECT mv.title, tab.max_stars FROM Movie mv\n",
      "        INNER JOIN\n",
      "        (SELECT mID, MAX(stars) max_stars FROM Rating ra\n",
      "        GROUP BY mID\n",
      "        HAVING COUNT(mID) > 1) tab\n",
      "        ON tab.mID = mv.MID\n",
      "        ORDER BY mv.title\n",
      "      \"\"\"\n",
      "# get the data\n",
      "qDF = pandas.read_sql( qry, conn )\n",
      "# print the data\n",
      "print qDF"
     ],
     "language": "python",
     "metadata": {},
     "outputs": [
      {
       "output_type": "stream",
       "stream": "stdout",
       "text": [
        "                     title  max_stars\n",
        "0                   Avatar          5\n",
        "1                     E.T.          3\n",
        "2       Gone with the Wind          4\n",
        "3  Raiders of the Lost Ark          4\n",
        "4               Snow White          5\n",
        "5       The Sound of Music          3\n",
        "\n",
        "[6 rows x 2 columns]\n"
       ]
      }
     ],
     "prompt_number": 8
    },
    {
     "cell_type": "markdown",
     "metadata": {},
     "source": [
      ">Question-8 : For each movie, return the title and the 'rating spread', that is, the difference between highest and lowest ratings given to that movie. Sort by rating spread from highest to lowest, then by movie title."
     ]
    },
    {
     "cell_type": "code",
     "collapsed": false,
     "input": [
      "#SQL query\n",
      "qry = \"\"\"\n",
      "        SELECT mv.title, tab.rat_spread FROM Movie mv\n",
      "        INNER JOIN\n",
      "        (SELECT mID, MAX(stars)-MIN(stars) rat_spread FROM Rating ra\n",
      "        GROUP BY mID)  tab\n",
      "        ON tab.mID = mv.MID\n",
      "        ORDER BY tab.rat_spread DESC, mv.title\n",
      "      \"\"\"\n",
      "# get the data\n",
      "qDF = pandas.read_sql( qry, conn )\n",
      "# print the data\n",
      "print qDF"
     ],
     "language": "python",
     "metadata": {},
     "outputs": [
      {
       "output_type": "stream",
       "stream": "stdout",
       "text": [
        "                     title  rat_spread\n",
        "0                   Avatar           2\n",
        "1       Gone with the Wind           2\n",
        "2  Raiders of the Lost Ark           2\n",
        "3                     E.T.           1\n",
        "4               Snow White           1\n",
        "5       The Sound of Music           1\n",
        "\n",
        "[6 rows x 2 columns]\n"
       ]
      }
     ],
     "prompt_number": 9
    },
    {
     "cell_type": "markdown",
     "metadata": {},
     "source": [
      ">Question-9 : Find the difference between the average rating of movies released before 1980 and the average rating of movies released after 1980. (Make sure to calculate the average rating for each movie, then the average of those averages for movies before 1980 and movies after. Don't just calculate the overall average rating before and after 1980.)"
     ]
    },
    {
     "cell_type": "code",
     "collapsed": false,
     "input": [
      "#SQL query\n",
      "qry = \"\"\"\n",
      "        SELECT MAX(tab2.rat_rel_date) - MIN(tab2.rat_rel_date) difference FROM\n",
      "        ( SELECT AVG(avg_rat) rat_rel_date FROM\n",
      "        ( SELECT Movie.mID, AVG(Rating.stars) avg_rat, \n",
      "        CASE WHEN Movie.year < 1980 THEN 'BEFORE' ELSE 'AFTER' END rel_date\n",
      "         FROM Rating\n",
      "        INNER JOIN Movie ON Movie.mID = Rating.mID\n",
      "        GROUP BY Movie.mID ) tab\n",
      "        GROUP BY tab.rel_date) tab2\n",
      "      \"\"\"\n",
      "# get the data\n",
      "qDF = pandas.read_sql( qry, conn )\n",
      "# print the data\n",
      "print qDF"
     ],
     "language": "python",
     "metadata": {},
     "outputs": [
      {
       "output_type": "stream",
       "stream": "stdout",
       "text": [
        "   difference\n",
        "0    0.055567\n",
        "\n",
        "[1 rows x 1 columns]\n"
       ]
      }
     ],
     "prompt_number": 11
    }
   ],
   "metadata": {}
  }
 ]
}