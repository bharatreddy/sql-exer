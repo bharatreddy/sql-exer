{
 "metadata": {
  "name": "",
  "signature": "sha256:5b24138d405915bc9e5984116ec26a7eba4372868246b5b77c9c7c290381e246"
 },
 "nbformat": 3,
 "nbformat_minor": 0,
 "worksheets": [
  {
   "cells": [
    {
     "cell_type": "markdown",
     "metadata": {},
     "source": [
      "> SQL exercise questions from Courseera - Introduction to Databases course\n",
      ">> SQL Movie-Rating Query Exercises (core set)"
     ]
    },
    {
     "cell_type": "code",
     "collapsed": false,
     "input": [
      "import pandas\n",
      "import mysql.connector\n",
      "# set up connections to the DB\n",
      "conn = mysql.connector.Connect(host='localhost',user='root',\\\n",
      "                        password='',database='rating')"
     ],
     "language": "python",
     "metadata": {},
     "outputs": [],
     "prompt_number": 2
    },
    {
     "cell_type": "markdown",
     "metadata": {},
     "source": [
      "> Question-1 : Find the titles of all movies directed by Steven Spielberg. "
     ]
    },
    {
     "cell_type": "code",
     "collapsed": false,
     "input": [
      "#SQL query\n",
      "qry = \"\"\"\n",
      "        SELECT title FROM Movie\n",
      "        WHERE director = 'Steven Spielberg'\n",
      "      \"\"\"\n",
      "# get the data\n",
      "qDF = pandas.read_sql( qry, conn )\n",
      "# print the data\n",
      "print qDF"
     ],
     "language": "python",
     "metadata": {},
     "outputs": [
      {
       "output_type": "stream",
       "stream": "stdout",
       "text": [
        "                     title\n",
        "0                     E.T.\n",
        "1  Raiders of the Lost Ark\n",
        "\n",
        "[2 rows x 1 columns]\n"
       ]
      }
     ],
     "prompt_number": 3
    },
    {
     "cell_type": "markdown",
     "metadata": {},
     "source": [
      ">Question-2 : Find all years that have a movie that received a rating of 4 or 5, and sort them in increasing order."
     ]
    },
    {
     "cell_type": "code",
     "collapsed": false,
     "input": [
      "#SQL query\n",
      "qry = \"\"\"\n",
      "        SELECT DISTINCT mv.year FROM Movie mv\n",
      "        INNER JOIN Rating ra\n",
      "        ON ra.mID = mv.mID\n",
      "        WHERE ra.stars >= 4\n",
      "        ORDER BY mv.year ASC\n",
      "      \"\"\"\n",
      "# get the data\n",
      "qDF = pandas.read_sql( qry, conn )\n",
      "# print the data\n",
      "print qDF"
     ],
     "language": "python",
     "metadata": {},
     "outputs": [
      {
       "output_type": "stream",
       "stream": "stdout",
       "text": [
        "   year\n",
        "0  1937\n",
        "1  1939\n",
        "2  1981\n",
        "3  2009\n",
        "\n",
        "[4 rows x 1 columns]\n"
       ]
      }
     ],
     "prompt_number": 4
    },
    {
     "cell_type": "markdown",
     "metadata": {},
     "source": [
      ">Question-3 : Find the titles of all movies that have no ratings."
     ]
    },
    {
     "cell_type": "code",
     "collapsed": false,
     "input": [
      "#SQL query\n",
      "qry = \"\"\"\n",
      "        SELECT mv.title FROM Movie mv\n",
      "        LEFT JOIN Rating ra\n",
      "        ON ra.mID = mv.mID\n",
      "        WHERE ra.mID is NULL\n",
      "      \"\"\"\n",
      "# get the data\n",
      "qDF = pandas.read_sql( qry, conn )\n",
      "# print the data\n",
      "print qDF"
     ],
     "language": "python",
     "metadata": {},
     "outputs": [
      {
       "output_type": "stream",
       "stream": "stdout",
       "text": [
        "       title\n",
        "0  Star Wars\n",
        "1    Titanic\n",
        "\n",
        "[2 rows x 1 columns]\n"
       ]
      }
     ],
     "prompt_number": 5
    },
    {
     "cell_type": "markdown",
     "metadata": {},
     "source": [
      ">Question-4 : Some reviewers didn't provide a date with their rating. Find the names of all reviewers who have ratings with a NULL value for the date."
     ]
    },
    {
     "cell_type": "code",
     "collapsed": false,
     "input": [
      "#SQL query\n",
      "qry = \"\"\"\n",
      "        SELECT re.name FROM Reviewer re\n",
      "        INNER JOIN Rating ra\n",
      "        ON ra.rID = re.rID\n",
      "        WHERE ra.ratingDate IS NULL\n",
      "      \"\"\"\n",
      "# get the data\n",
      "qDF = pandas.read_sql( qry, conn )\n",
      "# print the data\n",
      "print qDF"
     ],
     "language": "python",
     "metadata": {},
     "outputs": [
      {
       "output_type": "stream",
       "stream": "stdout",
       "text": [
        "            name\n",
        "0   Daniel Lewis\n",
        "1  Chris Jackson\n",
        "\n",
        "[2 rows x 1 columns]\n"
       ]
      }
     ],
     "prompt_number": 6
    },
    {
     "cell_type": "markdown",
     "metadata": {},
     "source": [
      ">Question-5 : Write a query to return the ratings data in a more readable format: reviewer name, movie title, stars, and ratingDate. Also, sort the data, first by reviewer name, then by movie title, and lastly by number of stars. "
     ]
    },
    {
     "cell_type": "code",
     "collapsed": false,
     "input": [
      "#SQL query\n",
      "qry = \"\"\"\n",
      "        SELECT re.name, mv.title, ra.stars, ra.ratingDate\n",
      "        FROM Movie mv \n",
      "        INNER JOIN Rating ra ON ra.mID = mv.mID\n",
      "        INNER JOIN Reviewer re ON ra.rID = re.rID\n",
      "        ORDER BY re.name, mv.title, ra.stars\n",
      "      \"\"\"\n",
      "# get the data\n",
      "qDF = pandas.read_sql( qry, conn )\n",
      "# print the data\n",
      "print qDF"
     ],
     "language": "python",
     "metadata": {},
     "outputs": [
      {
       "output_type": "stream",
       "stream": "stdout",
       "text": [
        "                name                    title  stars  ratingDate\n",
        "0       Ashley White                     E.T.      3  2011-01-02\n",
        "1    Brittany Harris  Raiders of the Lost Ark      2  2011-01-30\n",
        "2    Brittany Harris  Raiders of the Lost Ark      4  2011-01-12\n",
        "3    Brittany Harris       The Sound of Music      2  2011-01-20\n",
        "4      Chris Jackson                     E.T.      2  2011-01-22\n",
        "5      Chris Jackson  Raiders of the Lost Ark      4        None\n",
        "6      Chris Jackson       The Sound of Music      3  2011-01-27\n",
        "7       Daniel Lewis               Snow White      4        None\n",
        "8   Elizabeth Thomas                   Avatar      3  2011-01-15\n",
        "9   Elizabeth Thomas               Snow White      5  2011-01-19\n",
        "10     James Cameron                   Avatar      5  2011-01-20\n",
        "11     Mike Anderson       Gone with the Wind      3  2011-01-09\n",
        "12    Sarah Martinez       Gone with the Wind      2  2011-01-22\n",
        "13    Sarah Martinez       Gone with the Wind      4  2011-01-27\n",
        "\n",
        "[14 rows x 4 columns]\n"
       ]
      }
     ],
     "prompt_number": 7
    },
    {
     "cell_type": "markdown",
     "metadata": {},
     "source": [
      ">Question-6 : Find all years that have a movie that received a rating of 4 or 5, and sort them in increasing order."
     ]
    },
    {
     "cell_type": "markdown",
     "metadata": {},
     "source": [
      ">Question-7 : Find all years that have a movie that received a rating of 4 or 5, and sort them in increasing order."
     ]
    },
    {
     "cell_type": "markdown",
     "metadata": {},
     "source": [
      ">Question-8 : Find all years that have a movie that received a rating of 4 or 5, and sort them in increasing order."
     ]
    },
    {
     "cell_type": "markdown",
     "metadata": {},
     "source": [
      ">Question-9 : Find all years that have a movie that received a rating of 4 or 5, and sort them in increasing order."
     ]
    }
   ],
   "metadata": {}
  }
 ]
}