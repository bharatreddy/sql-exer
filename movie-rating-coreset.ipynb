{
 "metadata": {
  "name": "",
  "signature": "sha256:ddad30f6474055f42b3a630b16113a0cca54d027c321d86a3c99be25d6a4ac85"
 },
 "nbformat": 3,
 "nbformat_minor": 0,
 "worksheets": [
  {
   "cells": [
    {
     "cell_type": "markdown",
     "metadata": {},
     "source": [
      "> SQL exercise questions from Courseera - Introduction to Databases course\n",
      ">> SQL Movie-Rating Query Exercises (core set)"
     ]
    },
    {
     "cell_type": "code",
     "collapsed": false,
     "input": [
      "import pandas\n",
      "import mysql.connector\n",
      "# set up connections to the DB\n",
      "conn = mysql.connector.Connect(host='localhost',user='root',\\\n",
      "                        password='',database='rating')"
     ],
     "language": "python",
     "metadata": {},
     "outputs": [],
     "prompt_number": 1
    },
    {
     "cell_type": "markdown",
     "metadata": {},
     "source": [
      "> Question-1 : Find the titles of all movies directed by Steven Spielberg. "
     ]
    },
    {
     "cell_type": "code",
     "collapsed": false,
     "input": [
      "#SQL query\n",
      "qry = \"\"\"\n",
      "        SELECT title FROM Movie\n",
      "        WHERE director = 'Steven Spielberg'\n",
      "      \"\"\"\n",
      "# get the data\n",
      "qDF = pandas.read_sql( qry, conn )\n",
      "# print the data\n",
      "print qDF"
     ],
     "language": "python",
     "metadata": {},
     "outputs": [
      {
       "output_type": "stream",
       "stream": "stdout",
       "text": [
        "                     title\n",
        "0                     E.T.\n",
        "1  Raiders of the Lost Ark\n",
        "\n",
        "[2 rows x 1 columns]\n"
       ]
      }
     ],
     "prompt_number": 4
    },
    {
     "cell_type": "markdown",
     "metadata": {},
     "source": [
      ">Question-2 : Find all years that have a movie that received a rating of 4 or 5, and sort them in increasing order."
     ]
    },
    {
     "cell_type": "code",
     "collapsed": false,
     "input": [
      "#SQL query\n",
      "qry = \"\"\"\n",
      "        SELECT DISTINCT mv.year FROM Movie mv\n",
      "        INNER JOIN Rating ra\n",
      "        ON ra.mID = mv.mID\n",
      "        WHERE ra.stars >= 4\n",
      "        ORDER BY mv.year ASC\n",
      "      \"\"\"\n",
      "# get the data\n",
      "qDF = pandas.read_sql( qry, conn )\n",
      "# print the data\n",
      "print qDF"
     ],
     "language": "python",
     "metadata": {},
     "outputs": [
      {
       "output_type": "stream",
       "stream": "stdout",
       "text": [
        "   year\n",
        "0  1937\n",
        "1  1939\n",
        "2  1981\n",
        "3  2009\n",
        "\n",
        "[4 rows x 1 columns]\n"
       ]
      }
     ],
     "prompt_number": 3
    },
    {
     "cell_type": "markdown",
     "metadata": {},
     "source": [
      ">Question-3 : Find all years that have a movie that received a rating of 4 or 5, and sort them in increasing order."
     ]
    },
    {
     "cell_type": "markdown",
     "metadata": {},
     "source": [
      ">Question-4 : Find all years that have a movie that received a rating of 4 or 5, and sort them in increasing order."
     ]
    },
    {
     "cell_type": "markdown",
     "metadata": {},
     "source": [
      ">Question-5 : Find all years that have a movie that received a rating of 4 or 5, and sort them in increasing order."
     ]
    },
    {
     "cell_type": "markdown",
     "metadata": {},
     "source": [
      ">Question-6 : Find all years that have a movie that received a rating of 4 or 5, and sort them in increasing order."
     ]
    },
    {
     "cell_type": "markdown",
     "metadata": {},
     "source": [
      ">Question-7 : Find all years that have a movie that received a rating of 4 or 5, and sort them in increasing order."
     ]
    },
    {
     "cell_type": "markdown",
     "metadata": {},
     "source": [
      ">Question-8 : Find all years that have a movie that received a rating of 4 or 5, and sort them in increasing order."
     ]
    },
    {
     "cell_type": "markdown",
     "metadata": {},
     "source": [
      ">Question-9 : Find all years that have a movie that received a rating of 4 or 5, and sort them in increasing order."
     ]
    }
   ],
   "metadata": {}
  }
 ]
}