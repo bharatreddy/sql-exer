{
 "metadata": {
  "name": "",
  "signature": "sha256:6f456bc5f52bc6cef90b8208331e058d0f0864bce1a8728bc48c28b6ebca2079"
 },
 "nbformat": 3,
 "nbformat_minor": 0,
 "worksheets": [
  {
   "cells": [
    {
     "cell_type": "code",
     "collapsed": false,
     "input": [
      "import pandas\n",
      "import mysql.connector\n",
      "# set up connections to the DB\n",
      "conn = mysql.connector.Connect(host='localhost',user='root',\\\n",
      "                        password='',database='rating')\n",
      "#LOAD the SQL tables into DF\n",
      "qryMv = \"\"\"\n",
      "        SELECT * From Movie\n",
      "      \"\"\"\n",
      "qryRt = \"\"\"\n",
      "        SELECT * From Rating\n",
      "      \"\"\"\n",
      "qryRe = \"\"\"\n",
      "        SELECT * From Reviewer\n",
      "      \"\"\"\n",
      "movieDF = pandas.read_sql( qryMv, conn )\n",
      "ratDF = pandas.read_sql( qryRt, conn )\n",
      "rvwrDF = pandas.read_sql( qryRe, conn )"
     ],
     "language": "python",
     "metadata": {},
     "outputs": [],
     "prompt_number": 2
    },
    {
     "cell_type": "code",
     "collapsed": false,
     "input": [
      "# Methods used : merge(inner), sort, unique()\n",
      "# First merge all the three DFs\n",
      "resDF = pandas.merge( movieDF, ratDF, \\\n",
      "                     on='mID', how='inner' )\n",
      "resDF = pandas.merge( resDF, rvwrDF,\\\n",
      "                     on='rID', how='inner')\n",
      "# select the rows with title = 'Gone with the wind'\n",
      "resDF = resDF[ resDF['title'] == 'Gone with the Wind' ]\\\n",
      "        ['name'].reset_index(drop=True)\n",
      "# sort the columns\n",
      "resDF.sort( ['name'] )\n",
      "print resDF.unique()"
     ],
     "language": "python",
     "metadata": {},
     "outputs": [
      {
       "output_type": "stream",
       "stream": "stdout",
       "text": [
        "[u'Mike Anderson' u'Sarah Martinez']\n"
       ]
      }
     ],
     "prompt_number": 3
    },
    {
     "cell_type": "code",
     "collapsed": false,
     "input": [
      "# Methods used : merge(inner), sort, unique()\n",
      "# First merge all the three DFs\n",
      "resDF = pandas.merge( movieDF, ratDF, \\\n",
      "                     on='mID', how='inner' )\n",
      "resDF = pandas.merge( resDF, rvwrDF,\\\n",
      "                     on='rID', how='inner')\n",
      "# select the rows where director and reviewer are same\n",
      "resDF = resDF[ resDF['director'] == resDF['name'] ]\\\n",
      "        .reset_index(drop=True)\n",
      "resDF = resDF[ ['name', 'title', 'stars'] ]\n",
      "print resDF"
     ],
     "language": "python",
     "metadata": {},
     "outputs": [
      {
       "output_type": "stream",
       "stream": "stdout",
       "text": [
        "            name   title  stars\n",
        "0  James Cameron  Avatar      5\n",
        "\n",
        "[1 rows x 3 columns]\n"
       ]
      }
     ],
     "prompt_number": 4
    },
    {
     "cell_type": "code",
     "collapsed": false,
     "input": [
      "# Methods used : concat()\n",
      "# instead of merging we concatenate\n",
      "# the dataframes\n",
      "resDF = pandas.concat( [ rvwrDF['name'], movieDF['title'] ] )\n",
      "resDF.sort()\n",
      "print resDF.reset_index(drop=True)"
     ],
     "language": "python",
     "metadata": {},
     "outputs": [
      {
       "output_type": "stream",
       "stream": "stdout",
       "text": [
        "0                Ashley White\n",
        "1                      Avatar\n",
        "2             Brittany Harris\n",
        "3               Chris Jackson\n",
        "4                Daniel Lewis\n",
        "5                        E.T.\n",
        "6            Elizabeth Thomas\n",
        "7          Gone with the Wind\n",
        "8               James Cameron\n",
        "9               Mike Anderson\n",
        "10    Raiders of the Lost Ark\n",
        "11             Sarah Martinez\n",
        "12                 Snow White\n",
        "13                  Star Wars\n",
        "14         The Sound of Music\n",
        "15                    Titanic\n",
        "dtype: object\n"
       ]
      }
     ],
     "prompt_number": 5
    },
    {
     "cell_type": "code",
     "collapsed": false,
     "input": [
      "# Methods used : merge(inner), sort, unique()\n",
      "# Merge ratDF and rvwrDF\n",
      "resDF = pandas.merge( ratDF, rvwrDF,\\\n",
      "                     on='rID', how='inner')\n",
      "# select the rows where revieewer is Chris Jackson\n",
      "resDF = resDF[ resDF['name'] == 'Chris Jackson' ]\n",
      "# merge(left) with movieDF to get those movies\n",
      "# not rated by Chris (they will be none)\n",
      "resDF = pandas.merge( movieDF, resDF,\\\n",
      "                     on='mID', how='left')\n",
      "resDF = resDF[ resDF['rID'].isnull() ]\n",
      "print resDF['title']"
     ],
     "language": "python",
     "metadata": {},
     "outputs": [
      {
       "output_type": "stream",
       "stream": "stdout",
       "text": [
        "0    Gone with the Wind\n",
        "1             Star Wars\n",
        "4               Titanic\n",
        "5            Snow White\n",
        "6                Avatar\n",
        "Name: title, dtype: object\n"
       ]
      }
     ],
     "prompt_number": 26
    },
    {
     "cell_type": "code",
     "collapsed": false,
     "input": [],
     "language": "python",
     "metadata": {},
     "outputs": [],
     "prompt_number": 6
    }
   ],
   "metadata": {}
  }
 ]
}