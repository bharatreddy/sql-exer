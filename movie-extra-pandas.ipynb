{
 "metadata": {
  "name": "",
  "signature": "sha256:fbe786af512361299d3bfd43e83dcfb87d83a7ee045c8e1cb3636fe5cb0a66c1"
 },
 "nbformat": 3,
 "nbformat_minor": 0,
 "worksheets": [
  {
   "cells": [
    {
     "cell_type": "code",
     "collapsed": false,
     "input": [
      "import pandas\n",
      "import mysql.connector\n",
      "# set up connections to the DB\n",
      "conn = mysql.connector.Connect(host='localhost',user='root',\\\n",
      "                        password='',database='rating')\n",
      "#LOAD the SQL tables into DF\n",
      "qryMv = \"\"\"\n",
      "        SELECT * From Movie\n",
      "      \"\"\"\n",
      "qryRt = \"\"\"\n",
      "        SELECT * From Rating\n",
      "      \"\"\"\n",
      "qryRe = \"\"\"\n",
      "        SELECT * From Reviewer\n",
      "      \"\"\"\n",
      "movieDF = pandas.read_sql( qryMv, conn )\n",
      "ratDF = pandas.read_sql( qryRt, conn )\n",
      "rvwrDF = pandas.read_sql( qryRe, conn )"
     ],
     "language": "python",
     "metadata": {},
     "outputs": [],
     "prompt_number": 1
    },
    {
     "cell_type": "code",
     "collapsed": false,
     "input": [
      "# Methods used : merge(inner), sort, unique()\n",
      "# First merge all the three DFs\n",
      "resDF = pandas.merge( movieDF, ratDF, \\\n",
      "                     on='mID', how='inner' )\n",
      "resDF = pandas.merge( resDF, rvwrDF,\\\n",
      "                     on='rID', how='inner')\n",
      "# select the rows with title = 'Gone with the wind'\n",
      "resDF = resDF[ resDF['title'] == 'Gone with the Wind' ]\\\n",
      "        ['name'].reset_index(drop=True)\n",
      "# sort the columns\n",
      "resDF.sort( ['name'] )\n",
      "print resDF.unique()"
     ],
     "language": "python",
     "metadata": {},
     "outputs": [
      {
       "output_type": "stream",
       "stream": "stdout",
       "text": [
        "[u'Mike Anderson' u'Sarah Martinez']\n"
       ]
      }
     ],
     "prompt_number": 13
    },
    {
     "cell_type": "code",
     "collapsed": false,
     "input": [
      "# Methods used : merge(inner), sort, unique()\n",
      "# First merge all the three DFs\n",
      "resDF = pandas.merge( movieDF, ratDF, \\\n",
      "                     on='mID', how='inner' )\n",
      "resDF = pandas.merge( resDF, rvwrDF,\\\n",
      "                     on='rID', how='inner')\n",
      "# select the rows where director and reviewer are same\n",
      "resDF = resDF[ resDF['director'] == resDF['name'] ]\\\n",
      "        .reset_index(drop=True)\n",
      "resDF = resDF[ ['name', 'title', 'stars'] ]\n",
      "print resDF"
     ],
     "language": "python",
     "metadata": {},
     "outputs": [
      {
       "output_type": "stream",
       "stream": "stdout",
       "text": [
        "            name   title  stars\n",
        "0  James Cameron  Avatar      5\n",
        "\n",
        "[1 rows x 3 columns]\n"
       ]
      }
     ],
     "prompt_number": 16
    },
    {
     "cell_type": "code",
     "collapsed": false,
     "input": [
      "# Methods used : concat()\n",
      "# instead of merging we concatenate\n",
      "# the dataframes\n",
      "resDF = pandas.concat( [ rvwrDF['name'], movieDF['title'] ] )\n",
      "resDF.sort()\n",
      "print resDF.reindex()"
     ],
     "language": "python",
     "metadata": {},
     "outputs": [
      {
       "output_type": "stream",
       "stream": "stdout",
       "text": [
        "7               Ashley White\n",
        "6                     Avatar\n",
        "2            Brittany Harris\n",
        "4              Chris Jackson\n",
        "1               Daniel Lewis\n",
        "3                       E.T.\n",
        "5           Elizabeth Thomas\n",
        "0         Gone with the Wind\n",
        "6              James Cameron\n",
        "3              Mike Anderson\n",
        "7    Raiders of the Lost Ark\n",
        "0             Sarah Martinez\n",
        "5                 Snow White\n",
        "1                  Star Wars\n",
        "2         The Sound of Music\n",
        "4                    Titanic\n",
        "dtype: object\n"
       ]
      }
     ],
     "prompt_number": 24
    },
    {
     "cell_type": "code",
     "collapsed": false,
     "input": [],
     "language": "python",
     "metadata": {},
     "outputs": []
    }
   ],
   "metadata": {}
  }
 ]
}