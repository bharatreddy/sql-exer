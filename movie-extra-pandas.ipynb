{
 "metadata": {
  "name": "",
  "signature": "sha256:3d99f89b13f11e8c28ba0d01e3741fb1a4c96c297f67347cbe6d4c988a145974"
 },
 "nbformat": 3,
 "nbformat_minor": 0,
 "worksheets": [
  {
   "cells": [
    {
     "cell_type": "code",
     "collapsed": false,
     "input": [
      "import pandas\n",
      "import mysql.connector\n",
      "# set up connections to the DB\n",
      "conn = mysql.connector.Connect(host='localhost',user='root',\\\n",
      "                        password='',database='rating')\n",
      "#LOAD the SQL tables into DF\n",
      "qryMv = \"\"\"\n",
      "        SELECT * From Movie\n",
      "      \"\"\"\n",
      "qryRt = \"\"\"\n",
      "        SELECT * From Rating\n",
      "      \"\"\"\n",
      "qryRe = \"\"\"\n",
      "        SELECT * From Reviewer\n",
      "      \"\"\"\n",
      "movieDF = pandas.read_sql( qryMv, conn )\n",
      "ratDF = pandas.read_sql( qryRt, conn )\n",
      "rvwrDF = pandas.read_sql( qryRe, conn )"
     ],
     "language": "python",
     "metadata": {},
     "outputs": [],
     "prompt_number": 2
    },
    {
     "cell_type": "code",
     "collapsed": false,
     "input": [
      "# Methods used : merge(inner), sort, unique()\n",
      "# First merge all the three DFs\n",
      "resDF = pandas.merge( movieDF, ratDF, \\\n",
      "                     on='mID', how='inner' )\n",
      "resDF = pandas.merge( resDF, rvwrDF,\\\n",
      "                     on='rID', how='inner')\n",
      "# select the rows with title = 'Gone with the wind'\n",
      "resDF = resDF[ resDF['title'] == 'Gone with the Wind' ]\\\n",
      "        ['name'].reset_index(drop=True)\n",
      "# sort the columns\n",
      "resDF.sort( ['name'] )\n",
      "print resDF.unique()"
     ],
     "language": "python",
     "metadata": {},
     "outputs": [
      {
       "output_type": "stream",
       "stream": "stdout",
       "text": [
        "[u'Mike Anderson' u'Sarah Martinez']\n"
       ]
      }
     ],
     "prompt_number": 3
    },
    {
     "cell_type": "code",
     "collapsed": false,
     "input": [
      "# Methods used : merge(inner), sort, unique()\n",
      "# First merge all the three DFs\n",
      "resDF = pandas.merge( movieDF, ratDF, \\\n",
      "                     on='mID', how='inner' )\n",
      "resDF = pandas.merge( resDF, rvwrDF,\\\n",
      "                     on='rID', how='inner')\n",
      "# select the rows where director and reviewer are same\n",
      "resDF = resDF[ resDF['director'] == resDF['name'] ]\\\n",
      "        .reset_index(drop=True)\n",
      "resDF = resDF[ ['name', 'title', 'stars'] ]\n",
      "print resDF"
     ],
     "language": "python",
     "metadata": {},
     "outputs": [
      {
       "output_type": "stream",
       "stream": "stdout",
       "text": [
        "            name   title  stars\n",
        "0  James Cameron  Avatar      5\n",
        "\n",
        "[1 rows x 3 columns]\n"
       ]
      }
     ],
     "prompt_number": 4
    },
    {
     "cell_type": "code",
     "collapsed": false,
     "input": [
      "# Methods used : concat()\n",
      "# instead of merging we concatenate\n",
      "# the dataframes\n",
      "resDF = pandas.concat( [ rvwrDF['name'], movieDF['title'] ] )\n",
      "resDF.sort()\n",
      "print resDF.reset_index(drop=True)"
     ],
     "language": "python",
     "metadata": {},
     "outputs": [
      {
       "output_type": "stream",
       "stream": "stdout",
       "text": [
        "0                Ashley White\n",
        "1                      Avatar\n",
        "2             Brittany Harris\n",
        "3               Chris Jackson\n",
        "4                Daniel Lewis\n",
        "5                        E.T.\n",
        "6            Elizabeth Thomas\n",
        "7          Gone with the Wind\n",
        "8               James Cameron\n",
        "9               Mike Anderson\n",
        "10    Raiders of the Lost Ark\n",
        "11             Sarah Martinez\n",
        "12                 Snow White\n",
        "13                  Star Wars\n",
        "14         The Sound of Music\n",
        "15                    Titanic\n",
        "dtype: object\n"
       ]
      }
     ],
     "prompt_number": 5
    },
    {
     "cell_type": "code",
     "collapsed": false,
     "input": [
      "# Methods used : merge(inner and left), isnull()\n",
      "# Merge ratDF and rvwrDF\n",
      "resDF = pandas.merge( ratDF, rvwrDF,\\\n",
      "                     on='rID', how='inner')\n",
      "# select the rows where revieewer is Chris Jackson\n",
      "resDF = resDF[ resDF['name'] == 'Chris Jackson' ]\n",
      "# merge(left) with movieDF to get those movies\n",
      "# not rated by Chris (they will be none)\n",
      "resDF = pandas.merge( movieDF, resDF,\\\n",
      "                     on='mID', how='left')\n",
      "resDF = resDF[ resDF['rID'].isnull() ]\n",
      "print resDF['title']"
     ],
     "language": "python",
     "metadata": {},
     "outputs": [
      {
       "output_type": "stream",
       "stream": "stdout",
       "text": [
        "0    Gone with the Wind\n",
        "1             Star Wars\n",
        "4               Titanic\n",
        "5            Snow White\n",
        "6                Avatar\n",
        "Name: title, dtype: object\n"
       ]
      }
     ],
     "prompt_number": 6
    },
    {
     "cell_type": "code",
     "collapsed": false,
     "input": [
      "# Methods used : merge(inner and self), drop_duplicates()\n",
      "# Merge rvwrDF with ratDF twice\n",
      "# this gives us rvwvr name and stars\n",
      "resDF1 = pandas.merge( rvwrDF, ratDF,\\\n",
      "                     on='rID', how='inner')\n",
      "resDF2 = pandas.merge( rvwrDF, ratDF,\\\n",
      "                     on='rID', how='inner')\n",
      "# Merge both resDFs with themselves\n",
      "resDF = pandas.merge( resDF1, resDF2,\\\n",
      "                     on='mID', how='inner')\n",
      "# filter for reviewer names\n",
      "resDF = resDF[ resDF['name_x'] < resDF['name_y'] ]\n",
      "resDF = resDF[ ['name_x','name_y'] ].sort( ['name_x'] )\n",
      "print resDF.drop_duplicates()"
     ],
     "language": "python",
     "metadata": {},
     "outputs": [
      {
       "output_type": "stream",
       "stream": "stdout",
       "text": [
        "              name_x            name_y\n",
        "28      Ashley White     Chris Jackson\n",
        "14   Brittany Harris     Chris Jackson\n",
        "10      Daniel Lewis  Elizabeth Thomas\n",
        "31  Elizabeth Thomas     James Cameron\n",
        "6      Mike Anderson    Sarah Martinez\n",
        "\n",
        "[5 rows x 2 columns]\n"
       ]
      }
     ],
     "prompt_number": 18
    },
    {
     "cell_type": "code",
     "collapsed": false,
     "input": [
      "# Methods used : merge(inner)\n",
      "# get the min star rating\n",
      "minStars = ratDF['stars'].min()\n",
      "# combine all three DFs\n",
      "resDF = pandas.merge( movieDF, ratDF, \\\n",
      "                     on='mID', how='inner' )\n",
      "resDF = pandas.merge( resDF, rvwrDF,\\\n",
      "                     on='rID', how='inner')\n",
      "# get rows which have min stars\n",
      "resDF = resDF[ resDF['stars'] == minStars ].\\\n",
      "        reset_index(drop=True)\n",
      "# get the cols\n",
      "resDF = resDF[ [ 'name', 'title', 'stars'] ]\n",
      "print resDF"
     ],
     "language": "python",
     "metadata": {},
     "outputs": [
      {
       "output_type": "stream",
       "stream": "stdout",
       "text": [
        "              name                    title  stars\n",
        "0   Sarah Martinez       Gone with the Wind      2\n",
        "1  Brittany Harris       The Sound of Music      2\n",
        "2  Brittany Harris  Raiders of the Lost Ark      2\n",
        "3    Chris Jackson                     E.T.      2\n",
        "\n",
        "[4 rows x 3 columns]\n"
       ]
      }
     ],
     "prompt_number": 25
    },
    {
     "cell_type": "code",
     "collapsed": false,
     "input": [],
     "language": "python",
     "metadata": {},
     "outputs": []
    }
   ],
   "metadata": {}
  }
 ]
}