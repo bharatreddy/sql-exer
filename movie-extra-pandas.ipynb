{
 "metadata": {
  "name": "",
  "signature": "sha256:50762c0147715a330faa85a3f7c91d7a585e40ee11838cdcce1863a820ef62df"
 },
 "nbformat": 3,
 "nbformat_minor": 0,
 "worksheets": [
  {
   "cells": [
    {
     "cell_type": "code",
     "collapsed": false,
     "input": [
      "import pandas\n",
      "import mysql.connector\n",
      "# set up connections to the DB\n",
      "conn = mysql.connector.Connect(host='localhost',user='root',\\\n",
      "                        password='',database='rating')\n",
      "#LOAD the SQL tables into DF\n",
      "qryMv = \"\"\"\n",
      "        SELECT * From Movie\n",
      "      \"\"\"\n",
      "qryRt = \"\"\"\n",
      "        SELECT * From Rating\n",
      "      \"\"\"\n",
      "qryRe = \"\"\"\n",
      "        SELECT * From Reviewer\n",
      "      \"\"\"\n",
      "movieDF = pandas.read_sql( qryMv, conn )\n",
      "ratDF = pandas.read_sql( qryRt, conn )\n",
      "rvwrDF = pandas.read_sql( qryRe, conn )"
     ],
     "language": "python",
     "metadata": {},
     "outputs": [],
     "prompt_number": 1
    },
    {
     "cell_type": "code",
     "collapsed": false,
     "input": [
      "# Methods used : merge(inner), sort, unique()\n",
      "# First merge all the three DFs\n",
      "resDF = pandas.merge( movieDF, ratDF, \\\n",
      "                     on='mID', how='inner' )\n",
      "resDF = pandas.merge( resDF, rvwrDF,\\\n",
      "                     on='rID', how='inner')\n",
      "# select the rows with title = 'Gone with the wind'\n",
      "resDF = resDF[ resDF['title'] == 'Gone with the Wind' ]\\\n",
      "        ['name'].reset_index(drop=True)\n",
      "# sort the columns\n",
      "resDF.sort( ['name'] )\n",
      "print resDF.unique()"
     ],
     "language": "python",
     "metadata": {},
     "outputs": [
      {
       "output_type": "stream",
       "stream": "stdout",
       "text": [
        "[u'Mike Anderson' u'Sarah Martinez']\n"
       ]
      }
     ],
     "prompt_number": 13
    },
    {
     "cell_type": "code",
     "collapsed": false,
     "input": [
      "# Methods used : merge(inner), sort, unique()\n",
      "# First merge all the three DFs\n",
      "resDF = pandas.merge( movieDF, ratDF, \\\n",
      "                     on='mID', how='inner' )\n",
      "resDF = pandas.merge( resDF, rvwrDF,\\\n",
      "                     on='rID', how='inner')\n",
      "# select the rows where director and reviewer are same\n",
      "resDF = resDF[ resDF['director'] == resDF['name'] ]\\\n",
      "        .reset_index(drop=True)\n",
      "resDF = resDF[ ['name', 'title', 'stars'] ]\n",
      "print resDF"
     ],
     "language": "python",
     "metadata": {},
     "outputs": [
      {
       "output_type": "stream",
       "stream": "stdout",
       "text": [
        "            name   title  stars\n",
        "0  James Cameron  Avatar      5\n",
        "\n",
        "[1 rows x 3 columns]\n"
       ]
      }
     ],
     "prompt_number": 16
    },
    {
     "cell_type": "code",
     "collapsed": false,
     "input": [
      "# Methods used : concat\n",
      "re"
     ],
     "language": "python",
     "metadata": {},
     "outputs": []
    }
   ],
   "metadata": {}
  }
 ]
}