{
 "metadata": {
  "name": "",
  "signature": "sha256:73fb670e68b8335448bb74524a7cfca03842966e03333856fa05901ef48b5f1b"
 },
 "nbformat": 3,
 "nbformat_minor": 0,
 "worksheets": [
  {
   "cells": [
    {
     "cell_type": "markdown",
     "metadata": {},
     "source": [
      "> SQL exercise questions from Courseera - Introduction to Databases course\n",
      ">> SQL Movie-Rating Query Exercises (extra set)"
     ]
    },
    {
     "cell_type": "code",
     "collapsed": false,
     "input": [
      "import pandas\n",
      "import mysql.connector\n",
      "# set up connections to the DB\n",
      "conn = mysql.connector.Connect(host='localhost',user='root',\\\n",
      "                        password='',database='rating')"
     ],
     "language": "python",
     "metadata": {},
     "outputs": [],
     "prompt_number": 2
    },
    {
     "cell_type": "code",
     "collapsed": false,
     "input": [
      "import pandas\n",
      "import mysql.connector\n",
      "# set up connections to the DB\n",
      "conn = mysql.connector.Connect(host='localhost',user='root',\\\n",
      "                        password='',database='rating')\n",
      "#LOAD the SQL tables into DF\n",
      "qryMv = \"\"\"\n",
      "        SELECT * From Movie\n",
      "      \"\"\"\n",
      "qryRt = \"\"\"\n",
      "        SELECT * From Rating\n",
      "      \"\"\"\n",
      "qryRe = \"\"\"\n",
      "        SELECT * From Reviewer\n",
      "      \"\"\"\n",
      "movieDF = pandas.read_sql( qryMv, conn )\n",
      "ratDF = pandas.read_sql( qryRt, conn )\n",
      "rvwrDF = pandas.read_sql( qryRe, conn )"
     ],
     "language": "python",
     "metadata": {},
     "outputs": [],
     "prompt_number": 1
    },
    {
     "cell_type": "markdown",
     "metadata": {},
     "source": [
      "## Question-1 : Find the names of all reviewers who rated Gone with the Wind."
     ]
    },
    {
     "cell_type": "markdown",
     "metadata": {},
     "source": [
      "### Solution using SQL."
     ]
    },
    {
     "cell_type": "code",
     "collapsed": false,
     "input": [
      "#SQL query\n",
      "qry = \"\"\"\n",
      "        SELECT DISTINCT re.name FROM Reviewer re\n",
      "        INNER JOIN Rating ra ON ra.rID = re.rID\n",
      "        INNER JOIN Movie mv ON ra.mID = mv.mID \n",
      "        WHERE mv.title = 'Gone with the Wind'\n",
      "        ORDER BY re.name\n",
      "      \"\"\"\n",
      "# get the data\n",
      "qDF = pandas.read_sql( qry, conn )\n",
      "# print the data\n",
      "print qDF"
     ],
     "language": "python",
     "metadata": {},
     "outputs": [
      {
       "output_type": "stream",
       "stream": "stdout",
       "text": [
        "             name\n",
        "0   Mike Anderson\n",
        "1  Sarah Martinez\n",
        "\n",
        "[2 rows x 1 columns]\n"
       ]
      }
     ],
     "prompt_number": 3
    },
    {
     "cell_type": "markdown",
     "metadata": {},
     "source": [
      "### Solution using Pandas.\n",
      "> Methods used : selection"
     ]
    },
    {
     "cell_type": "code",
     "collapsed": false,
     "input": [],
     "language": "python",
     "metadata": {},
     "outputs": []
    },
    {
     "cell_type": "markdown",
     "metadata": {},
     "source": [
      "## Question-2 : For any rating where the reviewer is the same as the director of the movie, return the reviewer name, movie title, and number of stars."
     ]
    },
    {
     "cell_type": "markdown",
     "metadata": {},
     "source": [
      "### Solution using SQL."
     ]
    },
    {
     "cell_type": "code",
     "collapsed": false,
     "input": [
      "#SQL query\n",
      "qry = \"\"\"\n",
      "        SELECT re.name, mv.title, ra.stars FROM Movie mv\n",
      "        INNER JOIN Rating ra ON mv.mID = ra.mID\n",
      "        INNER JOIN Reviewer re ON ra.rID = re.rID\n",
      "        WHERE mv.director = re.name\n",
      "      \"\"\"\n",
      "# get the data\n",
      "qDF = pandas.read_sql( qry, conn )\n",
      "# print the data\n",
      "print qDF"
     ],
     "language": "python",
     "metadata": {},
     "outputs": [
      {
       "output_type": "stream",
       "stream": "stdout",
       "text": [
        "            name   title  stars\n",
        "0  James Cameron  Avatar      5\n",
        "\n",
        "[1 rows x 3 columns]\n"
       ]
      }
     ],
     "prompt_number": 4
    },
    {
     "cell_type": "markdown",
     "metadata": {},
     "source": [
      "### Solution using Pandas.\n",
      "> Methods used : selection"
     ]
    },
    {
     "cell_type": "code",
     "collapsed": false,
     "input": [],
     "language": "python",
     "metadata": {},
     "outputs": []
    },
    {
     "cell_type": "markdown",
     "metadata": {},
     "source": [
      "## Question-3 : Return all reviewer names and movie names together in a single list, alphabetized. (Sorting by the first name of the reviewer and first word in the title is fine; no need for special processing on last names or removing \"The\".)"
     ]
    },
    {
     "cell_type": "markdown",
     "metadata": {},
     "source": [
      "### Solution using SQL."
     ]
    },
    {
     "cell_type": "code",
     "collapsed": false,
     "input": [
      "#SQL query\n",
      "qry = \"\"\"\n",
      "        SELECT name list FROM Reviewer \n",
      "        UNION\n",
      "        SELECT title list FROM Movie \n",
      "        ORDER BY list\n",
      "      \"\"\"\n",
      "# get the data\n",
      "qDF = pandas.read_sql( qry, conn )\n",
      "# print the data\n",
      "print qDF"
     ],
     "language": "python",
     "metadata": {},
     "outputs": [
      {
       "output_type": "stream",
       "stream": "stdout",
       "text": [
        "                       list\n",
        "0              Ashley White\n",
        "1                    Avatar\n",
        "2           Brittany Harris\n",
        "3             Chris Jackson\n",
        "4              Daniel Lewis\n",
        "5                      E.T.\n",
        "6          Elizabeth Thomas\n",
        "7        Gone with the Wind\n",
        "8             James Cameron\n",
        "9             Mike Anderson\n",
        "10  Raiders of the Lost Ark\n",
        "11           Sarah Martinez\n",
        "12               Snow White\n",
        "13                Star Wars\n",
        "14       The Sound of Music\n",
        "15                  Titanic\n",
        "\n",
        "[16 rows x 1 columns]\n"
       ]
      }
     ],
     "prompt_number": 5
    },
    {
     "cell_type": "markdown",
     "metadata": {},
     "source": [
      "### Solution using Pandas.\n",
      "> Methods used : selection"
     ]
    },
    {
     "cell_type": "code",
     "collapsed": false,
     "input": [],
     "language": "python",
     "metadata": {},
     "outputs": []
    },
    {
     "cell_type": "markdown",
     "metadata": {},
     "source": [
      "## Question-4 : Find the titles of all movies not reviewed by Chris Jackson."
     ]
    },
    {
     "cell_type": "markdown",
     "metadata": {},
     "source": [
      "### Solution using SQL."
     ]
    },
    {
     "cell_type": "code",
     "collapsed": false,
     "input": [
      "#SQL query\n",
      "qry = \"\"\"\n",
      "        SELECT title FROM Movie\n",
      "        WHERE title NOT IN ( SELECT title FROM Movie mv\n",
      "        INNER JOIN Rating ra ON ra.mID = mv.mID\n",
      "        INNER JOIN Reviewer re ON re.rID = ra.rID \n",
      "        WHERE re.name = 'Chris Jackson' )\n",
      "      \"\"\"\n",
      "# get the data\n",
      "qDF = pandas.read_sql( qry, conn )\n",
      "# print the data\n",
      "print qDF"
     ],
     "language": "python",
     "metadata": {},
     "outputs": [
      {
       "output_type": "stream",
       "stream": "stdout",
       "text": [
        "                title\n",
        "0  Gone with the Wind\n",
        "1           Star Wars\n",
        "2             Titanic\n",
        "3          Snow White\n",
        "4              Avatar\n",
        "\n",
        "[5 rows x 1 columns]\n"
       ]
      }
     ],
     "prompt_number": 4
    },
    {
     "cell_type": "markdown",
     "metadata": {},
     "source": [
      "### Solution using Pandas.\n",
      "> Methods used : selection"
     ]
    },
    {
     "cell_type": "code",
     "collapsed": false,
     "input": [],
     "language": "python",
     "metadata": {},
     "outputs": []
    },
    {
     "cell_type": "markdown",
     "metadata": {},
     "source": [
      "## Question-5 : For all pairs of reviewers such that both reviewers gave a rating to the same movie, return the names of both reviewers. Eliminate duplicates, don't pair reviewers with themselves, and include each pair only once. For each pair, return the names in the pair in alphabetical order."
     ]
    },
    {
     "cell_type": "markdown",
     "metadata": {},
     "source": [
      "### Solution using SQL."
     ]
    },
    {
     "cell_type": "code",
     "collapsed": false,
     "input": [
      "#SQL query\n",
      "qry = \"\"\"\n",
      "        SELECT DISTINCT re1.name name1, re2.name name2 FROM Reviewer re1\n",
      "        INNER JOIN Rating ra1 ON ra1.rID=re1.rID\n",
      "        INNER JOIN Rating ra2 ON ra2.mID=ra1.mID AND ra2.rID != ra1.rID\n",
      "        INNER JOIN Reviewer re2 ON ra2.rID=re2.rID\n",
      "        WHERE re2.name > re1.name\n",
      "        ORDER BY re1.name\n",
      "      \"\"\"\n",
      "# get the data\n",
      "qDF = pandas.read_sql( qry, conn )\n",
      "# print the data\n",
      "print qDF"
     ],
     "language": "python",
     "metadata": {},
     "outputs": [
      {
       "output_type": "stream",
       "stream": "stdout",
       "text": [
        "              name1             name2\n",
        "0      Ashley White     Chris Jackson\n",
        "1   Brittany Harris     Chris Jackson\n",
        "2      Daniel Lewis  Elizabeth Thomas\n",
        "3  Elizabeth Thomas     James Cameron\n",
        "4     Mike Anderson    Sarah Martinez\n",
        "\n",
        "[5 rows x 2 columns]\n"
       ]
      }
     ],
     "prompt_number": 16
    },
    {
     "cell_type": "markdown",
     "metadata": {},
     "source": [
      "### Solution using Pandas.\n",
      "> Methods used : selection"
     ]
    },
    {
     "cell_type": "code",
     "collapsed": false,
     "input": [],
     "language": "python",
     "metadata": {},
     "outputs": []
    },
    {
     "cell_type": "markdown",
     "metadata": {},
     "source": [
      "## Question-6 : For each rating that is the lowest (fewest stars) currently in the database, return the reviewer name, movie title, and number of stars."
     ]
    },
    {
     "cell_type": "markdown",
     "metadata": {},
     "source": [
      "### Solution using SQL."
     ]
    },
    {
     "cell_type": "code",
     "collapsed": false,
     "input": [
      "#SQL query\n",
      "qry = \"\"\"\n",
      "        SELECT re.name, mv.title, ra.stars FROM Reviewer re\n",
      "        INNER JOIN Rating ra ON ra.rID = re.rID\n",
      "        INNER JOIN Movie mv ON ra.mID = mv.mID\n",
      "        WHERE ra.stars = ( SELECT MIN(stars) FROM Rating )\n",
      "      \"\"\"\n",
      "# get the data\n",
      "qDF = pandas.read_sql( qry, conn )\n",
      "# print the data\n",
      "print qDF"
     ],
     "language": "python",
     "metadata": {},
     "outputs": [
      {
       "output_type": "stream",
       "stream": "stdout",
       "text": [
        "              name                    title  stars\n",
        "0   Sarah Martinez       Gone with the Wind      2\n",
        "1  Brittany Harris       The Sound of Music      2\n",
        "2  Brittany Harris  Raiders of the Lost Ark      2\n",
        "3    Chris Jackson                     E.T.      2\n",
        "\n",
        "[4 rows x 3 columns]\n"
       ]
      }
     ],
     "prompt_number": 8
    },
    {
     "cell_type": "markdown",
     "metadata": {},
     "source": [
      "### Solution using Pandas.\n",
      "> Methods used : selection"
     ]
    },
    {
     "cell_type": "code",
     "collapsed": false,
     "input": [],
     "language": "python",
     "metadata": {},
     "outputs": []
    },
    {
     "cell_type": "markdown",
     "metadata": {},
     "source": [
      "## Question-7 : List movie titles and average ratings, from highest-rated to lowest-rated. If two or more movies have the same average rating, list them in alphabetical order."
     ]
    },
    {
     "cell_type": "markdown",
     "metadata": {},
     "source": [
      "### Solution using SQL."
     ]
    },
    {
     "cell_type": "code",
     "collapsed": false,
     "input": [
      "#SQL query\n",
      "qry = \"\"\"\n",
      "        SELECT mv.title, AVG(ra.stars) as avg_stars FROM Movie mv\n",
      "        INNER JOIN Rating ra ON mv.mID = ra.mID\n",
      "        GROUP BY ra.mID\n",
      "        ORDER BY avg_stars DESC, mv.title\n",
      "      \"\"\"\n",
      "# get the data\n",
      "qDF = pandas.read_sql( qry, conn )\n",
      "# print the data\n",
      "print qDF"
     ],
     "language": "python",
     "metadata": {},
     "outputs": [
      {
       "output_type": "stream",
       "stream": "stdout",
       "text": [
        "                     title  avg_stars\n",
        "0               Snow White     4.5000\n",
        "1                   Avatar     4.0000\n",
        "2  Raiders of the Lost Ark     3.3333\n",
        "3       Gone with the Wind     3.0000\n",
        "4                     E.T.     2.5000\n",
        "5       The Sound of Music     2.5000\n",
        "\n",
        "[6 rows x 2 columns]\n"
       ]
      }
     ],
     "prompt_number": 10
    },
    {
     "cell_type": "markdown",
     "metadata": {},
     "source": [
      "### Solution using Pandas.\n",
      "> Methods used : selection"
     ]
    },
    {
     "cell_type": "code",
     "collapsed": false,
     "input": [],
     "language": "python",
     "metadata": {},
     "outputs": []
    },
    {
     "cell_type": "markdown",
     "metadata": {},
     "source": [
      "## Question-8 : Find the names of all reviewers who have contributed three or more ratings."
     ]
    },
    {
     "cell_type": "markdown",
     "metadata": {},
     "source": [
      "### Solution using SQL."
     ]
    },
    {
     "cell_type": "code",
     "collapsed": false,
     "input": [
      "#SQL query\n",
      "qry = \"\"\"\n",
      "        SELECT re.name FROM Reviewer re\n",
      "        INNER JOIN Rating ra ON ra.rID=re.rID\n",
      "        GROUP BY ra.rID\n",
      "        HAVING COUNT(ra.rID) >= 3\n",
      "      \"\"\"\n",
      "# get the data\n",
      "qDF = pandas.read_sql( qry, conn )\n",
      "# print the data\n",
      "print qDF"
     ],
     "language": "python",
     "metadata": {},
     "outputs": [
      {
       "output_type": "stream",
       "stream": "stdout",
       "text": [
        "              name\n",
        "0  Brittany Harris\n",
        "1    Chris Jackson\n",
        "\n",
        "[2 rows x 1 columns]\n"
       ]
      }
     ],
     "prompt_number": 11
    },
    {
     "cell_type": "markdown",
     "metadata": {},
     "source": [
      "### Solution using Pandas.\n",
      "> Methods used : selection"
     ]
    },
    {
     "cell_type": "code",
     "collapsed": false,
     "input": [],
     "language": "python",
     "metadata": {},
     "outputs": []
    },
    {
     "cell_type": "markdown",
     "metadata": {},
     "source": [
      "## Question-9 : Some directors directed more than one movie. For all such directors, return the titles of all movies directed by them, along with the director name. Sort by director name, then movie title."
     ]
    },
    {
     "cell_type": "markdown",
     "metadata": {},
     "source": [
      "### Solution using SQL."
     ]
    },
    {
     "cell_type": "code",
     "collapsed": false,
     "input": [
      "#SQL query\n",
      "qry = \"\"\"\n",
      "        SELECT title, director FROM Movie\n",
      "        WHERE director IN (\n",
      "        SELECT director FROM Movie\n",
      "        GROUP BY director \n",
      "        HAVING COUNT(title) > 1)\n",
      "        ORDER BY director, title\n",
      "      \"\"\"\n",
      "# get the data\n",
      "qDF = pandas.read_sql( qry, conn )\n",
      "# print the data\n",
      "print qDF"
     ],
     "language": "python",
     "metadata": {},
     "outputs": [
      {
       "output_type": "stream",
       "stream": "stdout",
       "text": [
        "                     title          director\n",
        "0                   Avatar     James Cameron\n",
        "1                  Titanic     James Cameron\n",
        "2                     E.T.  Steven Spielberg\n",
        "3  Raiders of the Lost Ark  Steven Spielberg\n",
        "\n",
        "[4 rows x 2 columns]\n"
       ]
      }
     ],
     "prompt_number": 12
    },
    {
     "cell_type": "markdown",
     "metadata": {},
     "source": [
      "### Solution using Pandas.\n",
      "> Methods used : selection"
     ]
    },
    {
     "cell_type": "code",
     "collapsed": false,
     "input": [],
     "language": "python",
     "metadata": {},
     "outputs": []
    },
    {
     "cell_type": "markdown",
     "metadata": {},
     "source": [
      "## Question-10 : Find the movie(s) with the highest average rating. Return the movie title(s) and average rating."
     ]
    },
    {
     "cell_type": "markdown",
     "metadata": {},
     "source": [
      "### Solution using SQL."
     ]
    },
    {
     "cell_type": "code",
     "collapsed": false,
     "input": [
      "#SQL query\n",
      "qry = \"\"\"\n",
      "        SELECT mv.title, AVG(stars) avg_stars FROM Rating ra\n",
      "        INNER JOIN Movie mv\n",
      "        ON mv.mID=ra.mID\n",
      "        GROUP BY ra.mID\n",
      "        HAVING AVG(stars) = \n",
      "        (SELECT AVG(stars) max_avg_rat FROM Rating\n",
      "        GROUP BY mID\n",
      "        ORDER BY max_avg_rat DESC \n",
      "        LIMIT 1 )\n",
      "      \"\"\"\n",
      "# get the data\n",
      "qDF = pandas.read_sql( qry, conn )\n",
      "# print the data\n",
      "print qDF"
     ],
     "language": "python",
     "metadata": {},
     "outputs": [
      {
       "output_type": "stream",
       "stream": "stdout",
       "text": [
        "        title  avg_stars\n",
        "0  Snow White        4.5\n",
        "\n",
        "[1 rows x 2 columns]\n"
       ]
      }
     ],
     "prompt_number": 13
    },
    {
     "cell_type": "markdown",
     "metadata": {},
     "source": [
      "### Solution using Pandas.\n",
      "> Methods used : selection"
     ]
    },
    {
     "cell_type": "code",
     "collapsed": false,
     "input": [],
     "language": "python",
     "metadata": {},
     "outputs": []
    },
    {
     "cell_type": "markdown",
     "metadata": {},
     "source": [
      "## Question-11 : Find the movie(s) with the lowest average rating. Return the movie title(s) and average rating."
     ]
    },
    {
     "cell_type": "markdown",
     "metadata": {},
     "source": [
      "### Solution using SQL."
     ]
    },
    {
     "cell_type": "code",
     "collapsed": false,
     "input": [
      "#SQL query\n",
      "qry = \"\"\"\n",
      "        SELECT mv.title, AVG(stars) avg_stars FROM Rating ra\n",
      "        INNER JOIN Movie mv\n",
      "        ON mv.mID=ra.mID\n",
      "        GROUP BY ra.mID\n",
      "        HAVING AVG(stars) = \n",
      "        (SELECT AVG(stars) max_avg_rat FROM Rating\n",
      "        GROUP BY mID\n",
      "        ORDER BY max_avg_rat ASC \n",
      "        LIMIT 1 )\n",
      "      \"\"\"\n",
      "# get the data\n",
      "qDF = pandas.read_sql( qry, conn )\n",
      "# print the data\n",
      "print qDF"
     ],
     "language": "python",
     "metadata": {},
     "outputs": [
      {
       "output_type": "stream",
       "stream": "stdout",
       "text": [
        "                title  avg_stars\n",
        "0  The Sound of Music        2.5\n",
        "1                E.T.        2.5\n",
        "\n",
        "[2 rows x 2 columns]\n"
       ]
      }
     ],
     "prompt_number": 14
    },
    {
     "cell_type": "markdown",
     "metadata": {},
     "source": [
      "### Solution using Pandas.\n",
      "> Methods used : selection"
     ]
    },
    {
     "cell_type": "code",
     "collapsed": false,
     "input": [],
     "language": "python",
     "metadata": {},
     "outputs": []
    },
    {
     "cell_type": "markdown",
     "metadata": {},
     "source": [
      "## Question-12 : For each director, return the director's name together with the title(s) of the movie(s) they directed that received the highest rating among all of their movies, and the value of that rating. Ignore movies whose director is NULL."
     ]
    },
    {
     "cell_type": "markdown",
     "metadata": {},
     "source": [
      "### Solution using SQL."
     ]
    },
    {
     "cell_type": "code",
     "collapsed": false,
     "input": [
      "#SQL query\n",
      "qry = \"\"\"\n",
      "        SELECT mv.director, mv.title, MAX(ra.stars) FROM Movie mv\n",
      "        INNER JOIN Rating ra ON ra.mID=mv.mID AND mv.director IS NOT NULL\n",
      "        GROUP BY mv.director\n",
      "      \"\"\"\n",
      "# get the data\n",
      "qDF = pandas.read_sql( qry, conn )\n",
      "# print the data\n",
      "print qDF"
     ],
     "language": "python",
     "metadata": {},
     "outputs": [
      {
       "output_type": "stream",
       "stream": "stdout",
       "text": [
        "           director                    title  MAX(ra.stars)\n",
        "0     James Cameron                   Avatar              5\n",
        "1       Robert Wise       The Sound of Music              3\n",
        "2  Steven Spielberg  Raiders of the Lost Ark              4\n",
        "3    Victor Fleming       Gone with the Wind              4\n",
        "\n",
        "[4 rows x 3 columns]\n"
       ]
      }
     ],
     "prompt_number": 15
    },
    {
     "cell_type": "markdown",
     "metadata": {},
     "source": [
      "### Solution using Pandas.\n",
      "> Methods used : selection"
     ]
    },
    {
     "cell_type": "code",
     "collapsed": false,
     "input": [],
     "language": "python",
     "metadata": {},
     "outputs": []
    }
   ],
   "metadata": {}
  }
 ]
}