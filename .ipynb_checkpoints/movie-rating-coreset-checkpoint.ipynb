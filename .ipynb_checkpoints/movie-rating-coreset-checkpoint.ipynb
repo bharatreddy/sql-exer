{
 "metadata": {
  "name": "",
  "signature": "sha256:177baa2963cdddb9838e1829f69c29293f8227af44d68bc968634ff7151cde82"
 },
 "nbformat": 3,
 "nbformat_minor": 0,
 "worksheets": [
  {
   "cells": [
    {
     "cell_type": "markdown",
     "metadata": {},
     "source": [
      "> SQL exercise questions from Courseera - Introduction to Databases course\n",
      ">> SQL Movie-Rating Query Exercises (core set)"
     ]
    },
    {
     "cell_type": "code",
     "collapsed": false,
     "input": [
      "import pandas\n",
      "import mysql.connector\n",
      "# set up connections to the DB\n",
      "conn = mysql.connector.Connect(host='localhost',user='root',\\\n",
      "                        password='',database='rating')"
     ],
     "language": "python",
     "metadata": {},
     "outputs": [],
     "prompt_number": 1
    },
    {
     "cell_type": "markdown",
     "metadata": {},
     "source": [
      "> Question-1 : Find the titles of all movies directed by Steven Spielberg. "
     ]
    },
    {
     "cell_type": "code",
     "collapsed": false,
     "input": [
      "qry = \"\"\"\n",
      "        SELECT title FROM Movie\n",
      "        WHERE director = 'Steven Spielberg'\n",
      "      \"\"\""
     ],
     "language": "python",
     "metadata": {},
     "outputs": []
    }
   ],
   "metadata": {}
  }
 ]
}