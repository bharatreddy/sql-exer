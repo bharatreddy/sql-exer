{
 "metadata": {
  "name": "",
  "signature": "sha256:ef8e540f9bc236449ff5d133ef47e34ebbb96598e39f96ec5a64d7f11ecfaaf3"
 },
 "nbformat": 3,
 "nbformat_minor": 0,
 "worksheets": [
  {
   "cells": [
    {
     "cell_type": "code",
     "collapsed": false,
     "input": [
      "import pandas\n",
      "import mysql.connector\n",
      "# set up connections to the DB\n",
      "conn = mysql.connector.Connect(host='localhost',user='root',\\\n",
      "                        password='',database='rating')\n",
      "#LOAD the SQL tables into DF\n",
      "qryMv = \"\"\"\n",
      "        SELECT * From Movie\n",
      "      \"\"\"\n",
      "qryRt = \"\"\"\n",
      "        SELECT * From Rating\n",
      "      \"\"\"\n",
      "qryRe = \"\"\"\n",
      "        SELECT * From Reviewer\n",
      "      \"\"\"\n",
      "movieDF = pandas.read_sql( qryMv, conn )\n",
      "ratDF = pandas.read_sql( qryRt, conn )\n",
      "rvwrDF = pandas.read_sql( qryRe, conn )"
     ],
     "language": "python",
     "metadata": {},
     "outputs": [],
     "prompt_number": 1
    },
    {
     "cell_type": "code",
     "collapsed": false,
     "input": [
      "# Methods used : selection\n",
      "# simple selection\n",
      "print movieDF[ movieDF['director'] == 'Steven Spielberg' ]['title']"
     ],
     "language": "python",
     "metadata": {},
     "outputs": [
      {
       "output_type": "stream",
       "stream": "stdout",
       "text": [
        "3                       E.T.\n",
        "7    Raiders of the Lost Ark\n",
        "Name: title, dtype: object\n"
       ]
      }
     ],
     "prompt_number": 2
    },
    {
     "cell_type": "code",
     "collapsed": false,
     "input": [
      "# Methods used : selection, merge(inner), sort, unique\n",
      "# store the ratings in new DF for ease of operation\n",
      "# we also reset the index.\n",
      "ratDFNew = ratDF[ ratDF['stars'] >= 4 ].reset_index()\n",
      "# Now merge (similar to join in SQL) the new ratingDF\n",
      "# into the movieDF.\n",
      "resDF = pandas.merge( ratDFNew, movieDF, \\\n",
      "                     on='mID', how='inner' )\n",
      "# Now sort according to the year\n",
      "# note here that we can sort \n",
      "# the DF in place (using \n",
      "# the keyword 'inplace') without\n",
      "# creating a new DF instance.\n",
      "resDF.sort( ['year'], ascending=True, inplace=True )\n",
      "# get the year column only and \n",
      "resDF = resDF['year']\n",
      "# Print the unique values using unique() statement\n",
      "print resDF.unique()"
     ],
     "language": "python",
     "metadata": {},
     "outputs": [
      {
       "output_type": "stream",
       "stream": "stdout",
       "text": [
        "[1937 1939 1981 2009]\n"
       ]
      }
     ],
     "prompt_number": 4
    },
    {
     "cell_type": "code",
     "collapsed": false,
     "input": [
      "# Methods used : merge(left), sort, isnull\n",
      "# We'll merge the two DFs using\n",
      "# 'left' method. This is like the \n",
      "# left outer join in SQL.\n",
      "resDF = pandas.merge( movieDF, ratDF, \\\n",
      "                     on='mID', how='left' )\n",
      "# Now retreive 'title' column from records\n",
      "#  which have a Null value in the stars column\n",
      "resDF = resDF[ resDF['stars'].isnull() ]\\\n",
      ".reset_index()['title']\n",
      "print resDF"
     ],
     "language": "python",
     "metadata": {},
     "outputs": [
      {
       "output_type": "stream",
       "stream": "stdout",
       "text": [
        "0    Star Wars\n",
        "1      Titanic\n",
        "Name: title, dtype: object\n"
       ]
      }
     ],
     "prompt_number": 17
    },
    {
     "cell_type": "code",
     "collapsed": false,
     "input": [
      "# Methods used : merge(inner)\n",
      "# We'll merge rvwrDF and ratDF\n",
      "# and retreive rows which have Null\n",
      "# in date.\n",
      "resDF = pandas.merge( rvwrDF, ratDF, \\\n",
      "                     on='rID', how='inner' )\n",
      "# Now retreive the records which have null\n",
      "# value in the date column\n",
      "resDF = resDF[ resDF['ratingDate'].isnull() ]\\\n",
      ".reset_index()['name']\n",
      "print resDF"
     ],
     "language": "python",
     "metadata": {},
     "outputs": [
      {
       "output_type": "stream",
       "stream": "stdout",
       "text": [
        "0     Daniel Lewis\n",
        "1    Chris Jackson\n",
        "Name: name, dtype: object\n"
       ]
      }
     ],
     "prompt_number": 19
    },
    {
     "cell_type": "code",
     "collapsed": false,
     "input": [],
     "language": "python",
     "metadata": {},
     "outputs": []
    }
   ],
   "metadata": {}
  }
 ]
}