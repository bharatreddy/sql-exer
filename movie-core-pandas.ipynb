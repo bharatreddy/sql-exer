{
 "metadata": {
  "name": "",
  "signature": "sha256:7abb23d4b34f0670b18a88e24b0cc6a4077ee693b965e3d0a5f74480351d548b"
 },
 "nbformat": 3,
 "nbformat_minor": 0,
 "worksheets": [
  {
   "cells": [
    {
     "cell_type": "code",
     "collapsed": false,
     "input": [
      "import pandas\n",
      "import mysql.connector\n",
      "# set up connections to the DB\n",
      "conn = mysql.connector.Connect(host='localhost',user='root',\\\n",
      "                        password='',database='rating')\n",
      "#LOAD the SQL tables into DF\n",
      "qryMv = \"\"\"\n",
      "        SELECT * From Movie\n",
      "      \"\"\"\n",
      "qryRt = \"\"\"\n",
      "        SELECT * From Rating\n",
      "      \"\"\"\n",
      "qryRe = \"\"\"\n",
      "        SELECT * From Reviewer\n",
      "      \"\"\"\n",
      "movieDF = pandas.read_sql( qryMv, conn )\n",
      "ratDF = pandas.read_sql( qryRt, conn )\n",
      "rvwrDF = pandas.read_sql( qryRe, conn )"
     ],
     "language": "python",
     "metadata": {},
     "outputs": [],
     "prompt_number": 1
    },
    {
     "cell_type": "code",
     "collapsed": false,
     "input": [
      "# Methods used : selection\n",
      "# simple selection\n",
      "print movieDF[ movieDF['director'] == 'Steven Spielberg' ]['title']"
     ],
     "language": "python",
     "metadata": {},
     "outputs": [
      {
       "output_type": "stream",
       "stream": "stdout",
       "text": [
        "3                       E.T.\n",
        "7    Raiders of the Lost Ark\n",
        "Name: title, dtype: object\n"
       ]
      }
     ],
     "prompt_number": 25
    },
    {
     "cell_type": "code",
     "collapsed": false,
     "input": [
      "# Methods used : selection, merge, sort, unique\n",
      "# store the ratings in new DF for ease of operation\n",
      "# we also reset the index.\n",
      "ratDFNew = ratDF[ ratDF['stars'] >= 4 ].reset_index()\n",
      "# Now merge (similar to join in SQL) the new ratingDF\n",
      "# into the movieDF.\n",
      "resDF = pandas.merge( ratDFNew, movieDF, \\\n",
      "                     on='mID', how='inner' )\n",
      "# Now sort according to the year\n",
      "# note here that we can sort \n",
      "# the DF in place (using \n",
      "# the keyword 'inplace') without\n",
      "# creating a new DF instance.\n",
      "resDF.sort( ['year'], ascending=True, inplace=True )\n",
      "# get the year column only and \n",
      "resDF = resDF['year']\n",
      "# Print the unique values using unique() statement\n",
      "print resDF.unique()"
     ],
     "language": "python",
     "metadata": {},
     "outputs": [
      {
       "output_type": "stream",
       "stream": "stdout",
       "text": [
        "[1937 1939 1981 2009]\n"
       ]
      }
     ],
     "prompt_number": 26
    }
   ],
   "metadata": {}
  }
 ]
}