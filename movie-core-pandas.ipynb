{
 "metadata": {
  "name": "",
  "signature": "sha256:42bc5ad7748bbbbf782e688deb275b0698cccab3f5d8247b95f56e9b0064fdd6"
 },
 "nbformat": 3,
 "nbformat_minor": 0,
 "worksheets": [
  {
   "cells": [
    {
     "cell_type": "code",
     "collapsed": false,
     "input": [
      "import pandas\n",
      "import mysql.connector\n",
      "# set up connections to the DB\n",
      "conn = mysql.connector.Connect(host='localhost',user='root',\\\n",
      "                        password='',database='rating')\n",
      "#LOAD the SQL tables into DF\n",
      "qryMv = \"\"\"\n",
      "        SELECT * From Movie\n",
      "      \"\"\"\n",
      "qryRt = \"\"\"\n",
      "        SELECT * From Rating\n",
      "      \"\"\"\n",
      "qryRe = \"\"\"\n",
      "        SELECT * From Reviewer\n",
      "      \"\"\"\n",
      "movieDF = pandas.read_sql( qryMv, conn )\n",
      "ratDF = pandas.read_sql( qryRt, conn )\n",
      "rvwrDF = pandas.read_sql( qryRe, conn )"
     ],
     "language": "python",
     "metadata": {},
     "outputs": [],
     "prompt_number": 1
    },
    {
     "cell_type": "code",
     "collapsed": false,
     "input": [
      "print movieDF[ movieDF['director'] == 'Steven Spielberg' ]['title']"
     ],
     "language": "python",
     "metadata": {},
     "outputs": [
      {
       "output_type": "stream",
       "stream": "stdout",
       "text": [
        "3                       E.T.\n",
        "7    Raiders of the Lost Ark\n",
        "Name: title, dtype: object\n"
       ]
      }
     ],
     "prompt_number": 4
    },
    {
     "cell_type": "code",
     "collapsed": false,
     "input": [],
     "language": "python",
     "metadata": {},
     "outputs": []
    }
   ],
   "metadata": {}
  }
 ]
}