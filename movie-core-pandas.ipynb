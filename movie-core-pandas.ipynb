{
 "metadata": {
  "name": "",
  "signature": "sha256:2f9065bb337471464c48354704c8bb7f084cd826ad852b3e9eded425de96a71a"
 },
 "nbformat": 3,
 "nbformat_minor": 0,
 "worksheets": [
  {
   "cells": [
    {
     "cell_type": "code",
     "collapsed": false,
     "input": [
      "import pandas\n",
      "import mysql.connector\n",
      "# set up connections to the DB\n",
      "conn = mysql.connector.Connect(host='localhost',user='root',\\\n",
      "                        password='',database='rating')\n",
      "#LOAD the SQL tables into DF\n",
      "qryMv = \"\"\"\n",
      "        SELECT * From Movie\n",
      "      \"\"\"\n",
      "qryRt = \"\"\"\n",
      "        SELECT * From Rating\n",
      "      \"\"\"\n",
      "qryRe = \"\"\"\n",
      "        SELECT * From Reviewer\n",
      "      \"\"\"\n",
      "movieDF = pandas.read_sql( qryMv, conn )\n",
      "ratDF = pandas.read_sql( qryRt, conn )\n",
      "rvwrDF = pandas.read_sql( qryRe, conn )"
     ],
     "language": "python",
     "metadata": {},
     "outputs": [],
     "prompt_number": 1
    },
    {
     "cell_type": "code",
     "collapsed": false,
     "input": [
      "# Methods used : selection\n",
      "# simple selection\n",
      "print movieDF[ movieDF['director'] == 'Steven Spielberg' ]['title']"
     ],
     "language": "python",
     "metadata": {},
     "outputs": [
      {
       "output_type": "stream",
       "stream": "stdout",
       "text": [
        "3                       E.T.\n",
        "7    Raiders of the Lost Ark\n",
        "Name: title, dtype: object\n"
       ]
      }
     ],
     "prompt_number": 2
    },
    {
     "cell_type": "code",
     "collapsed": false,
     "input": [
      "# Methods used : selection, merge(inner), sort, unique\n",
      "# store the ratings in new DF for ease of operation\n",
      "# we also reset the index.\n",
      "ratDFNew = ratDF[ ratDF['stars'] >= 4 ].reset_index()\n",
      "# Now merge (similar to join in SQL) the new ratingDF\n",
      "# into the movieDF.\n",
      "resDF = pandas.merge( ratDFNew, movieDF, \\\n",
      "                     on='mID', how='inner' )\n",
      "# Now sort according to the year\n",
      "# note here that we can sort \n",
      "# the DF in place (using \n",
      "# the keyword 'inplace') without\n",
      "# creating a new DF instance.\n",
      "resDF.sort( ['year'], ascending=True, inplace=True )\n",
      "# get the year column only and \n",
      "resDF = resDF['year']\n",
      "# Print the unique values using unique() statement\n",
      "print resDF.unique()"
     ],
     "language": "python",
     "metadata": {},
     "outputs": [
      {
       "output_type": "stream",
       "stream": "stdout",
       "text": [
        "[1937 1939 1981 2009]\n"
       ]
      }
     ],
     "prompt_number": 4
    },
    {
     "cell_type": "code",
     "collapsed": false,
     "input": [
      "# Methods used : merge(left), isnull\n",
      "# We'll merge the two DFs using\n",
      "# 'left' method. This is like the \n",
      "# left outer join in SQL.\n",
      "resDF = pandas.merge( movieDF, ratDF, \\\n",
      "                     on='mID', how='left' )\n",
      "# Now retreive 'title' column from records\n",
      "#  which have a Null value in the stars column\n",
      "resDF = resDF[ resDF['stars'].isnull() ]\\\n",
      ".reset_index()['title']\n",
      "print resDF"
     ],
     "language": "python",
     "metadata": {},
     "outputs": [
      {
       "output_type": "stream",
       "stream": "stdout",
       "text": [
        "0    Star Wars\n",
        "1      Titanic\n",
        "Name: title, dtype: object\n"
       ]
      }
     ],
     "prompt_number": 17
    },
    {
     "cell_type": "code",
     "collapsed": false,
     "input": [
      "# Methods used : merge(inner), isnull()\n",
      "# We'll merge rvwrDF and ratDF\n",
      "# and retreive rows which have Null\n",
      "# in date.\n",
      "resDF = pandas.merge( rvwrDF, ratDF, \\\n",
      "                     on='rID', how='inner' )\n",
      "# Now retreive the records which have null\n",
      "# value in the date column\n",
      "resDF = resDF[ resDF['ratingDate'].isnull() ]\\\n",
      ".reset_index()['name']\n",
      "print resDF"
     ],
     "language": "python",
     "metadata": {},
     "outputs": [
      {
       "output_type": "stream",
       "stream": "stdout",
       "text": [
        "0     Daniel Lewis\n",
        "1    Chris Jackson\n",
        "Name: name, dtype: object\n"
       ]
      }
     ],
     "prompt_number": 19
    },
    {
     "cell_type": "code",
     "collapsed": false,
     "input": [
      "# Methods used : merge(inner), sort\n",
      "# first merge all the three DFs\n",
      "resDF = pandas.merge( movieDF, ratDF, \\\n",
      "                     on='mID', how='inner' )\n",
      "resDF = pandas.merge( resDF, rvwrDF,\\\n",
      "                     on='rID', how='inner')\n",
      "# sort the DF and select the required columns\n",
      "resDF.sort( ['name','title','stars'], inplace=True )\n",
      "resDF = resDF[ [ 'name', 'title', 'stars', 'ratingDate' ] ]\\\n",
      ".reset_index(drop=True)\n",
      "print resDF"
     ],
     "language": "python",
     "metadata": {},
     "outputs": [
      {
       "output_type": "stream",
       "stream": "stdout",
       "text": [
        "                name                    title  stars  ratingDate\n",
        "0       Ashley White                     E.T.      3  2011-01-02\n",
        "1    Brittany Harris  Raiders of the Lost Ark      2  2011-01-30\n",
        "2    Brittany Harris  Raiders of the Lost Ark      4  2011-01-12\n",
        "3    Brittany Harris       The Sound of Music      2  2011-01-20\n",
        "4      Chris Jackson                     E.T.      2  2011-01-22\n",
        "5      Chris Jackson  Raiders of the Lost Ark      4        None\n",
        "6      Chris Jackson       The Sound of Music      3  2011-01-27\n",
        "7       Daniel Lewis               Snow White      4        None\n",
        "8   Elizabeth Thomas                   Avatar      3  2011-01-15\n",
        "9   Elizabeth Thomas               Snow White      5  2011-01-19\n",
        "10     James Cameron                   Avatar      5  2011-01-20\n",
        "11     Mike Anderson       Gone with the Wind      3  2011-01-09\n",
        "12    Sarah Martinez       Gone with the Wind      2  2011-01-22\n",
        "13    Sarah Martinez       Gone with the Wind      4  2011-01-27\n",
        "\n",
        "[14 rows x 4 columns]\n"
       ]
      }
     ],
     "prompt_number": 27
    },
    {
     "cell_type": "code",
     "collapsed": false,
     "input": [
      "# Methods used : selection, merge(inner,self)\n",
      "# merge ratingDF on itself\n",
      "resDF = pandas.merge( ratDF, ratDF,\\\n",
      "                     on=['rID','mID'], how='inner')\n",
      "# Note in joins like the self join here, Pandas \n",
      "# renames columns with same names with _x, _y suffixes.\n",
      "# Now retreive the rows which satisfy the requirement of\n",
      "# the question, i.e., stars_y > stars_x and \n",
      "# ratingDate_y > ratingDate_x.\n",
      "resDF = resDF[ (resDF['stars_y'] > resDF['stars_x']) & \\\n",
      "              (resDF['ratingDate_y'] > resDF['ratingDate_x']) ]\n",
      "# Now merge the other DFs for required info\n",
      "resDF = pandas.merge( resDF, movieDF,\\\n",
      "                     on=['mID'], how='inner')\n",
      "resDF = pandas.merge( resDF, rvwrDF,\\\n",
      "                     on=['rID'], how='inner')\n",
      "# get the required cols\n",
      "resDF = resDF[ ['name', 'title'] ]\n",
      "print resDF"
     ],
     "language": "python",
     "metadata": {},
     "outputs": [
      {
       "output_type": "stream",
       "stream": "stdout",
       "text": [
        "             name               title\n",
        "0  Sarah Martinez  Gone with the Wind\n",
        "\n",
        "[1 rows x 2 columns]\n"
       ]
      }
     ],
     "prompt_number": 34
    },
    {
     "cell_type": "code",
     "collapsed": false,
     "input": [],
     "language": "python",
     "metadata": {},
     "outputs": []
    }
   ],
   "metadata": {}
  }
 ]
}