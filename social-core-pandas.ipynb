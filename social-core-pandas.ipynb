{
 "metadata": {
  "name": "",
  "signature": "sha256:9dec01b65563f98e7a7b6847e2e73673c2378d51e730a3ab53a9b9b2d7003f74"
 },
 "nbformat": 3,
 "nbformat_minor": 0,
 "worksheets": [
  {
   "cells": [
    {
     "cell_type": "code",
     "collapsed": false,
     "input": [
      "import pandas\n",
      "import mysql.connector\n",
      "# set up connections to the DB\n",
      "conn = mysql.connector.Connect(host='localhost',user='root',\\\n",
      "                        password='',database='social')\n",
      "#LOAD the SQL tables into DF\n",
      "qryFr = \"\"\"\n",
      "        SELECT * From Friend\n",
      "      \"\"\"\n",
      "qryHs = \"\"\"\n",
      "        SELECT * From Highschooler\n",
      "      \"\"\"\n",
      "qryLi = \"\"\"\n",
      "        SELECT * From Likes\n",
      "      \"\"\"\n",
      "frndDF = pandas.read_sql( qryFr, conn )\n",
      "hsDF = pandas.read_sql( qryHs, conn )\n",
      "likesDF = pandas.read_sql( qryLi, conn )"
     ],
     "language": "python",
     "metadata": {},
     "outputs": [],
     "prompt_number": 1
    },
    {
     "cell_type": "code",
     "collapsed": false,
     "input": [
      "# Methods used : merge(inner, using left_on, right_on), tolist(), isin()\n",
      "# First merge the ID col of hsDF with ID1 of frndDF\n",
      "resDF = pandas.merge( hsDF, frndDF, \\\n",
      "                     left_on = 'ID',\\\n",
      "                     right_on = 'ID1', how='inner')\n",
      "# select the 'ID2' cols for rows which have name='Gabriel'\n",
      "frndIDs = resDF[ resDF['name'] == 'Gabriel' ]['ID2']\\\n",
      "            .tolist()\n",
      "# Now from hsDF get the names of frndIDs\n",
      "frndNames = hsDF[ hsDF['ID'].isin(frndIDs) ]\n",
      "print frndNames['name']\n",
      "#SQL query"
     ],
     "language": "python",
     "metadata": {},
     "outputs": [
      {
       "output_type": "stream",
       "stream": "stdout",
       "text": [
        "0        Jordan\n",
        "3     Cassandra\n",
        "5        Andrew\n",
        "8        Alexis\n",
        "11      Jessica\n",
        "Name: name, dtype: object\n"
       ]
      }
     ],
     "prompt_number": 3
    },
    {
     "cell_type": "code",
     "collapsed": false,
     "input": [
      "# Methods used : merge(inner, using left_on, right_on), tolist(), isin()\n",
      "# First merge the ID col of hsDF with ID1 of likesDF\n",
      "resDF = pandas.merge( hsDF, likesDF, \\\n",
      "                     left_on = 'ID',\\\n",
      "                     right_on = 'ID1', how='inner')\n",
      "# Now merge hsDF again with resDF on ID2\n",
      "resDF = pandas.merge( resDF, hsDF, \\\n",
      "                     left_on = 'ID2',\\\n",
      "                     right_on = 'ID', how='inner')\n",
      "# Now select rows which satisfy greater than 2 grades condition\n",
      "resDF = resDF[ resDF['grade_x'] - resDF['grade_y'] >= 2 ].\\\n",
      "        reset_index(drop=True)\n",
      "# select the required cols\n",
      "resDF = resDF[ [ 'name_x', 'grade_x', 'name_y', 'grade_y' ] ]\n",
      "print resDF"
     ],
     "language": "python",
     "metadata": {},
     "outputs": [
      {
       "output_type": "stream",
       "stream": "stdout",
       "text": [
        "  name_x  grade_x name_y  grade_y\n",
        "0   John       12  Haley       10\n",
        "\n",
        "[1 rows x 4 columns]\n"
       ]
      }
     ],
     "prompt_number": 9
    },
    {
     "cell_type": "code",
     "collapsed": false,
     "input": [],
     "language": "python",
     "metadata": {},
     "outputs": []
    }
   ],
   "metadata": {}
  }
 ]
}