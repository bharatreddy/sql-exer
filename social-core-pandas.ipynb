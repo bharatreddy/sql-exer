{
 "metadata": {
  "name": "",
  "signature": "sha256:6eb36acc2ae8b150b77e3daebe53202b7ac94619db5f620a74f36f30d2af3534"
 },
 "nbformat": 3,
 "nbformat_minor": 0,
 "worksheets": [
  {
   "cells": [
    {
     "cell_type": "code",
     "collapsed": false,
     "input": [
      "import pandas\n",
      "import mysql.connector\n",
      "# set up connections to the DB\n",
      "conn = mysql.connector.Connect(host='localhost',user='root',\\\n",
      "                        password='',database='social')\n",
      "#LOAD the SQL tables into DF\n",
      "qryFr = \"\"\"\n",
      "        SELECT * From Friend\n",
      "      \"\"\"\n",
      "qryHs = \"\"\"\n",
      "        SELECT * From Highschooler\n",
      "      \"\"\"\n",
      "qryLi = \"\"\"\n",
      "        SELECT * From Likes\n",
      "      \"\"\"\n",
      "frndDF = pandas.read_sql( qryFr, conn )\n",
      "hsDF = pandas.read_sql( qryHs, conn )\n",
      "likesDF = pandas.read_sql( qryLi, conn )"
     ],
     "language": "python",
     "metadata": {},
     "outputs": [],
     "prompt_number": 1
    },
    {
     "cell_type": "code",
     "collapsed": false,
     "input": [
      "# Methods used : merge(inner, using left_on, right_on), tolist(), isin()\n",
      "# First merge the ID col of hsDF with ID1 of frndDF\n",
      "resDF = pandas.merge( hsDF, frndDF, \\\n",
      "                     left_on = 'ID',\\\n",
      "                     right_on = 'ID1', how='inner')\n",
      "# select the 'ID2' cols for rows which have name='Gabriel'\n",
      "frndIDs = resDF[ resDF['name'] == 'Gabriel' ]['ID2']\\\n",
      "            .tolist()\n",
      "# Now from hsDF get the names of frndIDs\n",
      "frndNames = hsDF[ hsDF['ID'].isin(frndIDs) ]\n",
      "print frndNames['name']\n",
      "#SQL query"
     ],
     "language": "python",
     "metadata": {},
     "outputs": [
      {
       "output_type": "stream",
       "stream": "stdout",
       "text": [
        "0        Jordan\n",
        "3     Cassandra\n",
        "5        Andrew\n",
        "8        Alexis\n",
        "11      Jessica\n",
        "Name: name, dtype: object\n"
       ]
      }
     ],
     "prompt_number": 2
    },
    {
     "cell_type": "code",
     "collapsed": false,
     "input": [
      "# Methods used : merge(inner, using left_on and right_on)\n",
      "# First merge the ID col of hsDF with ID1 of likesDF\n",
      "resDF = pandas.merge( hsDF, likesDF, \\\n",
      "                     left_on = 'ID',\\\n",
      "                     right_on = 'ID1', how='inner')\n",
      "# Now merge hsDF again with resDF on ID2\n",
      "resDF = pandas.merge( resDF, hsDF, \\\n",
      "                     left_on = 'ID2',\\\n",
      "                     right_on = 'ID', how='inner')\n",
      "# Now select rows which satisfy greater than 2 grades condition\n",
      "resDF = resDF[ resDF['grade_x'] - resDF['grade_y'] >= 2 ].\\\n",
      "        reset_index(drop=True)\n",
      "# select the required cols\n",
      "resDF = resDF[ [ 'name_x', 'grade_x', 'name_y', 'grade_y' ] ]\n",
      "print resDF"
     ],
     "language": "python",
     "metadata": {},
     "outputs": [
      {
       "output_type": "stream",
       "stream": "stdout",
       "text": [
        "  name_x  grade_x name_y  grade_y\n",
        "0   John       12  Haley       10\n",
        "\n",
        "[1 rows x 4 columns]\n"
       ]
      }
     ],
     "prompt_number": 3
    },
    {
     "cell_type": "code",
     "collapsed": false,
     "input": [
      "# Methods used : merge(inner, self, using left_on and right_on)\n",
      "# First merge likesDF with itself\n",
      "resDF = pandas.merge( likesDF, likesDF, \\\n",
      "                     left_on = 'ID1',\\\n",
      "                     right_on = 'ID2', how='inner' )\n",
      "# select the rows where ID2_x = ID1_y\n",
      "resDF = resDF[ resDF['ID2_x'] == resDF['ID1_y'] ].\\\n",
      "        reset_index(drop=True)\n",
      "# merge hsDF with resDF on ID1_x and also with ID2_x\n",
      "resDF = pandas.merge( resDF, hsDF, \\\n",
      "                     left_on = 'ID1_x',\\\n",
      "                     right_on = 'ID', how='inner' )\n",
      "resDF = pandas.merge( resDF, hsDF, \\\n",
      "                     left_on = 'ID2_x',\\\n",
      "                     right_on = 'ID', how='inner' )\n",
      "# get name_x, name_y cols from rows where name_x < name_y\n",
      "resDF = resDF[ resDF['name_x'] < resDF['name_y'] ]\\\n",
      "        [ ['name_x', 'grade_x','name_y', 'grade_y'] ]\n",
      "print resDF"
     ],
     "language": "python",
     "metadata": {},
     "outputs": [
      {
       "output_type": "stream",
       "stream": "stdout",
       "text": [
        "      name_x  grade_x   name_y  grade_y\n",
        "1  Cassandra        9  Gabriel        9\n",
        "2    Jessica       11     Kyle       12\n",
        "\n",
        "[2 rows x 4 columns]\n"
       ]
      }
     ],
     "prompt_number": 4
    },
    {
     "cell_type": "code",
     "collapsed": false,
     "input": [
      "# Methods used : tolist(), isin()\n",
      "# Get a unique list of all IDs (both ID1 and ID2) in likesDF\n",
      "likeIds = set( likesDF['ID1'].tolist() + likesDF['ID2'].tolist() )\n",
      "# get names/grades from hsDF\n",
      "resDF = hsDF[ ~hsDF['ID'].isin(likeIds) ][['name', 'grade']].\\\n",
      "        reset_index(drop=True)\n",
      "print resDF"
     ],
     "language": "python",
     "metadata": {},
     "outputs": [
      {
       "output_type": "stream",
       "stream": "stdout",
       "text": [
        "      name  grade\n",
        "0   Jordan      9\n",
        "1  Tiffany      9\n",
        "2    Logan     12\n",
        "\n",
        "[3 rows x 2 columns]\n"
       ]
      }
     ],
     "prompt_number": 5
    },
    {
     "cell_type": "code",
     "collapsed": false,
     "input": [
      "# Methods used : tolist(), merge(inner, using left_on and right_on)\n",
      "# Get list of all ID1 from likesDF\n",
      "likesId1 = set( likesDF['ID1'].tolist() )\n",
      "# merge likesDF with hsDF on ID1\n",
      "resDF = pandas.merge( hsDF, likesDF, \\\n",
      "                     left_on = 'ID',\\\n",
      "                     right_on = 'ID1', how='inner' )\n",
      "# Now merge resDF with hsDF on ID2\n",
      "resDF = pandas.merge( resDF, hsDF, \\\n",
      "                     left_on = 'ID2',\\\n",
      "                     right_on = 'ID', how='inner' )\n",
      "# Now get all rows which dont have likesId1 in ID2 col\n",
      "resDF = resDF[ ~resDF['ID2'].isin(likesId1) ].\\\n",
      "        reset_index(drop=True)\n",
      "# filter required cols\n",
      "resDF = resDF[ ['name_x', 'grade_x', 'name_y', 'grade_y' ] ]\n",
      "print resDF"
     ],
     "language": "python",
     "metadata": {},
     "outputs": [
      {
       "output_type": "stream",
       "stream": "stdout",
       "text": [
        "     name_x  grade_x  name_y  grade_y\n",
        "0  Brittany       10    Kris       10\n",
        "1    Alexis       11    Kris       10\n",
        "2    Austin       11  Jordan       12\n",
        "3      John       12   Haley       10\n",
        "\n",
        "[4 rows x 4 columns]\n"
       ]
      }
     ],
     "prompt_number": 6
    },
    {
     "cell_type": "code",
     "collapsed": false,
     "input": [
      "# Methods used : tolist(), merge(), isin(), drop_duplicates()\n",
      "# Merge frndDF with hsDF on ID1 and ID2 seperately\n",
      "resDF = pandas.merge( hsDF, frndDF, \\\n",
      "                     left_on = 'ID',\\\n",
      "                     right_on = 'ID1', how='inner' )\n",
      "resDF = pandas.merge( resDF, hsDF, \\\n",
      "                     left_on = 'ID2',\\\n",
      "                     right_on = 'ID', how='inner' )\n",
      "# select the rows where friends are in different grades\n",
      "id1List = resDF[ resDF['grade_x'] - resDF['grade_y'] != 0 ]['ID1']\n",
      "# Now select rows which are not in rowNums\n",
      "# also filter the cols\n",
      "resDF = resDF[ ~resDF['ID1'].isin(id1List) ]\\\n",
      "        [ ['name_x', 'grade_x'] ]\\\n",
      "    .drop_duplicates()\\\n",
      "    .reset_index(drop=True)\n",
      "    \n",
      "print resDF.sort( ['grade_x', 'name_x'] )"
     ],
     "language": "python",
     "metadata": {},
     "outputs": [
      {
       "output_type": "stream",
       "stream": "stdout",
       "text": [
        "     name_x  grade_x\n",
        "0    Jordan        9\n",
        "4  Brittany       10\n",
        "3     Haley       10\n",
        "1      Kris       10\n",
        "2   Gabriel       11\n",
        "6      John       12\n",
        "5     Logan       12\n",
        "\n",
        "[7 rows x 2 columns]\n"
       ]
      }
     ],
     "prompt_number": 33
    },
    {
     "cell_type": "code",
     "collapsed": false,
     "input": [],
     "language": "python",
     "metadata": {},
     "outputs": []
    }
   ],
   "metadata": {}
  }
 ]
}