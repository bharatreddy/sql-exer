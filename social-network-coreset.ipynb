{
 "metadata": {
  "name": "",
  "signature": "sha256:a23fe1ec5fbb7c59ec03a3d412461c91f64becd4be515a1e9a97c50e3682eaea"
 },
 "nbformat": 3,
 "nbformat_minor": 0,
 "worksheets": [
  {
   "cells": [
    {
     "cell_type": "markdown",
     "metadata": {},
     "source": [
      "> SQL exercise questions from Courseera - Introduction to Databases course\n",
      ">> SQL Social-Network Query Exercises (core set)"
     ]
    },
    {
     "cell_type": "code",
     "collapsed": false,
     "input": [
      "import pandas\n",
      "import mysql.connector\n",
      "# set up connections to the DB\n",
      "conn = mysql.connector.Connect(host='localhost',user='root',\\\n",
      "                        password='',database='social')"
     ],
     "language": "python",
     "metadata": {},
     "outputs": [],
     "prompt_number": 4
    },
    {
     "cell_type": "code",
     "collapsed": false,
     "input": [
      "qry = \"\"\"\n",
      "        SELECT hs1.name FROM Highschooler hs1\n",
      "        INNER JOIN Friend fr1 ON fr1.ID1=hs1.ID\n",
      "        INNER JOIN Highschooler hs2 ON hs2.ID=fr1.ID2 \n",
      "        WHERE hs2.name='Gabriel'\n",
      "      \"\"\"\n",
      "\n",
      "qry = \"\"\"\n",
      "        SELECT hs1.name, hs1.grade, hs2.name, hs2.grade FROM Likes l1\n",
      "        INNER JOIN Highschooler hs1 ON l1.ID1=hs1.ID\n",
      "        INNER JOIN Highschooler hs2 ON l1.ID2=hs2.ID\n",
      "        WHERE hs1.grade-hs2.grade>=2\n",
      "      \"\"\"\n",
      "\n",
      "qry = \"\"\"\n",
      "        SELECT hs1.name, hs1.grade, hs2.name, hs2.grade FROM Likes l1\n",
      "        INNER JOIN Likes l2 ON l1.ID1=l2.ID2 AND l1.ID2=l2.ID1\n",
      "        INNER JOIN Highschooler hs1 ON hs1.ID=l1.ID1\n",
      "        INNER JOIN Highschooler hs2 ON hs2.ID=l2.ID1\n",
      "        WHERE hs1.name < hs2.name\n",
      "      \"\"\"\n",
      "\n",
      "qry = \"\"\"\n",
      "        SELECT hs.name, hs.grade FROM Highschooler hs\n",
      "        LEFT JOIN Likes l1 ON l1.ID1=hs.ID OR l1.ID2=hs.ID\n",
      "        WHERE l1.ID1 IS NULL AND l1.ID2 IS NULL\n",
      "      \"\"\"\n",
      "\n",
      "qry = \"\"\"\n",
      "        SELECT hs.name, hs.grade FROM Highschooler hs\n",
      "        LEFT JOIN Likes l1 ON l1.ID1=hs.ID OR l1.ID2=hs.ID\n",
      "        WHERE l1.ID1 IS NULL AND l1.ID2 IS NULL\n",
      "      \"\"\""
     ],
     "language": "python",
     "metadata": {},
     "outputs": []
    }
   ],
   "metadata": {}
  }
 ]
}