{
 "metadata": {
  "name": "",
  "signature": "sha256:d6f424f94faabba6070ea3d3036aea3db26bbeb3d6852948346a5554c6e11e42"
 },
 "nbformat": 3,
 "nbformat_minor": 0,
 "worksheets": [
  {
   "cells": [
    {
     "cell_type": "markdown",
     "metadata": {},
     "source": [
      "> SQL exercise questions from Courseera - Introduction to Databases course\n",
      ">> SQL Social-Network Query Exercises (core set)"
     ]
    },
    {
     "cell_type": "code",
     "collapsed": false,
     "input": [
      "import pandas\n",
      "import mysql.connector\n",
      "# set up connections to the DB\n",
      "# conn = mysql.connector.Connect(host='localhost',user='root',\\\n",
      "#                         password='',database='rating')"
     ],
     "language": "python",
     "metadata": {},
     "outputs": [],
     "prompt_number": 2
    },
    {
     "cell_type": "code",
     "collapsed": false,
     "input": [],
     "language": "python",
     "metadata": {},
     "outputs": []
    }
   ],
   "metadata": {}
  }
 ]
}