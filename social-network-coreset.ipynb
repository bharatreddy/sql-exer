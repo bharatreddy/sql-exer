{
 "metadata": {
  "name": "",
  "signature": "sha256:1da362263924ddafa1e14a1c75f8bda968e1917011a8077d36ed03443bef20ca"
 },
 "nbformat": 3,
 "nbformat_minor": 0,
 "worksheets": [
  {
   "cells": [
    {
     "cell_type": "markdown",
     "metadata": {},
     "source": [
      "> SQL exercise questions from Courseera - Introduction to Databases course\n",
      ">> SQL Social-Network Query Exercises (core set)"
     ]
    },
    {
     "cell_type": "code",
     "collapsed": false,
     "input": [
      "import pandas\n",
      "import mysql.connector\n",
      "# set up connections to the DB\n",
      "conn = mysql.connector.Connect(host='localhost',user='root',\\\n",
      "                        password='',database='social')"
     ],
     "language": "python",
     "metadata": {},
     "outputs": [],
     "prompt_number": 2
    },
    {
     "cell_type": "markdown",
     "metadata": {},
     "source": [
      "> Question-1 : Find the names of all students who are friends with someone named Gabriel."
     ]
    },
    {
     "cell_type": "code",
     "collapsed": false,
     "input": [
      "#SQL query\n",
      "qry = \"\"\"\n",
      "        SELECT hs1.name FROM Highschooler hs1\n",
      "        INNER JOIN Friend fr1 ON fr1.ID1=hs1.ID\n",
      "        INNER JOIN Highschooler hs2 ON hs2.ID=fr1.ID2 \n",
      "        WHERE hs2.name='Gabriel'\n",
      "      \"\"\"\n",
      "# get the data\n",
      "qDF = pandas.read_sql( qry, conn )\n",
      "# print the data\n",
      "print qDF"
     ],
     "language": "python",
     "metadata": {},
     "outputs": [
      {
       "output_type": "stream",
       "stream": "stdout",
       "text": [
        "        name\n",
        "0     Jordan\n",
        "1     Alexis\n",
        "2  Cassandra\n",
        "3     Andrew\n",
        "4    Jessica\n",
        "\n",
        "[5 rows x 1 columns]\n"
       ]
      }
     ],
     "prompt_number": 3
    },
    {
     "cell_type": "markdown",
     "metadata": {},
     "source": [
      "> Question-2 : For every student who likes someone 2 or more grades younger than themselves, return that student's name and grade, and the name and grade of the student they like. "
     ]
    },
    {
     "cell_type": "code",
     "collapsed": false,
     "input": [
      "#SQL query\n",
      "qry = \"\"\"\n",
      "        SELECT hs1.name, hs1.grade, hs2.name, hs2.grade FROM Likes l1\n",
      "        INNER JOIN Highschooler hs1 ON l1.ID1=hs1.ID\n",
      "        INNER JOIN Highschooler hs2 ON l1.ID2=hs2.ID\n",
      "        WHERE hs1.grade-hs2.grade>=2\n",
      "      \"\"\"\n",
      "# get the data\n",
      "qDF = pandas.read_sql( qry, conn )\n",
      "# print the data\n",
      "print qDF"
     ],
     "language": "python",
     "metadata": {},
     "outputs": [
      {
       "output_type": "stream",
       "stream": "stdout",
       "text": [
        "   name  grade   name  grade\n",
        "0  John     12  Haley     10\n",
        "\n",
        "[1 rows x 4 columns]\n"
       ]
      }
     ],
     "prompt_number": 4
    },
    {
     "cell_type": "markdown",
     "metadata": {},
     "source": [
      "> Question-3 : For every pair of students who both like each other, return the name and grade of both students. Include each pair only once, with the two names in alphabetical order."
     ]
    },
    {
     "cell_type": "code",
     "collapsed": false,
     "input": [
      "#SQL query\n",
      "qry = \"\"\"\n",
      "        SELECT hs1.name, hs1.grade, hs2.name, hs2.grade FROM Likes l1\n",
      "        INNER JOIN Likes l2 ON l1.ID1=l2.ID2 AND l1.ID2=l2.ID1\n",
      "        INNER JOIN Highschooler hs1 ON hs1.ID=l1.ID1\n",
      "        INNER JOIN Highschooler hs2 ON hs2.ID=l2.ID1\n",
      "        WHERE hs1.name < hs2.name\n",
      "      \"\"\"\n",
      "# get the data\n",
      "qDF = pandas.read_sql( qry, conn )\n",
      "# print the data\n",
      "print qDF"
     ],
     "language": "python",
     "metadata": {},
     "outputs": [
      {
       "output_type": "stream",
       "stream": "stdout",
       "text": [
        "        name  grade     name  grade\n",
        "0  Cassandra      9  Gabriel      9\n",
        "1    Jessica     11     Kyle     12\n",
        "\n",
        "[2 rows x 4 columns]\n"
       ]
      }
     ],
     "prompt_number": 5
    },
    {
     "cell_type": "markdown",
     "metadata": {},
     "source": [
      "> Question-4 : Find all students who do not appear in the Likes table (as a student who likes or is liked) and return their names and grades. Sort by grade, then by name within each grade."
     ]
    },
    {
     "cell_type": "code",
     "collapsed": false,
     "input": [
      "#SQL query\n",
      "qry = \"\"\"\n",
      "        SELECT hs.name, hs.grade FROM Highschooler hs\n",
      "        LEFT JOIN Likes l1 ON l1.ID1=hs.ID OR l1.ID2=hs.ID\n",
      "        WHERE l1.ID1 IS NULL AND l1.ID2 IS NULL\n",
      "      \"\"\"\n",
      "# get the data\n",
      "qDF = pandas.read_sql( qry, conn )\n",
      "# print the data\n",
      "print qDF"
     ],
     "language": "python",
     "metadata": {},
     "outputs": [
      {
       "output_type": "stream",
       "stream": "stdout",
       "text": [
        "      name  grade\n",
        "0   Jordan      9\n",
        "1  Tiffany      9\n",
        "2    Logan     12\n",
        "\n",
        "[3 rows x 2 columns]\n"
       ]
      }
     ],
     "prompt_number": 6
    },
    {
     "cell_type": "markdown",
     "metadata": {},
     "source": [
      "> Question-5 : For every situation where student A likes student B, but we have no information about whom B likes (that is, B does not appear as an ID1 in the Likes table), return A and B's names and grades. "
     ]
    },
    {
     "cell_type": "code",
     "collapsed": false,
     "input": [
      "#SQL query\n",
      "qry = \"\"\"\n",
      "        SELECT hs1.name, hs1.grade, hs2.name, hs2.grade \n",
      "        FROM Highschooler hs1 \n",
      "        INNER JOIN Likes l1 ON l1.ID1=hs1.ID\n",
      "        INNER JOIN Highschooler hs2 ON l1.ID2=hs2.ID\n",
      "        WHERE hs2.ID NOT IN ( SELECT ID1 FROM Likes )\n",
      "      \"\"\"\n",
      "# get the data\n",
      "qDF = pandas.read_sql( qry, conn )\n",
      "# print the data\n",
      "print qDF"
     ],
     "language": "python",
     "metadata": {},
     "outputs": [
      {
       "output_type": "stream",
       "stream": "stdout",
       "text": [
        "       name  grade    name  grade\n",
        "0      John     12   Haley     10\n",
        "1  Brittany     10    Kris     10\n",
        "2    Alexis     11    Kris     10\n",
        "3    Austin     11  Jordan     12\n",
        "\n",
        "[4 rows x 4 columns]\n"
       ]
      }
     ],
     "prompt_number": 7
    },
    {
     "cell_type": "markdown",
     "metadata": {},
     "source": [
      "> Question-6 : Find names and grades of students who only have friends in the same grade. Return the result sorted by grade, then by name within each grade. "
     ]
    },
    {
     "cell_type": "code",
     "collapsed": false,
     "input": [
      "#SQL query\n",
      "qry = \"\"\"\n",
      "        SELECT name, grade FROM Highschooler WHERE ID NOT IN\n",
      "        (SELECT hs1.ID FROM Highschooler hs1\n",
      "        INNER JOIN Friend fr ON fr.ID1=hs1.ID\n",
      "        INNER JOIN Highschooler hs2 ON hs2.ID=fr.ID2\n",
      "        WHERE hs2.grade-hs1.grade != 0 )\n",
      "        ORDER BY grade, name\n",
      "      \"\"\"\n",
      "# get the data\n",
      "qDF = pandas.read_sql( qry, conn )\n",
      "# print the data\n",
      "print qDF"
     ],
     "language": "python",
     "metadata": {},
     "outputs": [
      {
       "output_type": "stream",
       "stream": "stdout",
       "text": [
        "       name  grade\n",
        "0    Jordan      9\n",
        "1  Brittany     10\n",
        "2     Haley     10\n",
        "3      Kris     10\n",
        "4   Gabriel     11\n",
        "5      John     12\n",
        "6     Logan     12\n",
        "\n",
        "[7 rows x 2 columns]\n"
       ]
      }
     ],
     "prompt_number": 8
    },
    {
     "cell_type": "markdown",
     "metadata": {},
     "source": [
      "> Question-7 : For each student A who likes a student B where the two are not friends, find if they have a friend C in common (who can introduce them!). For all such trios, return the name and grade of A, B, and C. "
     ]
    },
    {
     "cell_type": "code",
     "collapsed": false,
     "input": [
      "#SQL query\n",
      "qry = \"\"\"\n",
      "        SELECT hs1.name, hs1.grade, hs3.name, hs3.grade , hs2.name, hs2.grade\n",
      "        FROM Highschooler hs1\n",
      "        INNER JOIN Likes l1 ON l1.ID1=hs1.ID\n",
      "        LEFT JOIN Friend fl ON fl.ID1=l1.ID1 AND fl.ID2=l1.ID2\n",
      "        INNER JOIN Friend f1 ON f1.ID1=l1.ID1\n",
      "        INNER JOIN Friend f2 ON f2.ID1=l1.ID2 AND f2.ID2=f1.ID2\n",
      "        INNER JOIN Highschooler hs2 ON hs2.ID = f2.ID2\n",
      "        INNER JOIN Highschooler hs3 ON hs3.ID = f2.ID1\n",
      "        WHERE fl.ID2 IS NULL\n",
      "      \"\"\"\n",
      "# get the data\n",
      "qDF = pandas.read_sql( qry, conn )\n",
      "# print the data\n",
      "print qDF"
     ],
     "language": "python",
     "metadata": {},
     "outputs": [
      {
       "output_type": "stream",
       "stream": "stdout",
       "text": [
        "     name  grade       name  grade     name  grade\n",
        "0  Andrew     10  Cassandra      9  Gabriel      9\n",
        "1  Austin     11     Jordan     12   Andrew     10\n",
        "2  Austin     11     Jordan     12     Kyle     12\n",
        "\n",
        "[3 rows x 6 columns]\n"
       ]
      }
     ],
     "prompt_number": 9
    },
    {
     "cell_type": "markdown",
     "metadata": {},
     "source": [
      "> Question-8 : Find the difference between the number of students in the school and the number of different first names. "
     ]
    },
    {
     "cell_type": "code",
     "collapsed": false,
     "input": [
      "#SQL query\n",
      "qry = \"\"\"\n",
      "        SELECT COUNT(DISTINCT ID)-COUNT(DISTINCT name) FROM Highschooler\n",
      "      \"\"\"\n",
      "# get the data\n",
      "qDF = pandas.read_sql( qry, conn )\n",
      "# print the data\n",
      "print qDF"
     ],
     "language": "python",
     "metadata": {},
     "outputs": [
      {
       "output_type": "stream",
       "stream": "stdout",
       "text": [
        "   COUNT(DISTINCT ID)-COUNT(DISTINCT name)\n",
        "0                                        2\n",
        "\n",
        "[1 rows x 1 columns]\n"
       ]
      }
     ],
     "prompt_number": 10
    },
    {
     "cell_type": "markdown",
     "metadata": {},
     "source": [
      "> Question-9 : Find the name and grade of all students who are liked by more than one other student."
     ]
    },
    {
     "cell_type": "code",
     "collapsed": false,
     "input": [
      "#SQL query\n",
      "qry = \"\"\"\n",
      "        SELECT name, grade FROM Highschooler \n",
      "        WHERE ID IN\n",
      "        ( SELECT ID2 FROM Likes \n",
      "        GROUP BY ID2\n",
      "        HAVING COUNT(ID1) > 1 )\n",
      "      \"\"\"\n",
      "# get the data\n",
      "qDF = pandas.read_sql( qry, conn )\n",
      "# print the data\n",
      "print qDF"
     ],
     "language": "python",
     "metadata": {},
     "outputs": [
      {
       "output_type": "stream",
       "stream": "stdout",
       "text": [
        "        name  grade\n",
        "0  Cassandra      9\n",
        "1       Kris     10\n",
        "\n",
        "[2 rows x 2 columns]\n"
       ]
      }
     ],
     "prompt_number": 11
    }
   ],
   "metadata": {}
  }
 ]
}