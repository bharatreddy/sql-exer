{
 "metadata": {
  "name": "",
  "signature": "sha256:d1ec7822fe948f278604eacbf809cdeefc917aedb12e492b5a26485f8585f9db"
 },
 "nbformat": 3,
 "nbformat_minor": 0,
 "worksheets": [
  {
   "cells": [
    {
     "cell_type": "markdown",
     "metadata": {},
     "source": [
      "> SQL exercise questions from Courseera - Introduction to Databases course\n",
      ">> SQL Social-Network Query Exercises (core set)"
     ]
    },
    {
     "cell_type": "code",
     "collapsed": false,
     "input": [
      "import pandas\n",
      "import mysql.connector\n",
      "# set up connections to the DB\n",
      "conn = mysql.connector.Connect(host='localhost',user='root',\\\n",
      "                        password='',database='social')"
     ],
     "language": "python",
     "metadata": {},
     "outputs": [],
     "prompt_number": 4
    },
    {
     "cell_type": "code",
     "collapsed": false,
     "input": [
      "qry = \"\"\"\n",
      "        SELECT hs1.name FROM Highschooler hs1\n",
      "        INNER JOIN Friend fr1 ON fr1.ID1=hs1.ID\n",
      "        INNER JOIN Highschooler hs2 ON hs2.ID=fr1.ID2 \n",
      "        WHERE hs2.name='Gabriel'\n",
      "      \"\"\"\n",
      "\n",
      "qry = \"\"\"\n",
      "        SELECT hs1.name, hs1.grade, hs2.name, hs2.grade FROM Likes l1\n",
      "        INNER JOIN Highschooler hs1 ON l1.ID1=hs1.ID\n",
      "        INNER JOIN Highschooler hs2 ON l1.ID2=hs2.ID\n",
      "        WHERE hs1.grade-hs2.grade>=2\n",
      "      \"\"\"\n",
      "\n",
      "qry = \"\"\"\n",
      "        SELECT hs1.name, hs1.grade, hs2.name, hs2.grade FROM Likes l1\n",
      "        INNER JOIN Highschooler hs1 ON l1.ID1=hs1.ID\n",
      "        INNER JOIN Highschooler hs2 ON l1.ID2=hs2.ID\n",
      "        WHERE hs1.grade-hs2.grade>=2\n",
      "      \"\"\""
     ],
     "language": "python",
     "metadata": {},
     "outputs": []
    }
   ],
   "metadata": {}
  }
 ]
}