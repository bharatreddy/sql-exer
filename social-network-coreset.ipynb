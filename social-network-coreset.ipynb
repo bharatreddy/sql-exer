{
 "metadata": {
  "name": "",
  "signature": "sha256:e4524baa54ea528fe46cb26f496ea86ea7406c3f99bc877e7b4f6525632ae6d8"
 },
 "nbformat": 3,
 "nbformat_minor": 0,
 "worksheets": [
  {
   "cells": [
    {
     "cell_type": "markdown",
     "metadata": {},
     "source": [
      "> SQL exercise questions from Courseera - Introduction to Databases course\n",
      ">> SQL Social-Network Query Exercises (core set)"
     ]
    },
    {
     "cell_type": "code",
     "collapsed": false,
     "input": [
      "import pandas\n",
      "import mysql.connector\n",
      "# set up connections to the DB\n",
      "conn = mysql.connector.Connect(host='localhost',user='root',\\\n",
      "                        password='',database='social')"
     ],
     "language": "python",
     "metadata": {},
     "outputs": [],
     "prompt_number": 4
    },
    {
     "cell_type": "code",
     "collapsed": false,
     "input": [
      "qry = \"\"\"\n",
      "        SELECT hs1.name FROM Highschooler hs1\n",
      "        INNER JOIN Friend fr1 ON fr1.ID1=hs1.ID\n",
      "        INNER JOIN Highschooler hs2 ON hs2.ID=fr1.ID2 \n",
      "        WHERE hs2.name='Gabriel'\n",
      "      \"\"\"\n",
      "\n",
      "qry = \"\"\"\n",
      "        SELECT hs1.name, hs1.grade, hs2.name, hs2.grade FROM Likes l1\n",
      "        INNER JOIN Highschooler hs1 ON l1.ID1=hs1.ID\n",
      "        INNER JOIN Highschooler hs2 ON l1.ID2=hs2.ID\n",
      "        WHERE hs1.grade-hs2.grade>=2\n",
      "      \"\"\"\n",
      "\n",
      "qry = \"\"\"\n",
      "        SELECT hs1.name, hs1.grade, hs2.name, hs2.grade FROM Likes l1\n",
      "        INNER JOIN Likes l2 ON l1.ID1=l2.ID2 AND l1.ID2=l2.ID1\n",
      "        INNER JOIN Highschooler hs1 ON hs1.ID=l1.ID1\n",
      "        INNER JOIN Highschooler hs2 ON hs2.ID=l2.ID1\n",
      "        WHERE hs1.name < hs2.name\n",
      "      \"\"\"\n",
      "\n",
      "qry = \"\"\"\n",
      "        SELECT hs.name, hs.grade FROM Highschooler hs\n",
      "        LEFT JOIN Likes l1 ON l1.ID1=hs.ID OR l1.ID2=hs.ID\n",
      "        WHERE l1.ID1 IS NULL AND l1.ID2 IS NULL\n",
      "      \"\"\"\n",
      "\n",
      "qry = \"\"\"\n",
      "        SELECT hs1.name, hs1.grade, hs2.name, hs2.grade \n",
      "        FROM Highschooler hs1 \n",
      "        INNER JOIN Likes l1 ON l1.ID1=hs1.ID\n",
      "        INNER JOIN Highschooler hs2 ON l1.ID2=hs2.ID\n",
      "        WHERE hs2.ID NOT IN ( SELECT ID1 FROM Likes )\n",
      "      \"\"\"\n",
      "\n",
      "qry = \"\"\"\n",
      "        SELECT name, grade FROM Highschooler WHERE ID NOT IN\n",
      "        (SELECT hs1.ID FROM Highschooler hs1\n",
      "        INNER JOIN Friend fr ON fr.ID1=hs1.ID\n",
      "        INNER JOIN Highschooler hs2 ON hs2.ID=fr.ID2\n",
      "        WHERE hs2.grade-hs1.grade != 0 )\n",
      "        ORDER BY grade, name\n",
      "      \"\"\"\n",
      "\n",
      "qry = \"\"\"\n",
      "        SELECT hs1.name, hs1.grade, hs3.name, hs3.grade , hs2.name, hs2.grade\n",
      "        FROM Highschooler hs1\n",
      "        INNER JOIN Likes l1 ON l1.ID1=hs1.ID\n",
      "        LEFT JOIN Friend fl ON fl.ID1=l1.ID1 AND fl.ID2=l1.ID2\n",
      "        INNER JOIN Friend f1 ON f1.ID1=l1.ID1\n",
      "        INNER JOIN Friend f2 ON f2.ID1=l1.ID2 AND f2.ID2=f1.ID2\n",
      "        INNER JOIN Highschooler hs2 ON hs2.ID = f2.ID2\n",
      "        INNER JOIN Highschooler hs3 ON hs3.ID = f2.ID1\n",
      "        WHERE fl.ID2 IS NULL\n",
      "      \"\"\"\n",
      "\n",
      "qry = \"\"\"\n",
      "        SELECT COUNT(DISTINCT ID)-COUNT(DISTINCT name) FROM Highschooler\n",
      "      \"\"\"\n",
      "\n",
      "qry = \"\"\"\n",
      "        SELECT name, grade FROM Highschooler \n",
      "        WHERE ID IN\n",
      "        ( SELECT ID2 FROM Likes \n",
      "        GROUP BY ID2\n",
      "        HAVING COUNT(ID1) > 1 )\n",
      "      \"\"\""
     ],
     "language": "python",
     "metadata": {},
     "outputs": []
    }
   ],
   "metadata": {}
  }
 ]
}