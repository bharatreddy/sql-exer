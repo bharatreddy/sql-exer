{
 "metadata": {
  "name": "",
  "signature": "sha256:5e30150f9f1feaf502af1553a1781b9f36d74ca5ce4750aa25762d247e5bfc92"
 },
 "nbformat": 3,
 "nbformat_minor": 0,
 "worksheets": [
  {
   "cells": [
    {
     "cell_type": "markdown",
     "metadata": {},
     "source": [
      "> SQL exercise questions from Courseera - Introduction to Databases course\n",
      ">> SQL Social-Network Query Exercises (core set)"
     ]
    },
    {
     "cell_type": "code",
     "collapsed": false,
     "input": [
      "import pandas\n",
      "import mysql.connector\n",
      "# set up connections to the DB\n",
      "conn = mysql.connector.Connect(host='localhost',user='root',\\\n",
      "                        password='',database='social')"
     ],
     "language": "python",
     "metadata": {},
     "outputs": [],
     "prompt_number": 13
    },
    {
     "cell_type": "code",
     "collapsed": false,
     "input": [
      "import pandas\n",
      "import mysql.connector\n",
      "# set up connections to the DB\n",
      "conn = mysql.connector.Connect(host='localhost',user='root',\\\n",
      "                        password='',database='social')\n",
      "#LOAD the SQL tables into DF\n",
      "qryFr = \"\"\"\n",
      "        SELECT * From Friend\n",
      "      \"\"\"\n",
      "qryHs = \"\"\"\n",
      "        SELECT * From Highschooler\n",
      "      \"\"\"\n",
      "qryLi = \"\"\"\n",
      "        SELECT * From Likes\n",
      "      \"\"\"\n",
      "frndDF = pandas.read_sql( qryFr, conn )\n",
      "hsDF = pandas.read_sql( qryHs, conn )\n",
      "likesDF = pandas.read_sql( qryLi, conn )"
     ],
     "language": "python",
     "metadata": {},
     "outputs": [],
     "prompt_number": 14
    },
    {
     "cell_type": "markdown",
     "metadata": {},
     "source": [
      "## Question-1 : Find the names of all students who are friends with someone named Gabriel."
     ]
    },
    {
     "cell_type": "markdown",
     "metadata": {},
     "source": [
      "### Solution using SQL."
     ]
    },
    {
     "cell_type": "code",
     "collapsed": false,
     "input": [
      "#SQL query\n",
      "qry = \"\"\"\n",
      "        SELECT hs1.name FROM Highschooler hs1\n",
      "        INNER JOIN Friend fr1 ON fr1.ID1=hs1.ID\n",
      "        INNER JOIN Highschooler hs2 ON hs2.ID=fr1.ID2 \n",
      "        WHERE hs2.name='Gabriel'\n",
      "      \"\"\"\n",
      "# get the data\n",
      "qDF = pandas.read_sql( qry, conn )\n",
      "# print the data\n",
      "print qDF"
     ],
     "language": "python",
     "metadata": {},
     "outputs": [
      {
       "output_type": "stream",
       "stream": "stdout",
       "text": [
        "        name\n",
        "0     Jordan\n",
        "1     Alexis\n",
        "2  Cassandra\n",
        "3     Andrew\n",
        "4    Jessica\n",
        "\n",
        "[5 rows x 1 columns]\n"
       ]
      }
     ],
     "prompt_number": 15
    },
    {
     "cell_type": "markdown",
     "metadata": {},
     "source": [
      "### Solution using Pandas.\n",
      "> Methods used : merge(inner, using left_on, right_on), tolist(), isin()"
     ]
    },
    {
     "cell_type": "code",
     "collapsed": false,
     "input": [
      "# First merge the ID col of hsDF with ID1 of frndDF\n",
      "resDF = pandas.merge( hsDF, frndDF, \\\n",
      "                     left_on = 'ID',\\\n",
      "                     right_on = 'ID1', how='inner')\n",
      "# select the 'ID2' cols for rows which have name='Gabriel'\n",
      "frndIDs = resDF[ resDF['name'] == 'Gabriel' ]['ID2']\\\n",
      "            .tolist()\n",
      "# Now from hsDF get the names of frndIDs\n",
      "frndNames = hsDF[ hsDF['ID'].isin(frndIDs) ]\n",
      "print frndNames['name']\n",
      "#SQL query"
     ],
     "language": "python",
     "metadata": {},
     "outputs": [
      {
       "output_type": "stream",
       "stream": "stdout",
       "text": [
        "0        Jordan\n",
        "3     Cassandra\n",
        "5        Andrew\n",
        "8        Alexis\n",
        "11      Jessica\n",
        "Name: name, dtype: object\n"
       ]
      }
     ],
     "prompt_number": 16
    },
    {
     "cell_type": "markdown",
     "metadata": {},
     "source": [
      "## Question-2 : For every student who likes someone 2 or more grades younger than themselves, return that student's name and grade, and the name and grade of the student they like. "
     ]
    },
    {
     "cell_type": "markdown",
     "metadata": {},
     "source": [
      "### Solution using SQL."
     ]
    },
    {
     "cell_type": "code",
     "collapsed": false,
     "input": [
      "#SQL query\n",
      "qry = \"\"\"\n",
      "        SELECT hs1.name, hs1.grade, hs2.name, hs2.grade FROM Likes l1\n",
      "        INNER JOIN Highschooler hs1 ON l1.ID1=hs1.ID\n",
      "        INNER JOIN Highschooler hs2 ON l1.ID2=hs2.ID\n",
      "        WHERE hs1.grade-hs2.grade>=2\n",
      "      \"\"\"\n",
      "# get the data\n",
      "qDF = pandas.read_sql( qry, conn )\n",
      "# print the data\n",
      "print qDF"
     ],
     "language": "python",
     "metadata": {},
     "outputs": [
      {
       "output_type": "stream",
       "stream": "stdout",
       "text": [
        "   name  grade   name  grade\n",
        "0  John     12  Haley     10\n",
        "\n",
        "[1 rows x 4 columns]\n"
       ]
      }
     ],
     "prompt_number": 17
    },
    {
     "cell_type": "markdown",
     "metadata": {},
     "source": [
      "### Solution using Pandas.\n",
      "> Methods used : merge(inner, using left_on and right_on)"
     ]
    },
    {
     "cell_type": "code",
     "collapsed": false,
     "input": [
      "# First merge the ID col of hsDF with ID1 of likesDF\n",
      "resDF = pandas.merge( hsDF, likesDF, \\\n",
      "                     left_on = 'ID',\\\n",
      "                     right_on = 'ID1', how='inner')\n",
      "# Now merge hsDF again with resDF on ID2\n",
      "resDF = pandas.merge( resDF, hsDF, \\\n",
      "                     left_on = 'ID2',\\\n",
      "                     right_on = 'ID', how='inner')\n",
      "# Now select rows which satisfy greater than 2 grades condition\n",
      "resDF = resDF[ resDF['grade_x'] - resDF['grade_y'] >= 2 ].\\\n",
      "        reset_index(drop=True)\n",
      "# select the required cols\n",
      "resDF = resDF[ [ 'name_x', 'grade_x', 'name_y', 'grade_y' ] ]\n",
      "print resDF"
     ],
     "language": "python",
     "metadata": {},
     "outputs": [
      {
       "output_type": "stream",
       "stream": "stdout",
       "text": [
        "  name_x  grade_x name_y  grade_y\n",
        "0   John       12  Haley       10\n",
        "\n",
        "[1 rows x 4 columns]\n"
       ]
      }
     ],
     "prompt_number": 18
    },
    {
     "cell_type": "markdown",
     "metadata": {},
     "source": [
      "## Question-3 : For every pair of students who both like each other, return the name and grade of both students. Include each pair only once, with the two names in alphabetical order."
     ]
    },
    {
     "cell_type": "markdown",
     "metadata": {},
     "source": [
      "### Solution using SQL."
     ]
    },
    {
     "cell_type": "code",
     "collapsed": false,
     "input": [
      "#SQL query\n",
      "qry = \"\"\"\n",
      "        SELECT hs1.name, hs1.grade, hs2.name, hs2.grade FROM Likes l1\n",
      "        INNER JOIN Likes l2 ON l1.ID1=l2.ID2 AND l1.ID2=l2.ID1\n",
      "        INNER JOIN Highschooler hs1 ON hs1.ID=l1.ID1\n",
      "        INNER JOIN Highschooler hs2 ON hs2.ID=l2.ID1\n",
      "        WHERE hs1.name < hs2.name\n",
      "      \"\"\"\n",
      "# get the data\n",
      "qDF = pandas.read_sql( qry, conn )\n",
      "# print the data\n",
      "print qDF"
     ],
     "language": "python",
     "metadata": {},
     "outputs": [
      {
       "output_type": "stream",
       "stream": "stdout",
       "text": [
        "        name  grade     name  grade\n",
        "0  Cassandra      9  Gabriel      9\n",
        "1    Jessica     11     Kyle     12\n",
        "\n",
        "[2 rows x 4 columns]\n"
       ]
      }
     ],
     "prompt_number": 19
    },
    {
     "cell_type": "markdown",
     "metadata": {},
     "source": [
      "### Solution using Pandas.\n",
      "> Methods used : merge(inner, self, using left_on and right_on)"
     ]
    },
    {
     "cell_type": "code",
     "collapsed": false,
     "input": [
      "# First merge likesDF with itself\n",
      "resDF = pandas.merge( likesDF, likesDF, \\\n",
      "                     left_on = 'ID1',\\\n",
      "                     right_on = 'ID2', how='inner' )\n",
      "# select the rows where ID2_x = ID1_y\n",
      "resDF = resDF[ resDF['ID2_x'] == resDF['ID1_y'] ].\\\n",
      "        reset_index(drop=True)\n",
      "# merge hsDF with resDF on ID1_x and also with ID2_x\n",
      "resDF = pandas.merge( resDF, hsDF, \\\n",
      "                     left_on = 'ID1_x',\\\n",
      "                     right_on = 'ID', how='inner' )\n",
      "resDF = pandas.merge( resDF, hsDF, \\\n",
      "                     left_on = 'ID2_x',\\\n",
      "                     right_on = 'ID', how='inner' )\n",
      "# get name_x, name_y cols from rows where name_x < name_y\n",
      "resDF = resDF[ resDF['name_x'] < resDF['name_y'] ]\\\n",
      "        [ ['name_x', 'grade_x','name_y', 'grade_y'] ]\n",
      "print resDF"
     ],
     "language": "python",
     "metadata": {},
     "outputs": [
      {
       "output_type": "stream",
       "stream": "stdout",
       "text": [
        "      name_x  grade_x   name_y  grade_y\n",
        "1  Cassandra        9  Gabriel        9\n",
        "2    Jessica       11     Kyle       12\n",
        "\n",
        "[2 rows x 4 columns]\n"
       ]
      }
     ],
     "prompt_number": 20
    },
    {
     "cell_type": "markdown",
     "metadata": {},
     "source": [
      "## Question-4 : Find all students who do not appear in the Likes table (as a student who likes or is liked) and return their names and grades. Sort by grade, then by name within each grade."
     ]
    },
    {
     "cell_type": "markdown",
     "metadata": {},
     "source": [
      "### Solution using SQL."
     ]
    },
    {
     "cell_type": "code",
     "collapsed": false,
     "input": [
      "#SQL query\n",
      "qry = \"\"\"\n",
      "        SELECT hs.name, hs.grade FROM Highschooler hs\n",
      "        LEFT JOIN Likes l1 ON l1.ID1=hs.ID OR l1.ID2=hs.ID\n",
      "        WHERE l1.ID1 IS NULL AND l1.ID2 IS NULL\n",
      "      \"\"\"\n",
      "# get the data\n",
      "qDF = pandas.read_sql( qry, conn )\n",
      "# print the data\n",
      "print qDF"
     ],
     "language": "python",
     "metadata": {},
     "outputs": [
      {
       "output_type": "stream",
       "stream": "stdout",
       "text": [
        "      name  grade\n",
        "0   Jordan      9\n",
        "1  Tiffany      9\n",
        "2    Logan     12\n",
        "\n",
        "[3 rows x 2 columns]\n"
       ]
      }
     ],
     "prompt_number": 21
    },
    {
     "cell_type": "markdown",
     "metadata": {},
     "source": [
      "### Solution using Pandas.\n",
      "> Methods used : tolist(), isin()"
     ]
    },
    {
     "cell_type": "code",
     "collapsed": false,
     "input": [
      "# Get a unique list of all IDs (both ID1 and ID2) in likesDF\n",
      "likeIds = set( likesDF['ID1'].tolist() + likesDF['ID2'].tolist() )\n",
      "# get names/grades from hsDF\n",
      "resDF = hsDF[ ~hsDF['ID'].isin(likeIds) ][['name', 'grade']].\\\n",
      "        reset_index(drop=True)\n",
      "print resDF"
     ],
     "language": "python",
     "metadata": {},
     "outputs": [
      {
       "output_type": "stream",
       "stream": "stdout",
       "text": [
        "      name  grade\n",
        "0   Jordan      9\n",
        "1  Tiffany      9\n",
        "2    Logan     12\n",
        "\n",
        "[3 rows x 2 columns]\n"
       ]
      }
     ],
     "prompt_number": 22
    },
    {
     "cell_type": "markdown",
     "metadata": {},
     "source": [
      "## Question-5 : For every situation where student A likes student B, but we have no information about whom B likes (that is, B does not appear as an ID1 in the Likes table), return A and B's names and grades. "
     ]
    },
    {
     "cell_type": "markdown",
     "metadata": {},
     "source": [
      "### Solution using SQL."
     ]
    },
    {
     "cell_type": "code",
     "collapsed": false,
     "input": [
      "#SQL query\n",
      "qry = \"\"\"\n",
      "        SELECT hs1.name, hs1.grade, hs2.name, hs2.grade \n",
      "        FROM Highschooler hs1 \n",
      "        INNER JOIN Likes l1 ON l1.ID1=hs1.ID\n",
      "        INNER JOIN Highschooler hs2 ON l1.ID2=hs2.ID\n",
      "        WHERE hs2.ID NOT IN ( SELECT ID1 FROM Likes )\n",
      "      \"\"\"\n",
      "# get the data\n",
      "qDF = pandas.read_sql( qry, conn )\n",
      "# print the data\n",
      "print qDF"
     ],
     "language": "python",
     "metadata": {},
     "outputs": [
      {
       "output_type": "stream",
       "stream": "stdout",
       "text": [
        "       name  grade    name  grade\n",
        "0      John     12   Haley     10\n",
        "1  Brittany     10    Kris     10\n",
        "2    Alexis     11    Kris     10\n",
        "3    Austin     11  Jordan     12\n",
        "\n",
        "[4 rows x 4 columns]\n"
       ]
      }
     ],
     "prompt_number": 23
    },
    {
     "cell_type": "markdown",
     "metadata": {},
     "source": [
      "### Solution using Pandas.\n",
      "> Methods used : tolist(), merge(inner, using left_on and right_on)"
     ]
    },
    {
     "cell_type": "code",
     "collapsed": false,
     "input": [
      "# Get list of all ID1 from likesDF\n",
      "likesId1 = set( likesDF['ID1'].tolist() )\n",
      "# merge likesDF with hsDF on ID1\n",
      "resDF = pandas.merge( hsDF, likesDF, \\\n",
      "                     left_on = 'ID',\\\n",
      "                     right_on = 'ID1', how='inner' )\n",
      "# Now merge resDF with hsDF on ID2\n",
      "resDF = pandas.merge( resDF, hsDF, \\\n",
      "                     left_on = 'ID2',\\\n",
      "                     right_on = 'ID', how='inner' )\n",
      "# Now get all rows which dont have likesId1 in ID2 col\n",
      "resDF = resDF[ ~resDF['ID2'].isin(likesId1) ].\\\n",
      "        reset_index(drop=True)\n",
      "# filter required cols\n",
      "resDF = resDF[ ['name_x', 'grade_x', 'name_y', 'grade_y' ] ]\n",
      "print resDF"
     ],
     "language": "python",
     "metadata": {},
     "outputs": [
      {
       "output_type": "stream",
       "stream": "stdout",
       "text": [
        "     name_x  grade_x  name_y  grade_y\n",
        "0  Brittany       10    Kris       10\n",
        "1    Alexis       11    Kris       10\n",
        "2    Austin       11  Jordan       12\n",
        "3      John       12   Haley       10\n",
        "\n",
        "[4 rows x 4 columns]\n"
       ]
      }
     ],
     "prompt_number": 24
    },
    {
     "cell_type": "markdown",
     "metadata": {},
     "source": [
      "## Question-6 : Find names and grades of students who only have friends in the same grade. Return the result sorted by grade, then by name within each grade. "
     ]
    },
    {
     "cell_type": "markdown",
     "metadata": {},
     "source": [
      "### Solution using SQL."
     ]
    },
    {
     "cell_type": "code",
     "collapsed": false,
     "input": [
      "#SQL query\n",
      "qry = \"\"\"\n",
      "        SELECT name, grade FROM Highschooler WHERE ID NOT IN\n",
      "        (SELECT hs1.ID FROM Highschooler hs1\n",
      "        INNER JOIN Friend fr ON fr.ID1=hs1.ID\n",
      "        INNER JOIN Highschooler hs2 ON hs2.ID=fr.ID2\n",
      "        WHERE hs2.grade-hs1.grade != 0 )\n",
      "        ORDER BY grade, name\n",
      "      \"\"\"\n",
      "# get the data\n",
      "qDF = pandas.read_sql( qry, conn )\n",
      "# print the data\n",
      "print qDF"
     ],
     "language": "python",
     "metadata": {},
     "outputs": [
      {
       "output_type": "stream",
       "stream": "stdout",
       "text": [
        "       name  grade\n",
        "0    Jordan      9\n",
        "1  Brittany     10\n",
        "2     Haley     10\n",
        "3      Kris     10\n",
        "4   Gabriel     11\n",
        "5      John     12\n",
        "6     Logan     12\n",
        "\n",
        "[7 rows x 2 columns]\n"
       ]
      }
     ],
     "prompt_number": 25
    },
    {
     "cell_type": "markdown",
     "metadata": {},
     "source": [
      "### Solution using Pandas.\n",
      "> Methods used : tolist(), merge(), isin(), drop_duplicates()"
     ]
    },
    {
     "cell_type": "code",
     "collapsed": false,
     "input": [
      "# Merge frndDF with hsDF on ID1 and ID2 seperately\n",
      "resDF = pandas.merge( hsDF, frndDF, \\\n",
      "                     left_on = 'ID',\\\n",
      "                     right_on = 'ID1', how='inner' )\n",
      "resDF = pandas.merge( resDF, hsDF, \\\n",
      "                     left_on = 'ID2',\\\n",
      "                     right_on = 'ID', how='inner' )\n",
      "# select the rows where friends are in different grades\n",
      "id1List = resDF[ resDF['grade_x'] - resDF['grade_y'] != 0 ]['ID1']\n",
      "# Now select rows which are not in rowNums\n",
      "# also filter the cols\n",
      "resDF = resDF[ ~resDF['ID1'].isin(id1List) ]\\\n",
      "        [ ['name_x', 'grade_x'] ]\\\n",
      "    .drop_duplicates()\\\n",
      "    .reset_index(drop=True)\n",
      "    \n",
      "print resDF.sort( ['grade_x', 'name_x'] )"
     ],
     "language": "python",
     "metadata": {},
     "outputs": [
      {
       "output_type": "stream",
       "stream": "stdout",
       "text": [
        "     name_x  grade_x\n",
        "0    Jordan        9\n",
        "4  Brittany       10\n",
        "3     Haley       10\n",
        "1      Kris       10\n",
        "2   Gabriel       11\n",
        "6      John       12\n",
        "5     Logan       12\n",
        "\n",
        "[7 rows x 2 columns]\n"
       ]
      }
     ],
     "prompt_number": 26
    },
    {
     "cell_type": "markdown",
     "metadata": {},
     "source": [
      "## Question-7 : For each student A who likes a student B where the two are not friends, find if they have a friend C in common (who can introduce them!). For all such trios, return the name and grade of A, B, and C. "
     ]
    },
    {
     "cell_type": "markdown",
     "metadata": {},
     "source": [
      "### Solution using SQL."
     ]
    },
    {
     "cell_type": "code",
     "collapsed": false,
     "input": [
      "#SQL query\n",
      "qry = \"\"\"\n",
      "        SELECT hs1.name, hs1.grade, hs3.name, hs3.grade , hs2.name, hs2.grade\n",
      "        FROM Highschooler hs1\n",
      "        INNER JOIN Likes l1 ON l1.ID1=hs1.ID\n",
      "        LEFT JOIN Friend fl ON fl.ID1=l1.ID1 AND fl.ID2=l1.ID2\n",
      "        INNER JOIN Friend f1 ON f1.ID1=l1.ID1\n",
      "        INNER JOIN Friend f2 ON f2.ID1=l1.ID2 AND f2.ID2=f1.ID2\n",
      "        INNER JOIN Highschooler hs2 ON hs2.ID = f2.ID2\n",
      "        INNER JOIN Highschooler hs3 ON hs3.ID = f2.ID1\n",
      "        WHERE fl.ID2 IS NULL\n",
      "      \"\"\"\n",
      "# get the data\n",
      "qDF = pandas.read_sql( qry, conn )\n",
      "# print the data\n",
      "print qDF"
     ],
     "language": "python",
     "metadata": {},
     "outputs": [
      {
       "output_type": "stream",
       "stream": "stdout",
       "text": [
        "     name  grade       name  grade     name  grade\n",
        "0  Andrew     10  Cassandra      9  Gabriel      9\n",
        "1  Austin     11     Jordan     12   Andrew     10\n",
        "2  Austin     11     Jordan     12     Kyle     12\n",
        "\n",
        "[3 rows x 6 columns]\n"
       ]
      }
     ],
     "prompt_number": 27
    },
    {
     "cell_type": "markdown",
     "metadata": {},
     "source": [
      "### Solution using Pandas.\n",
      "> Methods used : merge()"
     ]
    },
    {
     "cell_type": "code",
     "collapsed": false,
     "input": [
      "# Merge frndDF with hsDF on ID1 and ID2 seperately\n",
      "resFrndDF = pandas.merge( hsDF, frndDF, \\\n",
      "                     left_on = 'ID',\\\n",
      "                     right_on = 'ID1', how='inner' )\n",
      "resFrndDF = pandas.merge( resFrndDF, hsDF, \\\n",
      "                     left_on = 'ID2',\\\n",
      "                     right_on = 'ID', how='inner' )\n",
      "# Merge likesDF with hsDF on ID1 and ID2 seperately\n",
      "resLikesDF = pandas.merge( hsDF, likesDF, \\\n",
      "                     left_on = 'ID',\\\n",
      "                     right_on = 'ID1', how='inner' )\n",
      "resLikesDF = pandas.merge( resLikesDF, hsDF, \\\n",
      "                     left_on = 'ID2',\\\n",
      "                     right_on = 'ID', how='inner' )\n",
      "# Merge the resLikesDF, resFrndDF on ID1, ID2\n",
      "resDF = pandas.merge( resLikesDF, resFrndDF, \\\n",
      "                     left_on = ['ID1', 'ID2'],\\\n",
      "                     right_on = ['ID1', 'ID2'], how='left' )\n",
      "# Get the rows with Null values in ID_x_y\n",
      "# Merge resDF with frndDF\n",
      "resDF = resDF[ resDF['ID_x_y'].isnull() ].\\\n",
      "        reset_index(drop=True)\n",
      "# Now we have a DF containing students in like table\n",
      "# but not are not in frnds table.\n",
      "# drop un-necessary cols\n",
      "resDF = resDF[ ['ID_x_x', 'name_x_x', \\\n",
      "                'grade_x_x', 'ID_y_x', 'name_y_x', \\\n",
      "                'grade_y_x'] ]\n",
      "# Make a new DF merging resDF with Frnd on ID1, ID_x_x\n",
      "resDFIdx = pandas.merge( resDF, frndDF,\\\n",
      "                     left_on = 'ID_x_x',\\\n",
      "                     right_on = 'ID1', how='inner' )\n",
      "# Make another DF merging resDF with Frnd on ID1, ID_y_x\n",
      "resDFIdy = pandas.merge( resDF, frndDF,\\\n",
      "                     left_on = 'ID_y_x',\\\n",
      "                     right_on = 'ID1', how='inner' )\n",
      "# Merge the new DF's on ID2\n",
      "resDF = pandas.merge( resDFIdx, resDFIdy,\\\n",
      "                     on = 'ID2', how='inner' )\n",
      "# to actually get the names of common friends\n",
      "# merge resDF with hsDF ( on ID2 )\n",
      "resDF = pandas.merge( resDF, hsDF,\\\n",
      "                     left_on = 'ID2',\\\n",
      "                     right_on = 'ID', how='inner' )\n",
      "# filter the results\n",
      "resDF = resDF[ (resDF['name_x_x_x'] == resDF['name_x_x_y']) & \\\n",
      "              (resDF['name_y_x_x'] == resDF['name_y_x_y']) ]\n",
      "# get the req cols\n",
      "resDF = resDF[ ['name_x_x_x', 'grade_x_x_x',\\\n",
      "                 'name_y_x_x', 'grade_y_x_x',\\\n",
      "                'name', 'grade'] ]\n",
      "print resDF"
     ],
     "language": "python",
     "metadata": {},
     "outputs": [
      {
       "output_type": "stream",
       "stream": "stdout",
       "text": [
        "  name_x_x_x  grade_x_x_x name_y_x_x  grade_y_x_x     name  grade\n",
        "1     Andrew           10  Cassandra            9  Gabriel      9\n",
        "2     Austin           11     Jordan           12     Kyle     12\n",
        "4     Austin           11     Jordan           12   Andrew     10\n",
        "\n",
        "[3 rows x 6 columns]\n"
       ]
      }
     ],
     "prompt_number": 28
    },
    {
     "cell_type": "markdown",
     "metadata": {},
     "source": [
      "## Question-8 : Find the difference between the number of students in the school and the number of different first names. "
     ]
    },
    {
     "cell_type": "markdown",
     "metadata": {},
     "source": [
      "### Solution using SQL."
     ]
    },
    {
     "cell_type": "code",
     "collapsed": false,
     "input": [
      "#SQL query\n",
      "qry = \"\"\"\n",
      "        SELECT COUNT(DISTINCT ID)-COUNT(DISTINCT name) FROM Highschooler\n",
      "      \"\"\"\n",
      "# get the data\n",
      "qDF = pandas.read_sql( qry, conn )\n",
      "# print the data\n",
      "print qDF"
     ],
     "language": "python",
     "metadata": {},
     "outputs": [
      {
       "output_type": "stream",
       "stream": "stdout",
       "text": [
        "   COUNT(DISTINCT ID)-COUNT(DISTINCT name)\n",
        "0                                        2\n",
        "\n",
        "[1 rows x 1 columns]\n"
       ]
      }
     ],
     "prompt_number": 29
    },
    {
     "cell_type": "markdown",
     "metadata": {},
     "source": [
      "### Solution using Pandas.\n",
      "> Methods used : nunique()"
     ]
    },
    {
     "cell_type": "code",
     "collapsed": false,
     "input": [
      "# We can use nunique function on columns\n",
      "print hsDF['ID'].nunique() - hsDF['name'].nunique()"
     ],
     "language": "python",
     "metadata": {},
     "outputs": [
      {
       "output_type": "stream",
       "stream": "stdout",
       "text": [
        "2\n"
       ]
      }
     ],
     "prompt_number": 30
    },
    {
     "cell_type": "markdown",
     "metadata": {},
     "source": [
      "## Question-9 : Find the name and grade of all students who are liked by more than one other student."
     ]
    },
    {
     "cell_type": "markdown",
     "metadata": {},
     "source": [
      "### Solution using SQL."
     ]
    },
    {
     "cell_type": "code",
     "collapsed": false,
     "input": [
      "#SQL query\n",
      "qry = \"\"\"\n",
      "        SELECT name, grade FROM Highschooler \n",
      "        WHERE ID IN\n",
      "        ( SELECT ID2 FROM Likes \n",
      "        GROUP BY ID2\n",
      "        HAVING COUNT(ID1) > 1 )\n",
      "      \"\"\"\n",
      "# get the data\n",
      "qDF = pandas.read_sql( qry, conn )\n",
      "# print the data\n",
      "print qDF"
     ],
     "language": "python",
     "metadata": {},
     "outputs": [
      {
       "output_type": "stream",
       "stream": "stdout",
       "text": [
        "        name  grade\n",
        "0  Cassandra      9\n",
        "1       Kris     10\n",
        "\n",
        "[2 rows x 2 columns]\n"
       ]
      }
     ],
     "prompt_number": 31
    },
    {
     "cell_type": "markdown",
     "metadata": {},
     "source": [
      "### Solution using Pandas.\n",
      "> Methods used : groupby(), count(), isin()"
     ]
    },
    {
     "cell_type": "code",
     "collapsed": false,
     "input": [
      "# Groupby likesDF\n",
      "likeGroups = likesDF.groupby( 'ID2' )\n",
      "# get the num of likes for each person\n",
      "nLikes = likeGroups['ID1'].count()\n",
      "# get ID's where count > 1\n",
      "nLikes = nLikes[ nLikes > 1 ]\n",
      "# get the index values from nLikes\n",
      "# then get corresponding details from hsDF \n",
      "# about the ID\n",
      "idList = nLikes.index.values\n",
      "resDF = hsDF[ hsDF['ID'].isin(idList) ]\n",
      "print resDF[ ['name', 'grade'] ].reset_index(drop=True)"
     ],
     "language": "python",
     "metadata": {},
     "outputs": [
      {
       "output_type": "stream",
       "stream": "stdout",
       "text": [
        "        name  grade\n",
        "0  Cassandra      9\n",
        "1       Kris     10\n",
        "\n",
        "[2 rows x 2 columns]\n"
       ]
      }
     ],
     "prompt_number": 32
    }
   ],
   "metadata": {}
  }
 ]
}